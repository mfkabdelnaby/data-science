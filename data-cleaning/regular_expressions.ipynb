{
 "cells": [
  {
   "cell_type": "markdown",
   "metadata": {
    "toc": true
   },
   "source": [
    "<h1>Table of Contents<span class=\"tocSkip\"></span></h1>\n",
    "<div class=\"toc\"><ul class=\"toc-item\"><li><span><a href=\"#Regular-Expressions\" data-toc-modified-id=\"Regular-Expressions-1\">Regular Expressions</a></span><ul class=\"toc-item\"><li><span><a href=\"#Metacharacters\" data-toc-modified-id=\"Metacharacters-1.1\">Metacharacters</a></span></li><li><span><a href=\"#Extracting-numerical-values-from-strings\" data-toc-modified-id=\"Extracting-numerical-values-from-strings-1.2\">Extracting numerical values from strings</a></span><ul class=\"toc-item\"><li><span><a href=\"#Using-regular-expression-to-tidy-up-fields-in-the-data\" data-toc-modified-id=\"Using-regular-expression-to-tidy-up-fields-in-the-data-1.2.1\">Using regular expression to tidy-up fields in the data</a></span><ul class=\"toc-item\"><li><span><a href=\"#Use-regular-expressions-to-clean-dates\" data-toc-modified-id=\"Use-regular-expressions-to-clean-dates-1.2.1.1\">Use regular expressions to clean dates</a></span></li><li><span><a href=\"#Use-Regular-Expressions-to-clean-country-spellings\" data-toc-modified-id=\"Use-Regular-Expressions-to-clean-country-spellings-1.2.1.2\">Use Regular Expressions to clean country spellings</a></span></li></ul></li></ul></li></ul></li></ul></div>"
   ]
  },
  {
   "cell_type": "markdown",
   "metadata": {},
   "source": [
    "# Regular Expressions"
   ]
  },
  {
   "cell_type": "markdown",
   "metadata": {},
   "source": [
    "## Metacharacters\n",
    "\n",
    "| Character | Description                                          | Example       |                                                                              |\n",
    "|-----------|------------------------------------------------------|---------------|------------------------------------------------------------------------------|\n",
    "| []        | A set of characters                                  | \"[a-m]\"       | Lowercase characters from a to m                                             |\n",
    "| \\         | Signals a special sequence/escape special characters | \"\\d\"          | Digit characters                                                             |                                                                     \n",
    "| .         | Any character                                        | \"he..o\"       | Sequence that starts with \"he\", followed by two (any) characters, and an \"o\" |\n",
    "| ^         | Starts with                                          | \"^hello\"      | string starts with 'hello'                                                   |\n",
    "| $         | Ends with                                            | \"world\"      | string ends with 'world'                                                     |\n",
    "| *         | Zero or more occurrences                             | \"aix*\"        | string contains \"ai\" followed by 0 or more \"x\" characters                    |\n",
    "| +         | One or more occurrences                              | \"aix+\"        | string contains \"ai\" followed by 1 or more \"x\" characters                    |\n",
    "| {}        | Exactly the specified number of occurrences          | \"al{2}\"       | string contains \"a\" followed by exactly two \"l\" characters                   |\n",
    "| |      | Either or                                 |                                 |\n",
    "| ()         | Grouping                                           |          |                          \n",
    "\n",
    "For more info check this [link](https://www.w3schools.com/python/python_regex.asp)"
   ]
  },
  {
   "cell_type": "markdown",
   "metadata": {},
   "source": [
    "First, let's introduce the *regular expression* to define patterns to match strings\n",
    "\n",
    "For this, we need to `import re` which is a regular expression module in Python\n",
    "\n",
    "* **`re.compile()`**\n",
    "* **`re.match()`**\n",
    "\n",
    "**Exercise-1:** define a regular expression to match US phone numbers that fit the pattern of `xxx-xxx-xxxx`"
   ]
  },
  {
   "cell_type": "code",
   "execution_count": 3,
   "metadata": {},
   "outputs": [],
   "source": [
    "# notebook imports\n",
    "\n",
    "import pandas as pd\n",
    "import numpy as np\n",
    "import re\n",
    "\n",
    "import numpy as np\n",
    "import matplotlib.pyplot as plt"
   ]
  },
  {
   "cell_type": "code",
   "execution_count": 14,
   "metadata": {},
   "outputs": [
    {
     "name": "stdout",
     "output_type": "stream",
     "text": [
      "True\n",
      "False\n"
     ]
    }
   ],
   "source": [
    "# Import the regular expression module\n",
    "import re\n",
    "\n",
    "# Compile the pattern: prog\n",
    "prog = re.compile('\\d{3}-\\d{3}-\\d{4}')\n",
    "\n",
    "# See if the pattern matches\n",
    "result = prog.match('123-456-7890')\n",
    "print(bool(result))\n",
    "\n",
    "# See if the pattern matches\n",
    "result2 = prog.match('1123-456-7890')\n",
    "print(bool(result2))\n"
   ]
  },
  {
   "cell_type": "markdown",
   "metadata": {},
   "source": [
    "\n",
    "\n",
    "## Extracting numerical values from strings\n",
    "When using a regular expression to extract multiple numbers (or multiple pattern matches, to be exact), you can use:\n",
    "\n",
    "* **`re.findall()`**: returns a list that contains all matches"
   ]
  },
  {
   "cell_type": "code",
   "execution_count": 15,
   "metadata": {},
   "outputs": [
    {
     "name": "stdout",
     "output_type": "stream",
     "text": [
      "['10', '1']\n"
     ]
    }
   ],
   "source": [
    "# Import the regular expression module\n",
    "import re\n",
    "\n",
    "# Find the numeric values: matches\n",
    "matches = re.findall('\\d+', 'the recipe calls for 10 strawberries and 1 banana')\n",
    "\n",
    "# Print the matches\n",
    "print(matches)"
   ]
  },
  {
   "cell_type": "markdown",
   "metadata": {},
   "source": [
    "`\\d` is the pattern required to find digits. This should be followed with a `+` so that the previous element is matched one or more times. This ensures that `10` is viewed as one number and not as `1` and `0.\n",
    "\n",
    "**Examples:**\n",
    "Match the following patterns:\n",
    "1. dollar sign, arbitrary number of digits, a decimal point, 2 digits\n",
    "2. A capital letter followed by an arbitrary number of alphanumeric characters"
   ]
  },
  {
   "cell_type": "code",
   "execution_count": 16,
   "metadata": {},
   "outputs": [
    {
     "name": "stdout",
     "output_type": "stream",
     "text": [
      "True\n",
      "True\n"
     ]
    }
   ],
   "source": [
    "pattern2 = bool(re.match(pattern='\\$\\d*\\.\\d{2}', string='$123.45'))\n",
    "print(pattern2)\n",
    "\n",
    "pattern3 = bool(re.match(pattern='[A-Z]\\w*', string='Australia'))\n",
    "print(pattern3)"
   ]
  },
  {
   "cell_type": "markdown",
   "metadata": {},
   "source": [
    "If you want to test your *regular expression* within different entries, try this [website](https://regex101.com)"
   ]
  },
  {
   "cell_type": "markdown",
   "metadata": {},
   "source": [
    "### Using regular expression to tidy-up fields in the data"
   ]
  },
  {
   "cell_type": "markdown",
   "metadata": {},
   "source": [
    "#### Use regular expressions to clean dates"
   ]
  },
  {
   "cell_type": "code",
   "execution_count": 21,
   "metadata": {},
   "outputs": [
    {
     "name": "stdout",
     "output_type": "stream",
     "text": [
      "<class 'pandas.core.frame.DataFrame'>\n",
      "RangeIndex: 8287 entries, 0 to 8286\n",
      "Data columns (total 15 columns):\n",
      "Identifier                8287 non-null int64\n",
      "Edition Statement         773 non-null object\n",
      "Place of Publication      8287 non-null object\n",
      "Date of Publication       8106 non-null object\n",
      "Publisher                 4092 non-null object\n",
      "Title                     8287 non-null object\n",
      "Author                    6509 non-null object\n",
      "Contributors              8287 non-null object\n",
      "Corporate Author          0 non-null float64\n",
      "Corporate Contributors    0 non-null float64\n",
      "Former owner              1 non-null object\n",
      "Engraver                  0 non-null float64\n",
      "Issuance type             8287 non-null object\n",
      "Flickr URL                8287 non-null object\n",
      "Shelfmarks                8287 non-null object\n",
      "dtypes: float64(3), int64(1), object(11)\n",
      "memory usage: 971.2+ KB\n"
     ]
    }
   ],
   "source": [
    "df = pd.read_csv('BL-Flickr-Images-Book.csv')\n",
    "df.info()"
   ]
  },
  {
   "cell_type": "markdown",
   "metadata": {},
   "source": [
    "One field where it makes sense to enforce a numeric value is the `Date of Publication` so that we can do calculations down the road"
   ]
  },
  {
   "cell_type": "code",
   "execution_count": 27,
   "metadata": {},
   "outputs": [
    {
     "data": {
      "text/plain": [
       "0              1879 [1878]\n",
       "1                     1868\n",
       "2                     1869\n",
       "3                     1851\n",
       "4                     1857\n",
       "5                     1875\n",
       "6                     1872\n",
       "7                      NaN\n",
       "8                     1676\n",
       "9                     1679\n",
       "10                    1802\n",
       "11                    1859\n",
       "12                    1888\n",
       "13             1839, 38-54\n",
       "14                    1897\n",
       "15                    1865\n",
       "16                 1860-63\n",
       "17                    1873\n",
       "18                    1866\n",
       "19                    1899\n",
       "20                    1814\n",
       "21                    1820\n",
       "22                    1800\n",
       "23      1847, 48 [1846-48]\n",
       "24                 [1897?]\n",
       "25                 [1897?]\n",
       "26                    1893\n",
       "27                    1805\n",
       "28                    1837\n",
       "29                    1896\n",
       "               ...        \n",
       "8257                   NaN\n",
       "8258                  1896\n",
       "8259                   NaN\n",
       "8260                   NaN\n",
       "8261                  1750\n",
       "8262                  1879\n",
       "8263                   NaN\n",
       "8264                  1889\n",
       "8265               [1845.]\n",
       "8266                  1876\n",
       "8267                   NaN\n",
       "8268                   NaN\n",
       "8269                  1708\n",
       "8270                [1868]\n",
       "8271                  1777\n",
       "8272                   NaN\n",
       "8273                  1866\n",
       "8274                  1862\n",
       "8275                  1894\n",
       "8276                  1868\n",
       "8277                  1882\n",
       "8278          1883, [1884]\n",
       "8279             1898-1912\n",
       "8280                  1811\n",
       "8281                  1867\n",
       "8282                  1838\n",
       "8283              1831, 32\n",
       "8284             [1806]-22\n",
       "8285                  1834\n",
       "8286               1834-43\n",
       "Name: Date of Publication, Length: 8287, dtype: object"
      ]
     },
     "execution_count": 27,
     "metadata": {},
     "output_type": "execute_result"
    }
   ],
   "source": [
    "df['Date of Publication']"
   ]
  },
  {
   "cell_type": "markdown",
   "metadata": {},
   "source": [
    "* **`str.extract`**\n",
    "\n",
    "A particular book can have only one date of publication. Therefore, we need to do the following:\n",
    "\n",
    "* Remove the extra dates in square brackets, wherever present: 1879 [1878]\n",
    "* Convert date ranges to their “start date”, wherever present: 1860-63; 1839, 38-54\n",
    "* Completely remove the dates we are not certain about and replace them with NumPy’s NaN: [1897?]\n",
    "* Convert the string nan to NumPy’s NaN value"
   ]
  },
  {
   "cell_type": "code",
   "execution_count": 30,
   "metadata": {},
   "outputs": [],
   "source": [
    "# regular expression to extract pattern\n",
    "regex = r'(^\\d{4})'"
   ]
  },
  {
   "cell_type": "code",
   "execution_count": 31,
   "metadata": {},
   "outputs": [
    {
     "data": {
      "text/plain": [
       "0    1879\n",
       "1    1868\n",
       "2    1869\n",
       "3    1851\n",
       "4    1857\n",
       "Name: Date of Publication, dtype: object"
      ]
     },
     "execution_count": 31,
     "metadata": {},
     "output_type": "execute_result"
    }
   ],
   "source": [
    "extr = df['Date of Publication'].str.extract(r'(^\\d{4})', expand=False)\n",
    "extr.head()"
   ]
  },
  {
   "cell_type": "markdown",
   "metadata": {},
   "source": [
    "Now convert this `object` dtype col in numeric"
   ]
  },
  {
   "cell_type": "code",
   "execution_count": 32,
   "metadata": {},
   "outputs": [
    {
     "data": {
      "text/plain": [
       "dtype('float64')"
      ]
     },
     "execution_count": 32,
     "metadata": {},
     "output_type": "execute_result"
    }
   ],
   "source": [
    "df['Date of Publication'] = pd.to_numeric(extr)\n",
    "df['Date of Publication'].dtype"
   ]
  },
  {
   "cell_type": "markdown",
   "metadata": {},
   "source": [
    "---------------\n",
    "#### Use Regular Expressions to clean country spellings"
   ]
  },
  {
   "cell_type": "code",
   "execution_count": 7,
   "metadata": {},
   "outputs": [
    {
     "data": {
      "text/html": [
       "<div>\n",
       "<style scoped>\n",
       "    .dataframe tbody tr th:only-of-type {\n",
       "        vertical-align: middle;\n",
       "    }\n",
       "\n",
       "    .dataframe tbody tr th {\n",
       "        vertical-align: top;\n",
       "    }\n",
       "\n",
       "    .dataframe thead th {\n",
       "        text-align: right;\n",
       "    }\n",
       "</style>\n",
       "<table border=\"1\" class=\"dataframe\">\n",
       "  <thead>\n",
       "    <tr style=\"text-align: right;\">\n",
       "      <th></th>\n",
       "      <th>country</th>\n",
       "      <th>year</th>\n",
       "      <th>life_expectancy</th>\n",
       "    </tr>\n",
       "  </thead>\n",
       "  <tbody>\n",
       "    <tr>\n",
       "      <th>0</th>\n",
       "      <td>Afghanistan</td>\n",
       "      <td>1800</td>\n",
       "      <td>28.21</td>\n",
       "    </tr>\n",
       "    <tr>\n",
       "      <th>1</th>\n",
       "      <td>Albania</td>\n",
       "      <td>1800</td>\n",
       "      <td>35.40</td>\n",
       "    </tr>\n",
       "    <tr>\n",
       "      <th>2</th>\n",
       "      <td>Algeria</td>\n",
       "      <td>1800</td>\n",
       "      <td>28.82</td>\n",
       "    </tr>\n",
       "    <tr>\n",
       "      <th>3</th>\n",
       "      <td>Angola</td>\n",
       "      <td>1800</td>\n",
       "      <td>26.98</td>\n",
       "    </tr>\n",
       "    <tr>\n",
       "      <th>4</th>\n",
       "      <td>Antigua and Barbuda</td>\n",
       "      <td>1800</td>\n",
       "      <td>33.54</td>\n",
       "    </tr>\n",
       "  </tbody>\n",
       "</table>\n",
       "</div>"
      ],
      "text/plain": [
       "               country  year  life_expectancy\n",
       "0          Afghanistan  1800            28.21\n",
       "1              Albania  1800            35.40\n",
       "2              Algeria  1800            28.82\n",
       "3               Angola  1800            26.98\n",
       "4  Antigua and Barbuda  1800            33.54"
      ]
     },
     "execution_count": 7,
     "metadata": {},
     "output_type": "execute_result"
    }
   ],
   "source": [
    "df = pd.read_csv('life_expp.csv',index_col=0)\n",
    "df.head()"
   ]
  },
  {
   "cell_type": "code",
   "execution_count": 8,
   "metadata": {},
   "outputs": [
    {
     "data": {
      "text/plain": [
       "Portugal                          100\n",
       "Timor-Leste                       100\n",
       "Mauritania                        100\n",
       "Bosnia and Herzegovina            100\n",
       "Greece                            100\n",
       "Australia                         100\n",
       "Aruba                             100\n",
       "Slovenia                          100\n",
       "Djibouti                          100\n",
       "Syria                             100\n",
       "Nicaragua                         100\n",
       "Honduras                          100\n",
       "Malaysia                          100\n",
       "Montenegro                        100\n",
       "Mayotte                           100\n",
       "Oman                              100\n",
       "Romania                           100\n",
       "Guam                              100\n",
       "St. Vincent and the Grenadines    100\n",
       "West Bank and Gaza                100\n",
       "Macao, China                      100\n",
       "Bhutan                            100\n",
       "Mauritius                         100\n",
       "China                             100\n",
       "Guinea                            100\n",
       "Nigeria                           100\n",
       "Rwanda                            100\n",
       "Trinidad and Tobago               100\n",
       "Haiti                             100\n",
       "St. Lucia                         100\n",
       "                                 ... \n",
       "Vanuatu                           100\n",
       "Mozambique                        100\n",
       "Vietnam                           100\n",
       "Taiwan                            100\n",
       "Brazil                            100\n",
       "Turkmenistan                      100\n",
       "Chad                              100\n",
       "Argentina                         100\n",
       "Congo, Rep.                       100\n",
       "Sierra Leone                      100\n",
       "Cape Verde                        100\n",
       "Iran                              100\n",
       "Israel                            100\n",
       "Panama                            100\n",
       "Qatar                             100\n",
       "Georgia                           100\n",
       "Senegal                           100\n",
       "Grenada                           100\n",
       "Papua New Guinea                  100\n",
       "Samoa                             100\n",
       "Japan                             100\n",
       "Tajikistan                        100\n",
       "Brunei                            100\n",
       "Germany                           100\n",
       "North Korea                       100\n",
       "Burkina Faso                      100\n",
       "Estonia                           100\n",
       "Sao Tome and Principe             100\n",
       "Paraguay                          100\n",
       "Jordan                            100\n",
       "Name: country, Length: 201, dtype: int64"
      ]
     },
     "execution_count": 8,
     "metadata": {},
     "output_type": "execute_result"
    }
   ],
   "source": [
    "df.country.value_counts()"
   ]
  },
  {
   "cell_type": "markdown",
   "metadata": {},
   "source": [
    "It is reasonable to assume that country names will contain:\n",
    "\n",
    "* The set of lower and upper case letters.\n",
    "* Whitespace between words.\n",
    "* Periods for any abbreviations.\n",
    "\n",
    "To confirm that the column is fine we need to use regular expressions"
   ]
  },
  {
   "cell_type": "code",
   "execution_count": 10,
   "metadata": {},
   "outputs": [
    {
     "name": "stdout",
     "output_type": "stream",
     "text": [
      "0    False\n",
      "1    False\n",
      "2    False\n",
      "3    False\n",
      "4    False\n",
      "Name: country, dtype: bool\n"
     ]
    },
    {
     "data": {
      "text/plain": [
       "38          Congo, Dem. Rep.\n",
       "39               Congo, Rep.\n",
       "41             Cote d'Ivoire\n",
       "73             Guinea-Bissau\n",
       "77          Hong Kong, China\n",
       "105             Macao, China\n",
       "106           Macedonia, FYR\n",
       "118    Micronesia, Fed. Sts.\n",
       "177              Timor-Leste\n",
       "196    Virgin Islands (U.S.)\n",
       "Name: country, dtype: object"
      ]
     },
     "execution_count": 10,
     "metadata": {},
     "output_type": "execute_result"
    }
   ],
   "source": [
    "countries = df['country']\n",
    "\n",
    "# Drop all the duplicates from countries\n",
    "countries = countries.drop_duplicates()\n",
    "\n",
    "# Write the regular expression: pattern\n",
    "pattern = '^[A-Za-z\\.\\s]*$'\n",
    "\n",
    "# Create the Boolean vector: mask\n",
    "mask = countries.str.contains(pattern)\n",
    "\n",
    "# Invert the mask: mask_inverse\n",
    "# to have a Boolean for the match\n",
    "mask_inverse = ~mask\n",
    "print(mask_inverse.head())\n",
    "\n",
    "# Subset countries using mask_inverse: invalid_countries\n",
    "invalid_countries = countries.loc[mask_inverse]\n",
    "\n",
    "# Print invalid_countries\n",
    "invalid_countries"
   ]
  },
  {
   "cell_type": "code",
   "execution_count": 13,
   "metadata": {},
   "outputs": [
    {
     "name": "stdout",
     "output_type": "stream",
     "text": [
      "(20100, 3)\n",
      "(20090, 3)\n"
     ]
    }
   ],
   "source": [
    "df_clean = df.drop(invalid_countries.index, axis=0)\n",
    "\n",
    "print(df.shape)\n",
    "print(df_clean.shape)"
   ]
  },
  {
   "cell_type": "code",
   "execution_count": null,
   "metadata": {},
   "outputs": [],
   "source": []
  },
  {
   "cell_type": "code",
   "execution_count": null,
   "metadata": {},
   "outputs": [],
   "source": []
  }
 ],
 "metadata": {
  "kernelspec": {
   "display_name": "Python 3",
   "language": "python",
   "name": "python3"
  },
  "language_info": {
   "codemirror_mode": {
    "name": "ipython",
    "version": 3
   },
   "file_extension": ".py",
   "mimetype": "text/x-python",
   "name": "python",
   "nbconvert_exporter": "python",
   "pygments_lexer": "ipython3",
   "version": "3.7.1"
  },
  "toc": {
   "base_numbering": 1,
   "nav_menu": {},
   "number_sections": false,
   "sideBar": true,
   "skip_h1_title": false,
   "title_cell": "Table of Contents",
   "title_sidebar": "Contents",
   "toc_cell": true,
   "toc_position": {},
   "toc_section_display": true,
   "toc_window_display": true
  },
  "varInspector": {
   "cols": {
    "lenName": 16,
    "lenType": 16,
    "lenVar": 40
   },
   "kernels_config": {
    "python": {
     "delete_cmd_postfix": "",
     "delete_cmd_prefix": "del ",
     "library": "var_list.py",
     "varRefreshCmd": "print(var_dic_list())"
    },
    "r": {
     "delete_cmd_postfix": ") ",
     "delete_cmd_prefix": "rm(",
     "library": "var_list.r",
     "varRefreshCmd": "cat(var_dic_list()) "
    }
   },
   "types_to_exclude": [
    "module",
    "function",
    "builtin_function_or_method",
    "instance",
    "_Feature"
   ],
   "window_display": false
  }
 },
 "nbformat": 4,
 "nbformat_minor": 2
}

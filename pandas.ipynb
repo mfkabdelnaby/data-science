{
 "cells": [
  {
   "cell_type": "markdown",
   "metadata": {
    "toc": true
   },
   "source": [
    "<h1>Table of Contents<span class=\"tocSkip\"></span></h1>\n",
    "<div class=\"toc\"><ul class=\"toc-item\"><li><span><a href=\"#Reading-data-in-pandas-Dataframe\" data-toc-modified-id=\"Reading-data-in-pandas-Dataframe-1\">Reading data in pandas Dataframe</a></span><ul class=\"toc-item\"><li><span><a href=\"#Create-DataFrames-from-lists\" data-toc-modified-id=\"Create-DataFrames-from-lists-1.1\">Create DataFrames from lists</a></span></li><li><span><a href=\"#Create-DataFrames-from-zipped-lists\" data-toc-modified-id=\"Create-DataFrames-from-zipped-lists-1.2\">Create DataFrames from zipped lists</a></span></li><li><span><a href=\"#Building-DataFrames-with-broadcasting\" data-toc-modified-id=\"Building-DataFrames-with-broadcasting-1.3\">Building DataFrames with broadcasting</a></span></li><li><span><a href=\"#Import-csv-files\" data-toc-modified-id=\"Import-csv-files-1.4\">Import <code>csv</code> files</a></span></li></ul></li><li><span><a href=\"#Read-Mulitple-Files\" data-toc-modified-id=\"Read-Mulitple-Files-2\">Read Mulitple Files</a></span><ul class=\"toc-item\"><li><span><a href=\"#Finding-files-that-match-a-pattern\" data-toc-modified-id=\"Finding-files-that-match-a-pattern-2.1\">Finding files that match a pattern</a></span></li><li><span><a href=\"#Save-files\" data-toc-modified-id=\"Save-files-2.2\">Save files</a></span></li></ul></li><li><span><a href=\"#Data-Selection-&amp;-Slicing\" data-toc-modified-id=\"Data-Selection-&amp;-Slicing-3\">Data Selection &amp; Slicing</a></span><ul class=\"toc-item\"><li><span><a href=\"#Column-Access\" data-toc-modified-id=\"Column-Access-3.1\">Column Access</a></span></li><li><span><a href=\"#Raw-Access\" data-toc-modified-id=\"Raw-Access-3.2\">Raw Access</a></span></li><li><span><a href=\"#Raw-&amp;-Col-Axis\" data-toc-modified-id=\"Raw-&amp;-Col-Axis-3.3\">Raw &amp; Col Axis</a></span></li><li><span><a href=\"#loc-&amp;-iloc\" data-toc-modified-id=\"loc-&amp;-iloc-3.4\">loc &amp; iloc</a></span></li></ul></li><li><span><a href=\"#Filtering-in-Pandas\" data-toc-modified-id=\"Filtering-in-Pandas-4\">Filtering in Pandas</a></span><ul class=\"toc-item\"><li><span><a href=\"#Filtering-using-Boolean-Series\" data-toc-modified-id=\"Filtering-using-Boolean-Series-4.1\">Filtering using Boolean Series</a></span></li><li><span><a href=\"#Filtering-using-.loc[]\" data-toc-modified-id=\"Filtering-using-.loc[]-4.2\">Filtering using <code>.loc[]</code></a></span></li><li><span><a href=\"#Filtering-using-NaNs-and-zeros\" data-toc-modified-id=\"Filtering-using-NaNs-and-zeros-4.3\">Filtering using NaNs and zeros</a></span></li></ul></li><li><span><a href=\"#Looping-over-pandas-databasis\" data-toc-modified-id=\"Looping-over-pandas-databasis-5\">Looping over pandas databasis</a></span></li><li><span><a href=\"#Sorting-values-in-a-DataFrame\" data-toc-modified-id=\"Sorting-values-in-a-DataFrame-6\">Sorting values in a DataFrame</a></span></li><li><span><a href=\"#Labeling-your-data\" data-toc-modified-id=\"Labeling-your-data-7\">Labeling your data</a></span><ul class=\"toc-item\"><li><span><a href=\"#MultiIndex\" data-toc-modified-id=\"MultiIndex-7.1\">MultiIndex</a></span></li><li><span><a href=\"#Restoring-the-Index-Order\" data-toc-modified-id=\"Restoring-the-Index-Order-7.2\">Restoring the Index Order</a></span></li></ul></li><li><span><a href=\"#Arethmatic-Operations-in-pandas\" data-toc-modified-id=\"Arethmatic-Operations-in-pandas-8\">Arethmatic Operations in pandas</a></span></li><li><span><a href=\"#Transforming-DataFrames\" data-toc-modified-id=\"Transforming-DataFrames-9\">Transforming DataFrames</a></span><ul class=\"toc-item\"><li><span><a href=\"#Using-.apply()-to-transform-a-column\" data-toc-modified-id=\"Using-.apply()-to-transform-a-column-9.1\">Using <code>.apply()</code> to transform a column</a></span></li><li><span><a href=\"#Using-List-Comprehensions\" data-toc-modified-id=\"Using-List-Comprehensions-9.2\">Using List Comprehensions</a></span></li><li><span><a href=\"#Using-.map()-with-a-dictionary\" data-toc-modified-id=\"Using-.map()-with-a-dictionary-9.3\">Using <code>.map()</code> with a dictionary</a></span></li><li><span><a href=\"#Using-vectorized-functions\" data-toc-modified-id=\"Using-vectorized-functions-9.4\">Using vectorized functions</a></span></li><li><span><a href=\"#Using-lambda-functions\" data-toc-modified-id=\"Using-lambda-functions-9.5\">Using <code>lambda</code> functions</a></span></li></ul></li><li><span><a href=\"#Processing-Data-in-Chunks\" data-toc-modified-id=\"Processing-Data-in-Chunks-10\">Processing Data in Chunks</a></span></li><li><span><a href=\"#Convert-Pandas-into-NumPy-Arrays\" data-toc-modified-id=\"Convert-Pandas-into-NumPy-Arrays-11\">Convert Pandas into NumPy Arrays</a></span></li><li><span><a href=\"#Plotting-with-Pandas\" data-toc-modified-id=\"Plotting-with-Pandas-12\">Plotting with Pandas</a></span><ul class=\"toc-item\"><li><span><a href=\"#Pandas-Plot-Types\" data-toc-modified-id=\"Pandas-Plot-Types-12.1\">Pandas Plot Types</a></span></li><li><span><a href=\"#Plot-PDF-and-CDF\" data-toc-modified-id=\"Plot-PDF-and-CDF-12.2\">Plot PDF and CDF</a></span></li></ul></li><li><span><a href=\"#Descriptive-Exploratory-Data-Analysis\" data-toc-modified-id=\"Descriptive-Exploratory-Data-Analysis-13\">Descriptive Exploratory Data Analysis</a></span><ul class=\"toc-item\"><li><span><a href=\"#Numeric-columns\" data-toc-modified-id=\"Numeric-columns-13.1\">Numeric columns</a></span></li><li><span><a href=\"#Filtering-and-counting-on-non-numeric-columns\" data-toc-modified-id=\"Filtering-and-counting-on-non-numeric-columns-13.2\">Filtering and counting on non-numeric columns</a></span></li></ul></li><li><span><a href=\"#Indexing-Time-Series\" data-toc-modified-id=\"Indexing-Time-Series-14\">Indexing Time Series</a></span><ul class=\"toc-item\"><li><span><a href=\"#Partial-string-indexing-and-slicing\" data-toc-modified-id=\"Partial-string-indexing-and-slicing-14.1\">Partial string indexing and slicing</a></span></li><li><span><a href=\"#Reindexing\" data-toc-modified-id=\"Reindexing-14.2\">Reindexing</a></span></li><li><span><a href=\"#Resampling-time-series\" data-toc-modified-id=\"Resampling-time-series-14.3\">Resampling time series</a></span></li><li><span><a href=\"#Rolling-mean-and-frequency\" data-toc-modified-id=\"Rolling-mean-and-frequency-14.4\">Rolling mean and frequency</a></span></li></ul></li><li><span><a href=\"#Time-Series-Data-Maniplutation-in-Pandas\" data-toc-modified-id=\"Time-Series-Data-Maniplutation-in-Pandas-15\">Time Series Data Maniplutation in Pandas</a></span><ul class=\"toc-item\"><li><span><a href=\"#Visualizing-pandas-time-series\" data-toc-modified-id=\"Visualizing-pandas-time-series-15.1\">Visualizing pandas time series</a></span></li></ul></li><li><span><a href=\"#Categoricals-and-groupby\" data-toc-modified-id=\"Categoricals-and-groupby-16\">Categoricals and groupby</a></span><ul class=\"toc-item\"><li><span><a href=\"#Group-by-a-column-or-mulitple-columns\" data-toc-modified-id=\"Group-by-a-column-or-mulitple-columns-16.1\">Group by a column or mulitple columns</a></span></li><li><span><a href=\"#Multilevel-groupby\" data-toc-modified-id=\"Multilevel-groupby-16.2\">Multilevel groupby</a></span></li><li><span><a href=\"#Grouping-by-another-series\" data-toc-modified-id=\"Grouping-by-another-series-16.3\">Grouping by another series</a></span></li><li><span><a href=\"#Multiple-aggregations\" data-toc-modified-id=\"Multiple-aggregations-16.4\">Multiple aggregations</a></span></li><li><span><a href=\"#Groupby-and-transformation\" data-toc-modified-id=\"Groupby-and-transformation-16.5\">Groupby and transformation</a></span></li><li><span><a href=\"#Groupby-and-filtering\" data-toc-modified-id=\"Groupby-and-filtering-16.6\">Groupby and filtering</a></span><ul class=\"toc-item\"><li><span><a href=\"#Grouping-and-filtering-with-.apply()\" data-toc-modified-id=\"Grouping-and-filtering-with-.apply()-16.6.1\">Grouping and filtering with <code>.apply()</code></a></span></li><li><span><a href=\"#Grouping-and-filtering-with-.filter()\" data-toc-modified-id=\"Grouping-and-filtering-with-.filter()-16.6.2\">Grouping and filtering with <code>.filter()</code></a></span></li><li><span><a href=\"#Filtering-and-grouping-with-.map()\" data-toc-modified-id=\"Filtering-and-grouping-with-.map()-16.6.3\">Filtering and grouping with <code>.map()</code></a></span></li></ul></li></ul></li></ul></div>"
   ]
  },
  {
   "cell_type": "markdown",
   "metadata": {},
   "source": [
    "# Pandas\n",
    "\n",
    "`pandas` is very useful in building data with tabular structures. In other words, to work with datasets in Python.\n",
    "\n",
    "The DataFrame is one of Pandas' most important data structures. It's basically a way to store tabular data where you can label the rows and the columns. \n",
    "\n",
    "In DataFrames, the raws correspond to the `observations` and the columns are the `variables`.\n",
    "\n",
    "One way to build DataFrames manually is using dictionaires\n",
    "\n",
    "## Reading data in pandas Dataframe"
   ]
  },
  {
   "cell_type": "code",
   "execution_count": 2,
   "metadata": {},
   "outputs": [],
   "source": [
    "#import pandas\n",
    "import pandas as pd"
   ]
  },
  {
   "cell_type": "code",
   "execution_count": 3,
   "metadata": {},
   "outputs": [],
   "source": [
    "#other packages that will be used\n",
    "\n",
    "import numpy as np\n",
    "import matplotlib.pyplot as plt"
   ]
  },
  {
   "cell_type": "markdown",
   "metadata": {},
   "source": [
    "### Create DataFrames from lists"
   ]
  },
  {
   "cell_type": "code",
   "execution_count": 24,
   "metadata": {},
   "outputs": [
    {
     "data": {
      "text/html": [
       "<div>\n",
       "<style scoped>\n",
       "    .dataframe tbody tr th:only-of-type {\n",
       "        vertical-align: middle;\n",
       "    }\n",
       "\n",
       "    .dataframe tbody tr th {\n",
       "        vertical-align: top;\n",
       "    }\n",
       "\n",
       "    .dataframe thead th {\n",
       "        text-align: right;\n",
       "    }\n",
       "</style>\n",
       "<table border=\"1\" class=\"dataframe\">\n",
       "  <thead>\n",
       "    <tr style=\"text-align: right;\">\n",
       "      <th></th>\n",
       "      <th>country</th>\n",
       "      <th>drives_right</th>\n",
       "      <th>cars_per_cap</th>\n",
       "    </tr>\n",
       "  </thead>\n",
       "  <tbody>\n",
       "    <tr>\n",
       "      <th>0</th>\n",
       "      <td>United States</td>\n",
       "      <td>True</td>\n",
       "      <td>809</td>\n",
       "    </tr>\n",
       "    <tr>\n",
       "      <th>1</th>\n",
       "      <td>Australia</td>\n",
       "      <td>False</td>\n",
       "      <td>731</td>\n",
       "    </tr>\n",
       "    <tr>\n",
       "      <th>2</th>\n",
       "      <td>Japan</td>\n",
       "      <td>False</td>\n",
       "      <td>588</td>\n",
       "    </tr>\n",
       "    <tr>\n",
       "      <th>3</th>\n",
       "      <td>India</td>\n",
       "      <td>False</td>\n",
       "      <td>18</td>\n",
       "    </tr>\n",
       "    <tr>\n",
       "      <th>4</th>\n",
       "      <td>Russia</td>\n",
       "      <td>True</td>\n",
       "      <td>200</td>\n",
       "    </tr>\n",
       "    <tr>\n",
       "      <th>5</th>\n",
       "      <td>Morocco</td>\n",
       "      <td>True</td>\n",
       "      <td>70</td>\n",
       "    </tr>\n",
       "    <tr>\n",
       "      <th>6</th>\n",
       "      <td>Egypt</td>\n",
       "      <td>True</td>\n",
       "      <td>45</td>\n",
       "    </tr>\n",
       "  </tbody>\n",
       "</table>\n",
       "</div>"
      ],
      "text/plain": [
       "         country  drives_right  cars_per_cap\n",
       "0  United States          True           809\n",
       "1      Australia         False           731\n",
       "2          Japan         False           588\n",
       "3          India         False            18\n",
       "4         Russia          True           200\n",
       "5        Morocco          True            70\n",
       "6          Egypt          True            45"
      ]
     },
     "execution_count": 24,
     "metadata": {},
     "output_type": "execute_result"
    }
   ],
   "source": [
    "#Example\n",
    "\n",
    "names = ['United States', 'Australia', 'Japan', 'India', 'Russia', 'Morocco', 'Egypt']\n",
    "dr =  [True, False, False, False, True, True, True]\n",
    "cpc = [809, 731, 588, 18, 200, 70, 45]\n",
    "\n",
    "my_dict = {'country':names,'drives_right':dr,'cars_per_cap':cpc}\n",
    "\n",
    "# Build a DataFrame cars from my_dict\n",
    "cars = pd.DataFrame(my_dict)\n",
    "\n",
    "cars"
   ]
  },
  {
   "cell_type": "markdown",
   "metadata": {},
   "source": [
    "### Create DataFrames from zipped lists"
   ]
  },
  {
   "cell_type": "code",
   "execution_count": 370,
   "metadata": {},
   "outputs": [
    {
     "name": "stdout",
     "output_type": "stream",
     "text": [
      "[('Country', ['United States', 'Soviet Union', 'United Kingdom']), ('Total', ['1118', '473', '273'])]\n"
     ]
    },
    {
     "data": {
      "text/html": [
       "<div>\n",
       "<style scoped>\n",
       "    .dataframe tbody tr th:only-of-type {\n",
       "        vertical-align: middle;\n",
       "    }\n",
       "\n",
       "    .dataframe tbody tr th {\n",
       "        vertical-align: top;\n",
       "    }\n",
       "\n",
       "    .dataframe thead th {\n",
       "        text-align: right;\n",
       "    }\n",
       "</style>\n",
       "<table border=\"1\" class=\"dataframe\">\n",
       "  <thead>\n",
       "    <tr style=\"text-align: right;\">\n",
       "      <th></th>\n",
       "      <th>Country</th>\n",
       "      <th>Total</th>\n",
       "    </tr>\n",
       "  </thead>\n",
       "  <tbody>\n",
       "    <tr>\n",
       "      <th>0</th>\n",
       "      <td>United States</td>\n",
       "      <td>1118</td>\n",
       "    </tr>\n",
       "    <tr>\n",
       "      <th>1</th>\n",
       "      <td>Soviet Union</td>\n",
       "      <td>473</td>\n",
       "    </tr>\n",
       "    <tr>\n",
       "      <th>2</th>\n",
       "      <td>United Kingdom</td>\n",
       "      <td>273</td>\n",
       "    </tr>\n",
       "  </tbody>\n",
       "</table>\n",
       "</div>"
      ],
      "text/plain": [
       "          Country Total\n",
       "0   United States  1118\n",
       "1    Soviet Union   473\n",
       "2  United Kingdom   273"
      ]
     },
     "execution_count": 370,
     "metadata": {},
     "output_type": "execute_result"
    }
   ],
   "source": [
    "names = ['Country','Total']\n",
    "values = [['United States','Soviet Union','United Kingdom'],['1118','473','273']]\n",
    "#list of list containing each col\n",
    "\n",
    "zipped = list(zip(names,values))\n",
    "\n",
    "print(zipped)\n",
    "\n",
    "data = dict(zipped)\n",
    "\n",
    "df = pd.DataFrame(data)\n",
    "df"
   ]
  },
  {
   "cell_type": "markdown",
   "metadata": {},
   "source": [
    "### Building DataFrames with broadcasting\n",
    "\n",
    "You can implicitly use 'broadcasting', a feature of NumPy, when creating pandas DataFrames. If you assign a col to a single value, this value broadcasts through the whole col"
   ]
  },
  {
   "cell_type": "code",
   "execution_count": 371,
   "metadata": {},
   "outputs": [
    {
     "data": {
      "text/html": [
       "<div>\n",
       "<style scoped>\n",
       "    .dataframe tbody tr th:only-of-type {\n",
       "        vertical-align: middle;\n",
       "    }\n",
       "\n",
       "    .dataframe tbody tr th {\n",
       "        vertical-align: top;\n",
       "    }\n",
       "\n",
       "    .dataframe thead th {\n",
       "        text-align: right;\n",
       "    }\n",
       "</style>\n",
       "<table border=\"1\" class=\"dataframe\">\n",
       "  <thead>\n",
       "    <tr style=\"text-align: right;\">\n",
       "      <th></th>\n",
       "      <th>Country</th>\n",
       "      <th>Total</th>\n",
       "      <th>year</th>\n",
       "    </tr>\n",
       "  </thead>\n",
       "  <tbody>\n",
       "    <tr>\n",
       "      <th>0</th>\n",
       "      <td>United States</td>\n",
       "      <td>1118</td>\n",
       "      <td>2010</td>\n",
       "    </tr>\n",
       "    <tr>\n",
       "      <th>1</th>\n",
       "      <td>Soviet Union</td>\n",
       "      <td>473</td>\n",
       "      <td>2010</td>\n",
       "    </tr>\n",
       "    <tr>\n",
       "      <th>2</th>\n",
       "      <td>United Kingdom</td>\n",
       "      <td>273</td>\n",
       "      <td>2010</td>\n",
       "    </tr>\n",
       "  </tbody>\n",
       "</table>\n",
       "</div>"
      ],
      "text/plain": [
       "          Country Total  year\n",
       "0   United States  1118  2010\n",
       "1    Soviet Union   473  2010\n",
       "2  United Kingdom   273  2010"
      ]
     },
     "execution_count": 371,
     "metadata": {},
     "output_type": "execute_result"
    }
   ],
   "source": [
    "# assign new col 'year' a single value\n",
    "df['year'] = 2010\n",
    "df"
   ]
  },
  {
   "cell_type": "markdown",
   "metadata": {},
   "source": [
    "### Import `csv` files\n",
    "Putting data in a dictionary and then building a DataFrame works, but it's not very efficient. What if you're dealing with millions of observations? In those cases, the data is typically available as files with a regular structure. One of those file types is the `CSV` file, which is short for \"comma-separated values\".\n",
    "\n",
    "* **`pd.read_csv('PATH')`**\n",
    "\n",
    "Things you can specify inside:\n",
    "\n",
    "* **`index_col`**: define col index, you can use tuple for multiple indexing\n",
    "* **`header`**: define which row number is the header (None = no header)\n",
    "* **`names`**: a list of column names to be headers (if header=None)\n",
    "* **`na_values`**: specify which value or a list of values are interpreted as NaN. You can also use dictionaries to specify values for each column.\n",
    "* **`parse_dates`**: columns that include dates.\n",
    "    * `parse_dates=True` it parses the date column when used as an index (index_col=date_col)\n",
    "* **`delimiter`**: decide what separate entries\n",
    "* **`comment`**: indicates a comment line to not be included\n",
    "* **`skiprows`**: number of rows to skip in the beginning"
   ]
  },
  {
   "cell_type": "code",
   "execution_count": 41,
   "metadata": {
    "scrolled": true
   },
   "outputs": [
    {
     "data": {
      "text/html": [
       "<div>\n",
       "<style scoped>\n",
       "    .dataframe tbody tr th:only-of-type {\n",
       "        vertical-align: middle;\n",
       "    }\n",
       "\n",
       "    .dataframe tbody tr th {\n",
       "        vertical-align: top;\n",
       "    }\n",
       "\n",
       "    .dataframe thead th {\n",
       "        text-align: right;\n",
       "    }\n",
       "</style>\n",
       "<table border=\"1\" class=\"dataframe\">\n",
       "  <thead>\n",
       "    <tr style=\"text-align: right;\">\n",
       "      <th></th>\n",
       "      <th>Unnamed: 0</th>\n",
       "      <th>animal</th>\n",
       "      <th>uniq_id</th>\n",
       "      <th>water_need</th>\n",
       "    </tr>\n",
       "  </thead>\n",
       "  <tbody>\n",
       "    <tr>\n",
       "      <th>0</th>\n",
       "      <td>an1</td>\n",
       "      <td>elephant</td>\n",
       "      <td>1001</td>\n",
       "      <td>500</td>\n",
       "    </tr>\n",
       "    <tr>\n",
       "      <th>1</th>\n",
       "      <td>an2</td>\n",
       "      <td>elephant</td>\n",
       "      <td>1002</td>\n",
       "      <td>600</td>\n",
       "    </tr>\n",
       "    <tr>\n",
       "      <th>2</th>\n",
       "      <td>an3</td>\n",
       "      <td>elephant</td>\n",
       "      <td>1003</td>\n",
       "      <td>550</td>\n",
       "    </tr>\n",
       "    <tr>\n",
       "      <th>3</th>\n",
       "      <td>an4</td>\n",
       "      <td>tiger</td>\n",
       "      <td>1004</td>\n",
       "      <td>300</td>\n",
       "    </tr>\n",
       "    <tr>\n",
       "      <th>4</th>\n",
       "      <td>an5</td>\n",
       "      <td>tiger</td>\n",
       "      <td>1007</td>\n",
       "      <td>290</td>\n",
       "    </tr>\n",
       "  </tbody>\n",
       "</table>\n",
       "</div>"
      ],
      "text/plain": [
       "  Unnamed: 0    animal  uniq_id  water_need\n",
       "0        an1  elephant     1001         500\n",
       "1        an2  elephant     1002         600\n",
       "2        an3  elephant     1003         550\n",
       "3        an4     tiger     1004         300\n",
       "4        an5     tiger     1007         290"
      ]
     },
     "execution_count": 41,
     "metadata": {},
     "output_type": "execute_result"
    }
   ],
   "source": [
    "zoo = pd.read_csv('zoo.csv')\n",
    "zoo.head() #to show first 5 rows"
   ]
  },
  {
   "cell_type": "markdown",
   "metadata": {},
   "source": [
    "Notice the first column in the DataFrame was not interpreted as raw index. To fix this we must tell pandas that the first col is a raw index.\n",
    "\n",
    "* **`index_col=0`**: first column is the index"
   ]
  },
  {
   "cell_type": "code",
   "execution_count": 54,
   "metadata": {},
   "outputs": [
    {
     "data": {
      "text/html": [
       "<div>\n",
       "<style scoped>\n",
       "    .dataframe tbody tr th:only-of-type {\n",
       "        vertical-align: middle;\n",
       "    }\n",
       "\n",
       "    .dataframe tbody tr th {\n",
       "        vertical-align: top;\n",
       "    }\n",
       "\n",
       "    .dataframe thead th {\n",
       "        text-align: right;\n",
       "    }\n",
       "</style>\n",
       "<table border=\"1\" class=\"dataframe\">\n",
       "  <thead>\n",
       "    <tr style=\"text-align: right;\">\n",
       "      <th></th>\n",
       "      <th>animal</th>\n",
       "      <th>uniq_id</th>\n",
       "      <th>water_need</th>\n",
       "    </tr>\n",
       "  </thead>\n",
       "  <tbody>\n",
       "    <tr>\n",
       "      <th>an1</th>\n",
       "      <td>elephant</td>\n",
       "      <td>1001</td>\n",
       "      <td>500</td>\n",
       "    </tr>\n",
       "    <tr>\n",
       "      <th>an2</th>\n",
       "      <td>elephant</td>\n",
       "      <td>1002</td>\n",
       "      <td>600</td>\n",
       "    </tr>\n",
       "    <tr>\n",
       "      <th>an3</th>\n",
       "      <td>elephant</td>\n",
       "      <td>1003</td>\n",
       "      <td>550</td>\n",
       "    </tr>\n",
       "    <tr>\n",
       "      <th>an4</th>\n",
       "      <td>tiger</td>\n",
       "      <td>1004</td>\n",
       "      <td>300</td>\n",
       "    </tr>\n",
       "    <tr>\n",
       "      <th>an5</th>\n",
       "      <td>tiger</td>\n",
       "      <td>1007</td>\n",
       "      <td>290</td>\n",
       "    </tr>\n",
       "  </tbody>\n",
       "</table>\n",
       "</div>"
      ],
      "text/plain": [
       "       animal  uniq_id  water_need\n",
       "an1  elephant     1001         500\n",
       "an2  elephant     1002         600\n",
       "an3  elephant     1003         550\n",
       "an4     tiger     1004         300\n",
       "an5     tiger     1007         290"
      ]
     },
     "execution_count": 54,
     "metadata": {},
     "output_type": "execute_result"
    }
   ],
   "source": [
    "zoo = pd.read_csv('zoo.csv',index_col=0)\n",
    "zoo.head()"
   ]
  },
  {
   "cell_type": "markdown",
   "metadata": {},
   "source": [
    "## Read Mulitple Files\n",
    "\n",
    "Using loops or loop comprehension would be more effecient to read multiple files instead of reading each file separetly"
   ]
  },
  {
   "cell_type": "code",
   "execution_count": 85,
   "metadata": {},
   "outputs": [
    {
     "data": {
      "text/html": [
       "<div>\n",
       "<style scoped>\n",
       "    .dataframe tbody tr th:only-of-type {\n",
       "        vertical-align: middle;\n",
       "    }\n",
       "\n",
       "    .dataframe tbody tr th {\n",
       "        vertical-align: top;\n",
       "    }\n",
       "\n",
       "    .dataframe thead th {\n",
       "        text-align: right;\n",
       "    }\n",
       "</style>\n",
       "<table border=\"1\" class=\"dataframe\">\n",
       "  <thead>\n",
       "    <tr style=\"text-align: right;\">\n",
       "      <th></th>\n",
       "      <th>state</th>\n",
       "      <th>month</th>\n",
       "      <th>eggs</th>\n",
       "      <th>salt</th>\n",
       "      <th>spam</th>\n",
       "    </tr>\n",
       "  </thead>\n",
       "  <tbody>\n",
       "    <tr>\n",
       "      <th>0</th>\n",
       "      <td>CA</td>\n",
       "      <td>1</td>\n",
       "      <td>47</td>\n",
       "      <td>12.0</td>\n",
       "      <td>17</td>\n",
       "    </tr>\n",
       "    <tr>\n",
       "      <th>1</th>\n",
       "      <td>CA</td>\n",
       "      <td>2</td>\n",
       "      <td>110</td>\n",
       "      <td>50.0</td>\n",
       "      <td>31</td>\n",
       "    </tr>\n",
       "    <tr>\n",
       "      <th>2</th>\n",
       "      <td>NY</td>\n",
       "      <td>1</td>\n",
       "      <td>221</td>\n",
       "      <td>89.0</td>\n",
       "      <td>72</td>\n",
       "    </tr>\n",
       "    <tr>\n",
       "      <th>3</th>\n",
       "      <td>NY</td>\n",
       "      <td>2</td>\n",
       "      <td>77</td>\n",
       "      <td>87.0</td>\n",
       "      <td>20</td>\n",
       "    </tr>\n",
       "    <tr>\n",
       "      <th>4</th>\n",
       "      <td>TX</td>\n",
       "      <td>1</td>\n",
       "      <td>132</td>\n",
       "      <td>NaN</td>\n",
       "      <td>52</td>\n",
       "    </tr>\n",
       "  </tbody>\n",
       "</table>\n",
       "</div>"
      ],
      "text/plain": [
       "  state  month  eggs  salt  spam\n",
       "0    CA      1    47  12.0    17\n",
       "1    CA      2   110  50.0    31\n",
       "2    NY      1   221  89.0    72\n",
       "3    NY      2    77  87.0    20\n",
       "4    TX      1   132   NaN    52"
      ]
     },
     "execution_count": 85,
     "metadata": {},
     "output_type": "execute_result"
    }
   ],
   "source": [
    "filenames = ['datasets/auto-mpg.csv','datasets/sales.csv','datasets/titanic.csv']\n",
    "\n",
    "dataframes = []\n",
    "for filename in filenames:\n",
    "    dataframes.append(pd.read_csv(filename))\n",
    "\n",
    "# access the second dataframe (sales)\n",
    "dataframes[1].head()"
   ]
  },
  {
   "cell_type": "markdown",
   "metadata": {},
   "source": [
    "\n",
    "### Finding files that match a pattern\n",
    "\n",
    "Use the `glob` module to find all `csv` files in the workspace\n",
    "\n",
    "* **`glob`** takes a pattern and returns a list of the files in the working directory that match that pattern.\n",
    "\n",
    "    * `*`: Any number of characters\n",
    "    * `?`: Single character search"
   ]
  },
  {
   "cell_type": "code",
   "execution_count": null,
   "metadata": {},
   "outputs": [],
   "source": [
    "# Import necessary modules\n",
    "import glob\n",
    "import pandas as pd\n",
    "\n",
    "# Write the pattern: pattern\n",
    "pattern = '*.csv'\n",
    "\n",
    "# Save all file matches: csv_files\n",
    "csv_files = glob.glob(pattern)\n",
    "\n",
    "# Print the file names\n",
    "print(csv_files)\n",
    "\n",
    "# Load the second file into a DataFrame: csv2\n",
    "csv2 = pd.read_csv(csv_files[1])\n",
    "\n",
    "# head of csv2\n",
    "csv2.head()\n"
   ]
  },
  {
   "cell_type": "markdown",
   "metadata": {},
   "source": [
    "### Save files\n",
    "\n",
    "* **`.to_csv`**\n",
    "* **`.to_excel`**"
   ]
  },
  {
   "cell_type": "code",
   "execution_count": null,
   "metadata": {},
   "outputs": [],
   "source": [
    "zoo.to_csv('file_clean.csv',index=False)\n",
    "# it will save the file with name 'file_clean' without index\n",
    "\n",
    "zoo.to_excel('file_clean.xlsx',index=False)"
   ]
  },
  {
   "cell_type": "markdown",
   "metadata": {},
   "source": [
    "-------------\n",
    "## Data Selection & Slicing\n",
    "\n",
    "### Column Access"
   ]
  },
  {
   "cell_type": "code",
   "execution_count": 10,
   "metadata": {},
   "outputs": [
    {
     "data": {
      "text/plain": [
       "an1     500\n",
       "an2     600\n",
       "an3     550\n",
       "an4     300\n",
       "an5     290\n",
       "an6     310\n",
       "an7     200\n",
       "an8     220\n",
       "an9     100\n",
       "an10     80\n",
       "an11    420\n",
       "an12    390\n",
       "an13    410\n",
       "an14    430\n",
       "an15    410\n",
       "Name: water_need, dtype: int64"
      ]
     },
     "execution_count": 10,
     "metadata": {},
     "output_type": "execute_result"
    }
   ],
   "source": [
    "zoo = pd.read_csv('zoo.csv',index_col=0)\n",
    "zoo.head()\n",
    "\n",
    "zoo[\"water_need\"]\n",
    "\n",
    "# or \n",
    "# zoo.water_need"
   ]
  },
  {
   "cell_type": "code",
   "execution_count": 110,
   "metadata": {},
   "outputs": [
    {
     "data": {
      "text/plain": [
       "pandas.core.series.Series"
      ]
     },
     "execution_count": 110,
     "metadata": {},
     "output_type": "execute_result"
    }
   ],
   "source": [
    "type(zoo[\"water_need\"])"
   ]
  },
  {
   "cell_type": "code",
   "execution_count": 13,
   "metadata": {},
   "outputs": [
    {
     "data": {
      "text/plain": [
       "[500, 600, 550, 300, 290, 310, 200, 220, 100, 80, 420, 390, 410, 430, 410]"
      ]
     },
     "execution_count": 13,
     "metadata": {},
     "output_type": "execute_result"
    }
   ],
   "source": [
    "# convert col (which is series) into a list\n",
    "list(zoo['water_need'])"
   ]
  },
  {
   "cell_type": "code",
   "execution_count": 111,
   "metadata": {},
   "outputs": [
    {
     "data": {
      "text/plain": [
       "pandas.core.frame.DataFrame"
      ]
     },
     "execution_count": 111,
     "metadata": {},
     "output_type": "execute_result"
    }
   ],
   "source": [
    "type(zoo[[\"water_need\"]]) #double square to make a \n",
    "#sub-DataFrame"
   ]
  },
  {
   "cell_type": "code",
   "execution_count": 280,
   "metadata": {},
   "outputs": [
    {
     "data": {
      "text/html": [
       "<div>\n",
       "<style scoped>\n",
       "    .dataframe tbody tr th:only-of-type {\n",
       "        vertical-align: middle;\n",
       "    }\n",
       "\n",
       "    .dataframe tbody tr th {\n",
       "        vertical-align: top;\n",
       "    }\n",
       "\n",
       "    .dataframe thead th {\n",
       "        text-align: right;\n",
       "    }\n",
       "</style>\n",
       "<table border=\"1\" class=\"dataframe\">\n",
       "  <thead>\n",
       "    <tr style=\"text-align: right;\">\n",
       "      <th></th>\n",
       "      <th>animal</th>\n",
       "      <th>water_need</th>\n",
       "    </tr>\n",
       "  </thead>\n",
       "  <tbody>\n",
       "    <tr>\n",
       "      <th>an1</th>\n",
       "      <td>elephant</td>\n",
       "      <td>500</td>\n",
       "    </tr>\n",
       "    <tr>\n",
       "      <th>an2</th>\n",
       "      <td>elephant</td>\n",
       "      <td>600</td>\n",
       "    </tr>\n",
       "    <tr>\n",
       "      <th>an3</th>\n",
       "      <td>elephant</td>\n",
       "      <td>550</td>\n",
       "    </tr>\n",
       "    <tr>\n",
       "      <th>an4</th>\n",
       "      <td>tiger</td>\n",
       "      <td>300</td>\n",
       "    </tr>\n",
       "    <tr>\n",
       "      <th>an5</th>\n",
       "      <td>tiger</td>\n",
       "      <td>290</td>\n",
       "    </tr>\n",
       "    <tr>\n",
       "      <th>an6</th>\n",
       "      <td>tiger</td>\n",
       "      <td>310</td>\n",
       "    </tr>\n",
       "    <tr>\n",
       "      <th>an7</th>\n",
       "      <td>zebra</td>\n",
       "      <td>200</td>\n",
       "    </tr>\n",
       "    <tr>\n",
       "      <th>an8</th>\n",
       "      <td>zebra</td>\n",
       "      <td>220</td>\n",
       "    </tr>\n",
       "    <tr>\n",
       "      <th>an9</th>\n",
       "      <td>zebra</td>\n",
       "      <td>100</td>\n",
       "    </tr>\n",
       "    <tr>\n",
       "      <th>an10</th>\n",
       "      <td>zebra</td>\n",
       "      <td>80</td>\n",
       "    </tr>\n",
       "    <tr>\n",
       "      <th>an11</th>\n",
       "      <td>lion</td>\n",
       "      <td>420</td>\n",
       "    </tr>\n",
       "    <tr>\n",
       "      <th>an12</th>\n",
       "      <td>lion</td>\n",
       "      <td>390</td>\n",
       "    </tr>\n",
       "    <tr>\n",
       "      <th>an13</th>\n",
       "      <td>kangaroo</td>\n",
       "      <td>410</td>\n",
       "    </tr>\n",
       "    <tr>\n",
       "      <th>an14</th>\n",
       "      <td>kangaroo</td>\n",
       "      <td>430</td>\n",
       "    </tr>\n",
       "    <tr>\n",
       "      <th>an15</th>\n",
       "      <td>kangaroo</td>\n",
       "      <td>410</td>\n",
       "    </tr>\n",
       "  </tbody>\n",
       "</table>\n",
       "</div>"
      ],
      "text/plain": [
       "        animal  water_need\n",
       "an1   elephant         500\n",
       "an2   elephant         600\n",
       "an3   elephant         550\n",
       "an4      tiger         300\n",
       "an5      tiger         290\n",
       "an6      tiger         310\n",
       "an7      zebra         200\n",
       "an8      zebra         220\n",
       "an9      zebra         100\n",
       "an10     zebra          80\n",
       "an11      lion         420\n",
       "an12      lion         390\n",
       "an13  kangaroo         410\n",
       "an14  kangaroo         430\n",
       "an15  kangaroo         410"
      ]
     },
     "execution_count": 280,
     "metadata": {},
     "output_type": "execute_result"
    }
   ],
   "source": [
    "#two columns selection\n",
    "zoo[['animal','water_need']]"
   ]
  },
  {
   "cell_type": "markdown",
   "metadata": {},
   "source": [
    "### Raw Access"
   ]
  },
  {
   "cell_type": "code",
   "execution_count": 281,
   "metadata": {},
   "outputs": [
    {
     "data": {
      "text/html": [
       "<div>\n",
       "<style scoped>\n",
       "    .dataframe tbody tr th:only-of-type {\n",
       "        vertical-align: middle;\n",
       "    }\n",
       "\n",
       "    .dataframe tbody tr th {\n",
       "        vertical-align: top;\n",
       "    }\n",
       "\n",
       "    .dataframe thead th {\n",
       "        text-align: right;\n",
       "    }\n",
       "</style>\n",
       "<table border=\"1\" class=\"dataframe\">\n",
       "  <thead>\n",
       "    <tr style=\"text-align: right;\">\n",
       "      <th></th>\n",
       "      <th>animal</th>\n",
       "      <th>uniq_id</th>\n",
       "      <th>water_need</th>\n",
       "    </tr>\n",
       "  </thead>\n",
       "  <tbody>\n",
       "    <tr>\n",
       "      <th>an2</th>\n",
       "      <td>elephant</td>\n",
       "      <td>1002</td>\n",
       "      <td>600</td>\n",
       "    </tr>\n",
       "    <tr>\n",
       "      <th>an3</th>\n",
       "      <td>elephant</td>\n",
       "      <td>1003</td>\n",
       "      <td>550</td>\n",
       "    </tr>\n",
       "    <tr>\n",
       "      <th>an4</th>\n",
       "      <td>tiger</td>\n",
       "      <td>1004</td>\n",
       "      <td>300</td>\n",
       "    </tr>\n",
       "  </tbody>\n",
       "</table>\n",
       "</div>"
      ],
      "text/plain": [
       "       animal  uniq_id  water_need\n",
       "an2  elephant     1002         600\n",
       "an3  elephant     1003         550\n",
       "an4     tiger     1004         300"
      ]
     },
     "execution_count": 281,
     "metadata": {},
     "output_type": "execute_result"
    }
   ],
   "source": [
    "zoo[1:4] #numbers to select raws"
   ]
  },
  {
   "cell_type": "markdown",
   "metadata": {},
   "source": [
    "### Raw & Col Axis"
   ]
  },
  {
   "cell_type": "code",
   "execution_count": 282,
   "metadata": {},
   "outputs": [
    {
     "data": {
      "text/plain": [
       "'elephant'"
      ]
     },
     "execution_count": 282,
     "metadata": {},
     "output_type": "execute_result"
    }
   ],
   "source": [
    "zoo['animal']['an3']"
   ]
  },
  {
   "cell_type": "code",
   "execution_count": 283,
   "metadata": {},
   "outputs": [
    {
     "data": {
      "text/plain": [
       "'elephant'"
      ]
     },
     "execution_count": 283,
     "metadata": {},
     "output_type": "execute_result"
    }
   ],
   "source": [
    "zoo.animal['an3']"
   ]
  },
  {
   "cell_type": "markdown",
   "metadata": {},
   "source": [
    "-------\n",
    "### loc & iloc\n",
    "\n",
    "**loc**\n",
    "\n",
    "With `loc` and `iloc` you can do practically any data selection operation on DataFrames you can think of. `loc` is label-based, which means that you have to specify rows and columns based on their row and column labels. `iloc` is integer index based, so you have to specify rows and columns by their integer index.\n",
    "\n",
    "`DataFrame.loc('raw_index')`\n"
   ]
  },
  {
   "cell_type": "code",
   "execution_count": 284,
   "metadata": {},
   "outputs": [
    {
     "data": {
      "text/plain": [
       "animal        elephant\n",
       "uniq_id           1003\n",
       "water_need         550\n",
       "Name: an3, dtype: object"
      ]
     },
     "execution_count": 284,
     "metadata": {},
     "output_type": "execute_result"
    }
   ],
   "source": [
    "zoo.loc['an3'] #in our datafr"
   ]
  },
  {
   "cell_type": "code",
   "execution_count": 285,
   "metadata": {},
   "outputs": [
    {
     "data": {
      "text/html": [
       "<div>\n",
       "<style scoped>\n",
       "    .dataframe tbody tr th:only-of-type {\n",
       "        vertical-align: middle;\n",
       "    }\n",
       "\n",
       "    .dataframe tbody tr th {\n",
       "        vertical-align: top;\n",
       "    }\n",
       "\n",
       "    .dataframe thead th {\n",
       "        text-align: right;\n",
       "    }\n",
       "</style>\n",
       "<table border=\"1\" class=\"dataframe\">\n",
       "  <thead>\n",
       "    <tr style=\"text-align: right;\">\n",
       "      <th></th>\n",
       "      <th>animal</th>\n",
       "      <th>uniq_id</th>\n",
       "      <th>water_need</th>\n",
       "    </tr>\n",
       "  </thead>\n",
       "  <tbody>\n",
       "    <tr>\n",
       "      <th>an3</th>\n",
       "      <td>elephant</td>\n",
       "      <td>1003</td>\n",
       "      <td>550</td>\n",
       "    </tr>\n",
       "  </tbody>\n",
       "</table>\n",
       "</div>"
      ],
      "text/plain": [
       "       animal  uniq_id  water_need\n",
       "an3  elephant     1003         550"
      ]
     },
     "execution_count": 285,
     "metadata": {},
     "output_type": "execute_result"
    }
   ],
   "source": [
    "#to get a dataframe\n",
    "\n",
    "zoo.loc[['an3']]"
   ]
  },
  {
   "cell_type": "code",
   "execution_count": 286,
   "metadata": {},
   "outputs": [
    {
     "data": {
      "text/html": [
       "<div>\n",
       "<style scoped>\n",
       "    .dataframe tbody tr th:only-of-type {\n",
       "        vertical-align: middle;\n",
       "    }\n",
       "\n",
       "    .dataframe tbody tr th {\n",
       "        vertical-align: top;\n",
       "    }\n",
       "\n",
       "    .dataframe thead th {\n",
       "        text-align: right;\n",
       "    }\n",
       "</style>\n",
       "<table border=\"1\" class=\"dataframe\">\n",
       "  <thead>\n",
       "    <tr style=\"text-align: right;\">\n",
       "      <th></th>\n",
       "      <th>animal</th>\n",
       "      <th>uniq_id</th>\n",
       "      <th>water_need</th>\n",
       "    </tr>\n",
       "  </thead>\n",
       "  <tbody>\n",
       "    <tr>\n",
       "      <th>an3</th>\n",
       "      <td>elephant</td>\n",
       "      <td>1003</td>\n",
       "      <td>550</td>\n",
       "    </tr>\n",
       "    <tr>\n",
       "      <th>an5</th>\n",
       "      <td>tiger</td>\n",
       "      <td>1007</td>\n",
       "      <td>290</td>\n",
       "    </tr>\n",
       "  </tbody>\n",
       "</table>\n",
       "</div>"
      ],
      "text/plain": [
       "       animal  uniq_id  water_need\n",
       "an3  elephant     1003         550\n",
       "an5     tiger     1007         290"
      ]
     },
     "execution_count": 286,
     "metadata": {},
     "output_type": "execute_result"
    }
   ],
   "source": [
    "#muliple rows\n",
    "\n",
    "zoo.loc[['an3','an5']]"
   ]
  },
  {
   "cell_type": "code",
   "execution_count": 287,
   "metadata": {},
   "outputs": [
    {
     "data": {
      "text/html": [
       "<div>\n",
       "<style scoped>\n",
       "    .dataframe tbody tr th:only-of-type {\n",
       "        vertical-align: middle;\n",
       "    }\n",
       "\n",
       "    .dataframe tbody tr th {\n",
       "        vertical-align: top;\n",
       "    }\n",
       "\n",
       "    .dataframe thead th {\n",
       "        text-align: right;\n",
       "    }\n",
       "</style>\n",
       "<table border=\"1\" class=\"dataframe\">\n",
       "  <thead>\n",
       "    <tr style=\"text-align: right;\">\n",
       "      <th></th>\n",
       "      <th>animal</th>\n",
       "      <th>uniq_id</th>\n",
       "      <th>water_need</th>\n",
       "    </tr>\n",
       "  </thead>\n",
       "  <tbody>\n",
       "    <tr>\n",
       "      <th>an3</th>\n",
       "      <td>elephant</td>\n",
       "      <td>1003</td>\n",
       "      <td>550</td>\n",
       "    </tr>\n",
       "    <tr>\n",
       "      <th>an4</th>\n",
       "      <td>tiger</td>\n",
       "      <td>1004</td>\n",
       "      <td>300</td>\n",
       "    </tr>\n",
       "    <tr>\n",
       "      <th>an5</th>\n",
       "      <td>tiger</td>\n",
       "      <td>1007</td>\n",
       "      <td>290</td>\n",
       "    </tr>\n",
       "  </tbody>\n",
       "</table>\n",
       "</div>"
      ],
      "text/plain": [
       "       animal  uniq_id  water_need\n",
       "an3  elephant     1003         550\n",
       "an4     tiger     1004         300\n",
       "an5     tiger     1007         290"
      ]
     },
     "execution_count": 287,
     "metadata": {},
     "output_type": "execute_result"
    }
   ],
   "source": [
    "# an5 is INCLUSIVE\n",
    "zoo.loc['an3':'an5']"
   ]
  },
  {
   "cell_type": "code",
   "execution_count": 288,
   "metadata": {},
   "outputs": [
    {
     "data": {
      "text/html": [
       "<div>\n",
       "<style scoped>\n",
       "    .dataframe tbody tr th:only-of-type {\n",
       "        vertical-align: middle;\n",
       "    }\n",
       "\n",
       "    .dataframe tbody tr th {\n",
       "        vertical-align: top;\n",
       "    }\n",
       "\n",
       "    .dataframe thead th {\n",
       "        text-align: right;\n",
       "    }\n",
       "</style>\n",
       "<table border=\"1\" class=\"dataframe\">\n",
       "  <thead>\n",
       "    <tr style=\"text-align: right;\">\n",
       "      <th></th>\n",
       "      <th>animal</th>\n",
       "      <th>uniq_id</th>\n",
       "      <th>water_need</th>\n",
       "    </tr>\n",
       "  </thead>\n",
       "  <tbody>\n",
       "    <tr>\n",
       "      <th>an5</th>\n",
       "      <td>tiger</td>\n",
       "      <td>1007</td>\n",
       "      <td>290</td>\n",
       "    </tr>\n",
       "    <tr>\n",
       "      <th>an4</th>\n",
       "      <td>tiger</td>\n",
       "      <td>1004</td>\n",
       "      <td>300</td>\n",
       "    </tr>\n",
       "    <tr>\n",
       "      <th>an3</th>\n",
       "      <td>elephant</td>\n",
       "      <td>1003</td>\n",
       "      <td>550</td>\n",
       "    </tr>\n",
       "  </tbody>\n",
       "</table>\n",
       "</div>"
      ],
      "text/plain": [
       "       animal  uniq_id  water_need\n",
       "an5     tiger     1007         290\n",
       "an4     tiger     1004         300\n",
       "an3  elephant     1003         550"
      ]
     },
     "execution_count": 288,
     "metadata": {},
     "output_type": "execute_result"
    }
   ],
   "source": [
    "# reverse order\n",
    "\n",
    "zoo.loc['an5':'an3':-1]"
   ]
  },
  {
   "cell_type": "markdown",
   "metadata": {},
   "source": [
    "**For rows and cols selection using `loc`**"
   ]
  },
  {
   "cell_type": "code",
   "execution_count": 289,
   "metadata": {},
   "outputs": [
    {
     "data": {
      "text/plain": [
       "550"
      ]
     },
     "execution_count": 289,
     "metadata": {},
     "output_type": "execute_result"
    }
   ],
   "source": [
    "#value selestion\n",
    "\n",
    "zoo.loc['an3','water_need'] #[raw,col]"
   ]
  },
  {
   "cell_type": "code",
   "execution_count": 290,
   "metadata": {},
   "outputs": [
    {
     "data": {
      "text/html": [
       "<div>\n",
       "<style scoped>\n",
       "    .dataframe tbody tr th:only-of-type {\n",
       "        vertical-align: middle;\n",
       "    }\n",
       "\n",
       "    .dataframe tbody tr th {\n",
       "        vertical-align: top;\n",
       "    }\n",
       "\n",
       "    .dataframe thead th {\n",
       "        text-align: right;\n",
       "    }\n",
       "</style>\n",
       "<table border=\"1\" class=\"dataframe\">\n",
       "  <thead>\n",
       "    <tr style=\"text-align: right;\">\n",
       "      <th></th>\n",
       "      <th>animal</th>\n",
       "      <th>water_need</th>\n",
       "    </tr>\n",
       "  </thead>\n",
       "  <tbody>\n",
       "    <tr>\n",
       "      <th>an3</th>\n",
       "      <td>elephant</td>\n",
       "      <td>550</td>\n",
       "    </tr>\n",
       "    <tr>\n",
       "      <th>an4</th>\n",
       "      <td>tiger</td>\n",
       "      <td>300</td>\n",
       "    </tr>\n",
       "  </tbody>\n",
       "</table>\n",
       "</div>"
      ],
      "text/plain": [
       "       animal  water_need\n",
       "an3  elephant         550\n",
       "an4     tiger         300"
      ]
     },
     "execution_count": 290,
     "metadata": {},
     "output_type": "execute_result"
    }
   ],
   "source": [
    "zoo.loc[['an3','an4'],['animal','water_need']]"
   ]
  },
  {
   "cell_type": "code",
   "execution_count": 291,
   "metadata": {},
   "outputs": [
    {
     "data": {
      "text/html": [
       "<div>\n",
       "<style scoped>\n",
       "    .dataframe tbody tr th:only-of-type {\n",
       "        vertical-align: middle;\n",
       "    }\n",
       "\n",
       "    .dataframe tbody tr th {\n",
       "        vertical-align: top;\n",
       "    }\n",
       "\n",
       "    .dataframe thead th {\n",
       "        text-align: right;\n",
       "    }\n",
       "</style>\n",
       "<table border=\"1\" class=\"dataframe\">\n",
       "  <thead>\n",
       "    <tr style=\"text-align: right;\">\n",
       "      <th></th>\n",
       "      <th>animal</th>\n",
       "      <th>uniq_id</th>\n",
       "      <th>water_need</th>\n",
       "    </tr>\n",
       "  </thead>\n",
       "  <tbody>\n",
       "    <tr>\n",
       "      <th>an3</th>\n",
       "      <td>elephant</td>\n",
       "      <td>1003</td>\n",
       "      <td>550</td>\n",
       "    </tr>\n",
       "    <tr>\n",
       "      <th>an4</th>\n",
       "      <td>tiger</td>\n",
       "      <td>1004</td>\n",
       "      <td>300</td>\n",
       "    </tr>\n",
       "  </tbody>\n",
       "</table>\n",
       "</div>"
      ],
      "text/plain": [
       "       animal  uniq_id  water_need\n",
       "an3  elephant     1003         550\n",
       "an4     tiger     1004         300"
      ]
     },
     "execution_count": 291,
     "metadata": {},
     "output_type": "execute_result"
    }
   ],
   "source": [
    "# :\n",
    "zoo.loc['an3':'an4',:'water_need'] \n",
    "# cols from beginning till 'water_need'"
   ]
  },
  {
   "cell_type": "code",
   "execution_count": 292,
   "metadata": {},
   "outputs": [
    {
     "data": {
      "text/plain": [
       "an1     elephant\n",
       "an2     elephant\n",
       "an3     elephant\n",
       "an4        tiger\n",
       "an5        tiger\n",
       "an6        tiger\n",
       "an7        zebra\n",
       "an8        zebra\n",
       "an9        zebra\n",
       "an10       zebra\n",
       "an11        lion\n",
       "an12        lion\n",
       "an13    kangaroo\n",
       "an14    kangaroo\n",
       "an15    kangaroo\n",
       "Name: animal, dtype: object"
      ]
     },
     "execution_count": 292,
     "metadata": {},
     "output_type": "execute_result"
    }
   ],
   "source": [
    "# to select all rows and specific cols as series\n",
    "\n",
    "zoo.loc[:,'animal']"
   ]
  },
  {
   "cell_type": "code",
   "execution_count": 293,
   "metadata": {},
   "outputs": [
    {
     "data": {
      "text/html": [
       "<div>\n",
       "<style scoped>\n",
       "    .dataframe tbody tr th:only-of-type {\n",
       "        vertical-align: middle;\n",
       "    }\n",
       "\n",
       "    .dataframe tbody tr th {\n",
       "        vertical-align: top;\n",
       "    }\n",
       "\n",
       "    .dataframe thead th {\n",
       "        text-align: right;\n",
       "    }\n",
       "</style>\n",
       "<table border=\"1\" class=\"dataframe\">\n",
       "  <thead>\n",
       "    <tr style=\"text-align: right;\">\n",
       "      <th></th>\n",
       "      <th>animal</th>\n",
       "      <th>water_need</th>\n",
       "    </tr>\n",
       "  </thead>\n",
       "  <tbody>\n",
       "    <tr>\n",
       "      <th>an1</th>\n",
       "      <td>elephant</td>\n",
       "      <td>500</td>\n",
       "    </tr>\n",
       "    <tr>\n",
       "      <th>an2</th>\n",
       "      <td>elephant</td>\n",
       "      <td>600</td>\n",
       "    </tr>\n",
       "    <tr>\n",
       "      <th>an3</th>\n",
       "      <td>elephant</td>\n",
       "      <td>550</td>\n",
       "    </tr>\n",
       "    <tr>\n",
       "      <th>an4</th>\n",
       "      <td>tiger</td>\n",
       "      <td>300</td>\n",
       "    </tr>\n",
       "    <tr>\n",
       "      <th>an5</th>\n",
       "      <td>tiger</td>\n",
       "      <td>290</td>\n",
       "    </tr>\n",
       "    <tr>\n",
       "      <th>an6</th>\n",
       "      <td>tiger</td>\n",
       "      <td>310</td>\n",
       "    </tr>\n",
       "    <tr>\n",
       "      <th>an7</th>\n",
       "      <td>zebra</td>\n",
       "      <td>200</td>\n",
       "    </tr>\n",
       "    <tr>\n",
       "      <th>an8</th>\n",
       "      <td>zebra</td>\n",
       "      <td>220</td>\n",
       "    </tr>\n",
       "    <tr>\n",
       "      <th>an9</th>\n",
       "      <td>zebra</td>\n",
       "      <td>100</td>\n",
       "    </tr>\n",
       "    <tr>\n",
       "      <th>an10</th>\n",
       "      <td>zebra</td>\n",
       "      <td>80</td>\n",
       "    </tr>\n",
       "    <tr>\n",
       "      <th>an11</th>\n",
       "      <td>lion</td>\n",
       "      <td>420</td>\n",
       "    </tr>\n",
       "    <tr>\n",
       "      <th>an12</th>\n",
       "      <td>lion</td>\n",
       "      <td>390</td>\n",
       "    </tr>\n",
       "    <tr>\n",
       "      <th>an13</th>\n",
       "      <td>kangaroo</td>\n",
       "      <td>410</td>\n",
       "    </tr>\n",
       "    <tr>\n",
       "      <th>an14</th>\n",
       "      <td>kangaroo</td>\n",
       "      <td>430</td>\n",
       "    </tr>\n",
       "    <tr>\n",
       "      <th>an15</th>\n",
       "      <td>kangaroo</td>\n",
       "      <td>410</td>\n",
       "    </tr>\n",
       "  </tbody>\n",
       "</table>\n",
       "</div>"
      ],
      "text/plain": [
       "        animal  water_need\n",
       "an1   elephant         500\n",
       "an2   elephant         600\n",
       "an3   elephant         550\n",
       "an4      tiger         300\n",
       "an5      tiger         290\n",
       "an6      tiger         310\n",
       "an7      zebra         200\n",
       "an8      zebra         220\n",
       "an9      zebra         100\n",
       "an10     zebra          80\n",
       "an11      lion         420\n",
       "an12      lion         390\n",
       "an13  kangaroo         410\n",
       "an14  kangaroo         430\n",
       "an15  kangaroo         410"
      ]
     },
     "execution_count": 293,
     "metadata": {},
     "output_type": "execute_result"
    }
   ],
   "source": [
    "# to select all rows and specific cols as dataframe\n",
    "zoo.loc[:,['animal','water_need']]"
   ]
  },
  {
   "cell_type": "markdown",
   "metadata": {},
   "source": [
    "------\n",
    "**iloc**\n",
    "\n",
    "it takes indexs (integers) to locate the rows and cols"
   ]
  },
  {
   "cell_type": "code",
   "execution_count": 19,
   "metadata": {},
   "outputs": [
    {
     "data": {
      "text/plain": [
       "animal        elephant\n",
       "uniq_id           1003\n",
       "water_need         550\n",
       "Name: an3, dtype: object"
      ]
     },
     "execution_count": 19,
     "metadata": {},
     "output_type": "execute_result"
    }
   ],
   "source": [
    "zoo.iloc[2] #3rd raw series"
   ]
  },
  {
   "cell_type": "code",
   "execution_count": 20,
   "metadata": {},
   "outputs": [
    {
     "data": {
      "text/html": [
       "<div>\n",
       "<style scoped>\n",
       "    .dataframe tbody tr th:only-of-type {\n",
       "        vertical-align: middle;\n",
       "    }\n",
       "\n",
       "    .dataframe tbody tr th {\n",
       "        vertical-align: top;\n",
       "    }\n",
       "\n",
       "    .dataframe thead th {\n",
       "        text-align: right;\n",
       "    }\n",
       "</style>\n",
       "<table border=\"1\" class=\"dataframe\">\n",
       "  <thead>\n",
       "    <tr style=\"text-align: right;\">\n",
       "      <th></th>\n",
       "      <th>animal</th>\n",
       "      <th>uniq_id</th>\n",
       "      <th>water_need</th>\n",
       "    </tr>\n",
       "  </thead>\n",
       "  <tbody>\n",
       "    <tr>\n",
       "      <th>an3</th>\n",
       "      <td>elephant</td>\n",
       "      <td>1003</td>\n",
       "      <td>550</td>\n",
       "    </tr>\n",
       "  </tbody>\n",
       "</table>\n",
       "</div>"
      ],
      "text/plain": [
       "       animal  uniq_id  water_need\n",
       "an3  elephant     1003         550"
      ]
     },
     "execution_count": 20,
     "metadata": {},
     "output_type": "execute_result"
    }
   ],
   "source": [
    "zoo.iloc[[2]] #sub-dataframe of the 3rd raw"
   ]
  },
  {
   "cell_type": "code",
   "execution_count": 21,
   "metadata": {},
   "outputs": [
    {
     "data": {
      "text/html": [
       "<div>\n",
       "<style scoped>\n",
       "    .dataframe tbody tr th:only-of-type {\n",
       "        vertical-align: middle;\n",
       "    }\n",
       "\n",
       "    .dataframe tbody tr th {\n",
       "        vertical-align: top;\n",
       "    }\n",
       "\n",
       "    .dataframe thead th {\n",
       "        text-align: right;\n",
       "    }\n",
       "</style>\n",
       "<table border=\"1\" class=\"dataframe\">\n",
       "  <thead>\n",
       "    <tr style=\"text-align: right;\">\n",
       "      <th></th>\n",
       "      <th>animal</th>\n",
       "      <th>uniq_id</th>\n",
       "      <th>water_need</th>\n",
       "    </tr>\n",
       "  </thead>\n",
       "  <tbody>\n",
       "    <tr>\n",
       "      <th>an2</th>\n",
       "      <td>elephant</td>\n",
       "      <td>1002</td>\n",
       "      <td>600</td>\n",
       "    </tr>\n",
       "    <tr>\n",
       "      <th>an3</th>\n",
       "      <td>elephant</td>\n",
       "      <td>1003</td>\n",
       "      <td>550</td>\n",
       "    </tr>\n",
       "    <tr>\n",
       "      <th>an4</th>\n",
       "      <td>tiger</td>\n",
       "      <td>1004</td>\n",
       "      <td>300</td>\n",
       "    </tr>\n",
       "  </tbody>\n",
       "</table>\n",
       "</div>"
      ],
      "text/plain": [
       "       animal  uniq_id  water_need\n",
       "an2  elephant     1002         600\n",
       "an3  elephant     1003         550\n",
       "an4     tiger     1004         300"
      ]
     },
     "execution_count": 21,
     "metadata": {},
     "output_type": "execute_result"
    }
   ],
   "source": [
    "#mulitple rows\n",
    "zoo.iloc[[1,2,3]]"
   ]
  },
  {
   "cell_type": "code",
   "execution_count": 22,
   "metadata": {},
   "outputs": [
    {
     "data": {
      "text/plain": [
       "600"
      ]
     },
     "execution_count": 22,
     "metadata": {},
     "output_type": "execute_result"
    }
   ],
   "source": [
    "#value selection (2nd raw with 3rd column)\n",
    "zoo.iloc[1,2]"
   ]
  },
  {
   "cell_type": "code",
   "execution_count": 261,
   "metadata": {},
   "outputs": [
    {
     "data": {
      "text/html": [
       "<div>\n",
       "<style scoped>\n",
       "    .dataframe tbody tr th:only-of-type {\n",
       "        vertical-align: middle;\n",
       "    }\n",
       "\n",
       "    .dataframe tbody tr th {\n",
       "        vertical-align: top;\n",
       "    }\n",
       "\n",
       "    .dataframe thead th {\n",
       "        text-align: right;\n",
       "    }\n",
       "</style>\n",
       "<table border=\"1\" class=\"dataframe\">\n",
       "  <thead>\n",
       "    <tr style=\"text-align: right;\">\n",
       "      <th></th>\n",
       "      <th>animal</th>\n",
       "      <th>uniq_id</th>\n",
       "    </tr>\n",
       "  </thead>\n",
       "  <tbody>\n",
       "    <tr>\n",
       "      <th>an2</th>\n",
       "      <td>elephant</td>\n",
       "      <td>1002</td>\n",
       "    </tr>\n",
       "    <tr>\n",
       "      <th>an4</th>\n",
       "      <td>tiger</td>\n",
       "      <td>1004</td>\n",
       "    </tr>\n",
       "    <tr>\n",
       "      <th>an7</th>\n",
       "      <td>tiger</td>\n",
       "      <td>1007</td>\n",
       "    </tr>\n",
       "  </tbody>\n",
       "</table>\n",
       "</div>"
      ],
      "text/plain": [
       "       animal  uniq_id\n",
       "an2  elephant     1002\n",
       "an4     tiger     1004\n",
       "an7     tiger     1007"
      ]
     },
     "execution_count": 261,
     "metadata": {},
     "output_type": "execute_result"
    }
   ],
   "source": [
    "#raws and cols\n",
    "zoo.iloc[[1,3,6],[0,1]]"
   ]
  },
  {
   "cell_type": "code",
   "execution_count": 260,
   "metadata": {},
   "outputs": [
    {
     "data": {
      "text/html": [
       "<div>\n",
       "<style scoped>\n",
       "    .dataframe tbody tr th:only-of-type {\n",
       "        vertical-align: middle;\n",
       "    }\n",
       "\n",
       "    .dataframe tbody tr th {\n",
       "        vertical-align: top;\n",
       "    }\n",
       "\n",
       "    .dataframe thead th {\n",
       "        text-align: right;\n",
       "    }\n",
       "</style>\n",
       "<table border=\"1\" class=\"dataframe\">\n",
       "  <thead>\n",
       "    <tr style=\"text-align: right;\">\n",
       "      <th></th>\n",
       "      <th>animal</th>\n",
       "      <th>uniq_id</th>\n",
       "    </tr>\n",
       "  </thead>\n",
       "  <tbody>\n",
       "    <tr>\n",
       "      <th>an2</th>\n",
       "      <td>elephant</td>\n",
       "      <td>1002</td>\n",
       "    </tr>\n",
       "    <tr>\n",
       "      <th>an3</th>\n",
       "      <td>elephant</td>\n",
       "      <td>1003</td>\n",
       "    </tr>\n",
       "  </tbody>\n",
       "</table>\n",
       "</div>"
      ],
      "text/plain": [
       "       animal  uniq_id\n",
       "an2  elephant     1002\n",
       "an3  elephant     1003"
      ]
     },
     "execution_count": 260,
     "metadata": {},
     "output_type": "execute_result"
    }
   ],
   "source": [
    "# 3 is EXCLUSIVE\n",
    "zoo.iloc[1:3,[0,1]]"
   ]
  },
  {
   "cell_type": "code",
   "execution_count": 294,
   "metadata": {},
   "outputs": [
    {
     "data": {
      "text/html": [
       "<div>\n",
       "<style scoped>\n",
       "    .dataframe tbody tr th:only-of-type {\n",
       "        vertical-align: middle;\n",
       "    }\n",
       "\n",
       "    .dataframe tbody tr th {\n",
       "        vertical-align: top;\n",
       "    }\n",
       "\n",
       "    .dataframe thead th {\n",
       "        text-align: right;\n",
       "    }\n",
       "</style>\n",
       "<table border=\"1\" class=\"dataframe\">\n",
       "  <thead>\n",
       "    <tr style=\"text-align: right;\">\n",
       "      <th></th>\n",
       "      <th>animal</th>\n",
       "      <th>uniq_id</th>\n",
       "    </tr>\n",
       "  </thead>\n",
       "  <tbody>\n",
       "    <tr>\n",
       "      <th>an1</th>\n",
       "      <td>elephant</td>\n",
       "      <td>1001</td>\n",
       "    </tr>\n",
       "    <tr>\n",
       "      <th>an2</th>\n",
       "      <td>elephant</td>\n",
       "      <td>1002</td>\n",
       "    </tr>\n",
       "    <tr>\n",
       "      <th>an3</th>\n",
       "      <td>elephant</td>\n",
       "      <td>1003</td>\n",
       "    </tr>\n",
       "    <tr>\n",
       "      <th>an4</th>\n",
       "      <td>tiger</td>\n",
       "      <td>1004</td>\n",
       "    </tr>\n",
       "    <tr>\n",
       "      <th>an5</th>\n",
       "      <td>tiger</td>\n",
       "      <td>1007</td>\n",
       "    </tr>\n",
       "    <tr>\n",
       "      <th>an6</th>\n",
       "      <td>tiger</td>\n",
       "      <td>1008</td>\n",
       "    </tr>\n",
       "    <tr>\n",
       "      <th>an7</th>\n",
       "      <td>zebra</td>\n",
       "      <td>1009</td>\n",
       "    </tr>\n",
       "    <tr>\n",
       "      <th>an8</th>\n",
       "      <td>zebra</td>\n",
       "      <td>1010</td>\n",
       "    </tr>\n",
       "    <tr>\n",
       "      <th>an9</th>\n",
       "      <td>zebra</td>\n",
       "      <td>1014</td>\n",
       "    </tr>\n",
       "    <tr>\n",
       "      <th>an10</th>\n",
       "      <td>zebra</td>\n",
       "      <td>1015</td>\n",
       "    </tr>\n",
       "    <tr>\n",
       "      <th>an11</th>\n",
       "      <td>lion</td>\n",
       "      <td>1016</td>\n",
       "    </tr>\n",
       "    <tr>\n",
       "      <th>an12</th>\n",
       "      <td>lion</td>\n",
       "      <td>1019</td>\n",
       "    </tr>\n",
       "    <tr>\n",
       "      <th>an13</th>\n",
       "      <td>kangaroo</td>\n",
       "      <td>1020</td>\n",
       "    </tr>\n",
       "    <tr>\n",
       "      <th>an14</th>\n",
       "      <td>kangaroo</td>\n",
       "      <td>1021</td>\n",
       "    </tr>\n",
       "    <tr>\n",
       "      <th>an15</th>\n",
       "      <td>kangaroo</td>\n",
       "      <td>1022</td>\n",
       "    </tr>\n",
       "  </tbody>\n",
       "</table>\n",
       "</div>"
      ],
      "text/plain": [
       "        animal  uniq_id\n",
       "an1   elephant     1001\n",
       "an2   elephant     1002\n",
       "an3   elephant     1003\n",
       "an4      tiger     1004\n",
       "an5      tiger     1007\n",
       "an6      tiger     1008\n",
       "an7      zebra     1009\n",
       "an8      zebra     1010\n",
       "an9      zebra     1014\n",
       "an10     zebra     1015\n",
       "an11      lion     1016\n",
       "an12      lion     1019\n",
       "an13  kangaroo     1020\n",
       "an14  kangaroo     1021\n",
       "an15  kangaroo     1022"
      ]
     },
     "execution_count": 294,
     "metadata": {},
     "output_type": "execute_result"
    }
   ],
   "source": [
    "#all rows and selected cols\n",
    "zoo.iloc[:,[0,1]]"
   ]
  },
  {
   "cell_type": "markdown",
   "metadata": {},
   "source": [
    "-----------------------------\n",
    "**SUMMARY:**\n",
    "\n",
    "To select a **column** as *series*:\n",
    "* `df[\"col_name\"]`\n",
    "* `df.col_name`\n",
    "* `df.loc[:,\"col_name\"]`\n",
    "* `df.iloc[:,#col_num]`\n",
    "\n",
    "To select a **column** as *sub-dataframe*:\n",
    "* `df[[\"col_name\"]]`\n",
    "* `df.loc[:,[\"col_name\"]]`\n",
    "* `df.iloc[:,[#col_num]]`\n",
    "\n",
    "To select a **raw** as *series*:\n",
    "* `df[#raw_num]`\n",
    "* `df.loc[\"raw_label\"]`\n",
    "* `df.iloc[#raw_num]`\n",
    "\n",
    "To select a **raw** as *sub-dataframe*:\n",
    "* `df[[#raw_num]]`\n",
    "* `df.loc[[\"raw_label\"]]`\n",
    "* `df.iloc[[#raw_num]]`\n",
    "\n",
    "To select **both** raws and columns as *single value*:\n",
    "* `df.loc[\"raw_label\",\"col_name\"]`\n",
    "* `df.iloc[#raw_num,#col_num]`\n",
    "\n",
    "To select **both** raws and columns as *sub-dataframe*:\n",
    "\n",
    "* `df.loc[[\"raw_label\"],[\"col_name\"]]`\n",
    "* `df.iloc[[#raw_num],[#col_num]]`"
   ]
  },
  {
   "cell_type": "markdown",
   "metadata": {},
   "source": [
    "---------\n",
    "## Filtering in Pandas\n",
    "\n",
    "### Filtering using Boolean Series"
   ]
  },
  {
   "cell_type": "code",
   "execution_count": 112,
   "metadata": {},
   "outputs": [
    {
     "data": {
      "text/html": [
       "<div>\n",
       "<style scoped>\n",
       "    .dataframe tbody tr th:only-of-type {\n",
       "        vertical-align: middle;\n",
       "    }\n",
       "\n",
       "    .dataframe tbody tr th {\n",
       "        vertical-align: top;\n",
       "    }\n",
       "\n",
       "    .dataframe thead th {\n",
       "        text-align: right;\n",
       "    }\n",
       "</style>\n",
       "<table border=\"1\" class=\"dataframe\">\n",
       "  <thead>\n",
       "    <tr style=\"text-align: right;\">\n",
       "      <th></th>\n",
       "      <th>animal</th>\n",
       "      <th>uniq_id</th>\n",
       "      <th>water_need</th>\n",
       "    </tr>\n",
       "  </thead>\n",
       "  <tbody>\n",
       "    <tr>\n",
       "      <th>an1</th>\n",
       "      <td>elephant</td>\n",
       "      <td>1001</td>\n",
       "      <td>500</td>\n",
       "    </tr>\n",
       "    <tr>\n",
       "      <th>an2</th>\n",
       "      <td>elephant</td>\n",
       "      <td>1002</td>\n",
       "      <td>600</td>\n",
       "    </tr>\n",
       "    <tr>\n",
       "      <th>an3</th>\n",
       "      <td>elephant</td>\n",
       "      <td>1003</td>\n",
       "      <td>550</td>\n",
       "    </tr>\n",
       "    <tr>\n",
       "      <th>an4</th>\n",
       "      <td>tiger</td>\n",
       "      <td>1004</td>\n",
       "      <td>300</td>\n",
       "    </tr>\n",
       "    <tr>\n",
       "      <th>an5</th>\n",
       "      <td>tiger</td>\n",
       "      <td>1007</td>\n",
       "      <td>290</td>\n",
       "    </tr>\n",
       "    <tr>\n",
       "      <th>an6</th>\n",
       "      <td>tiger</td>\n",
       "      <td>1008</td>\n",
       "      <td>310</td>\n",
       "    </tr>\n",
       "    <tr>\n",
       "      <th>an7</th>\n",
       "      <td>zebra</td>\n",
       "      <td>1009</td>\n",
       "      <td>200</td>\n",
       "    </tr>\n",
       "    <tr>\n",
       "      <th>an8</th>\n",
       "      <td>zebra</td>\n",
       "      <td>1010</td>\n",
       "      <td>220</td>\n",
       "    </tr>\n",
       "    <tr>\n",
       "      <th>an9</th>\n",
       "      <td>zebra</td>\n",
       "      <td>1014</td>\n",
       "      <td>100</td>\n",
       "    </tr>\n",
       "    <tr>\n",
       "      <th>an10</th>\n",
       "      <td>zebra</td>\n",
       "      <td>1015</td>\n",
       "      <td>80</td>\n",
       "    </tr>\n",
       "    <tr>\n",
       "      <th>an11</th>\n",
       "      <td>lion</td>\n",
       "      <td>1016</td>\n",
       "      <td>420</td>\n",
       "    </tr>\n",
       "    <tr>\n",
       "      <th>an12</th>\n",
       "      <td>lion</td>\n",
       "      <td>1019</td>\n",
       "      <td>390</td>\n",
       "    </tr>\n",
       "    <tr>\n",
       "      <th>an13</th>\n",
       "      <td>kangaroo</td>\n",
       "      <td>1020</td>\n",
       "      <td>410</td>\n",
       "    </tr>\n",
       "    <tr>\n",
       "      <th>an14</th>\n",
       "      <td>kangaroo</td>\n",
       "      <td>1021</td>\n",
       "      <td>430</td>\n",
       "    </tr>\n",
       "    <tr>\n",
       "      <th>an15</th>\n",
       "      <td>kangaroo</td>\n",
       "      <td>1022</td>\n",
       "      <td>410</td>\n",
       "    </tr>\n",
       "  </tbody>\n",
       "</table>\n",
       "</div>"
      ],
      "text/plain": [
       "        animal  uniq_id  water_need\n",
       "an1   elephant     1001         500\n",
       "an2   elephant     1002         600\n",
       "an3   elephant     1003         550\n",
       "an4      tiger     1004         300\n",
       "an5      tiger     1007         290\n",
       "an6      tiger     1008         310\n",
       "an7      zebra     1009         200\n",
       "an8      zebra     1010         220\n",
       "an9      zebra     1014         100\n",
       "an10     zebra     1015          80\n",
       "an11      lion     1016         420\n",
       "an12      lion     1019         390\n",
       "an13  kangaroo     1020         410\n",
       "an14  kangaroo     1021         430\n",
       "an15  kangaroo     1022         410"
      ]
     },
     "execution_count": 112,
     "metadata": {},
     "output_type": "execute_result"
    }
   ],
   "source": [
    "zoo #complete dataset"
   ]
  },
  {
   "cell_type": "markdown",
   "metadata": {},
   "source": [
    "Lets say you want to filter the `water_need` to greater than 300.\n",
    "\n",
    "* First select the columns that are greater than 300\n",
    "* Then do the comparison on the col (get a series)\n",
    "* Then apply the comparison to the dataset"
   ]
  },
  {
   "cell_type": "code",
   "execution_count": 296,
   "metadata": {},
   "outputs": [
    {
     "data": {
      "text/plain": [
       "an1     500\n",
       "an2     600\n",
       "an3     550\n",
       "an4     300\n",
       "an5     290\n",
       "an6     310\n",
       "an7     200\n",
       "an8     220\n",
       "an9     100\n",
       "an10     80\n",
       "an11    420\n",
       "an12    390\n",
       "an13    410\n",
       "an14    430\n",
       "an15    410\n",
       "Name: water_need, dtype: int64"
      ]
     },
     "execution_count": 296,
     "metadata": {},
     "output_type": "execute_result"
    }
   ],
   "source": [
    "zoo[\"water_need\"]"
   ]
  },
  {
   "cell_type": "code",
   "execution_count": 55,
   "metadata": {},
   "outputs": [
    {
     "data": {
      "text/plain": [
       "an1      True\n",
       "an2      True\n",
       "an3      True\n",
       "an4     False\n",
       "an5     False\n",
       "an6      True\n",
       "an7     False\n",
       "an8     False\n",
       "an9     False\n",
       "an10    False\n",
       "an11     True\n",
       "an12     True\n",
       "an13     True\n",
       "an14     True\n",
       "an15     True\n",
       "Name: water_need, dtype: bool"
      ]
     },
     "execution_count": 55,
     "metadata": {},
     "output_type": "execute_result"
    }
   ],
   "source": [
    "zoo[\"water_need\"]>300"
   ]
  },
  {
   "cell_type": "code",
   "execution_count": 56,
   "metadata": {},
   "outputs": [
    {
     "data": {
      "text/plain": [
       "an1     False\n",
       "an2     False\n",
       "an3     False\n",
       "an4     False\n",
       "an5     False\n",
       "an6      True\n",
       "an7     False\n",
       "an8     False\n",
       "an9     False\n",
       "an10    False\n",
       "an11     True\n",
       "an12     True\n",
       "an13     True\n",
       "an14     True\n",
       "an15     True\n",
       "Name: water_need, dtype: bool"
      ]
     },
     "execution_count": 56,
     "metadata": {},
     "output_type": "execute_result"
    }
   ],
   "source": [
    "(zoo.water_need>300)&(zoo.water_need<450)"
   ]
  },
  {
   "cell_type": "code",
   "execution_count": 5,
   "metadata": {},
   "outputs": [
    {
     "data": {
      "text/html": [
       "<div>\n",
       "<style scoped>\n",
       "    .dataframe tbody tr th:only-of-type {\n",
       "        vertical-align: middle;\n",
       "    }\n",
       "\n",
       "    .dataframe tbody tr th {\n",
       "        vertical-align: top;\n",
       "    }\n",
       "\n",
       "    .dataframe thead th {\n",
       "        text-align: right;\n",
       "    }\n",
       "</style>\n",
       "<table border=\"1\" class=\"dataframe\">\n",
       "  <thead>\n",
       "    <tr style=\"text-align: right;\">\n",
       "      <th></th>\n",
       "      <th>animal</th>\n",
       "      <th>uniq_id</th>\n",
       "      <th>water_need</th>\n",
       "    </tr>\n",
       "  </thead>\n",
       "  <tbody>\n",
       "    <tr>\n",
       "      <th>an1</th>\n",
       "      <td>elephant</td>\n",
       "      <td>1001</td>\n",
       "      <td>500</td>\n",
       "    </tr>\n",
       "    <tr>\n",
       "      <th>an2</th>\n",
       "      <td>elephant</td>\n",
       "      <td>1002</td>\n",
       "      <td>600</td>\n",
       "    </tr>\n",
       "    <tr>\n",
       "      <th>an3</th>\n",
       "      <td>elephant</td>\n",
       "      <td>1003</td>\n",
       "      <td>550</td>\n",
       "    </tr>\n",
       "    <tr>\n",
       "      <th>an6</th>\n",
       "      <td>tiger</td>\n",
       "      <td>1008</td>\n",
       "      <td>310</td>\n",
       "    </tr>\n",
       "    <tr>\n",
       "      <th>an11</th>\n",
       "      <td>lion</td>\n",
       "      <td>1016</td>\n",
       "      <td>420</td>\n",
       "    </tr>\n",
       "    <tr>\n",
       "      <th>an12</th>\n",
       "      <td>lion</td>\n",
       "      <td>1019</td>\n",
       "      <td>390</td>\n",
       "    </tr>\n",
       "    <tr>\n",
       "      <th>an13</th>\n",
       "      <td>kangaroo</td>\n",
       "      <td>1020</td>\n",
       "      <td>410</td>\n",
       "    </tr>\n",
       "    <tr>\n",
       "      <th>an14</th>\n",
       "      <td>kangaroo</td>\n",
       "      <td>1021</td>\n",
       "      <td>430</td>\n",
       "    </tr>\n",
       "    <tr>\n",
       "      <th>an15</th>\n",
       "      <td>kangaroo</td>\n",
       "      <td>1022</td>\n",
       "      <td>410</td>\n",
       "    </tr>\n",
       "  </tbody>\n",
       "</table>\n",
       "</div>"
      ],
      "text/plain": [
       "        animal  uniq_id  water_need\n",
       "an1   elephant     1001         500\n",
       "an2   elephant     1002         600\n",
       "an3   elephant     1003         550\n",
       "an6      tiger     1008         310\n",
       "an11      lion     1016         420\n",
       "an12      lion     1019         390\n",
       "an13  kangaroo     1020         410\n",
       "an14  kangaroo     1021         430\n",
       "an15  kangaroo     1022         410"
      ]
     },
     "execution_count": 5,
     "metadata": {},
     "output_type": "execute_result"
    }
   ],
   "source": [
    "need_water = zoo[\"water_need\"]>300\n",
    "zoo[need_water]\n",
    "\n",
    "#now it is filtered to water_need>300 raws"
   ]
  },
  {
   "cell_type": "markdown",
   "metadata": {},
   "source": [
    "### Filtering using `.loc[]`\n",
    "\n",
    "* **`df.loc[Boolean]`** returns the complete df filtered by Boolean\n",
    "* **`df.loc[Boolean,'col']`** returns a Series of 'col' filtered by Boolean"
   ]
  },
  {
   "cell_type": "code",
   "execution_count": 115,
   "metadata": {},
   "outputs": [
    {
     "data": {
      "text/html": [
       "<div>\n",
       "<style scoped>\n",
       "    .dataframe tbody tr th:only-of-type {\n",
       "        vertical-align: middle;\n",
       "    }\n",
       "\n",
       "    .dataframe tbody tr th {\n",
       "        vertical-align: top;\n",
       "    }\n",
       "\n",
       "    .dataframe thead th {\n",
       "        text-align: right;\n",
       "    }\n",
       "</style>\n",
       "<table border=\"1\" class=\"dataframe\">\n",
       "  <thead>\n",
       "    <tr style=\"text-align: right;\">\n",
       "      <th></th>\n",
       "      <th>animal</th>\n",
       "      <th>uniq_id</th>\n",
       "      <th>water_need</th>\n",
       "    </tr>\n",
       "  </thead>\n",
       "  <tbody>\n",
       "    <tr>\n",
       "      <th>an1</th>\n",
       "      <td>elephant</td>\n",
       "      <td>1001</td>\n",
       "      <td>500</td>\n",
       "    </tr>\n",
       "    <tr>\n",
       "      <th>an2</th>\n",
       "      <td>elephant</td>\n",
       "      <td>1002</td>\n",
       "      <td>600</td>\n",
       "    </tr>\n",
       "    <tr>\n",
       "      <th>an3</th>\n",
       "      <td>elephant</td>\n",
       "      <td>1003</td>\n",
       "      <td>550</td>\n",
       "    </tr>\n",
       "    <tr>\n",
       "      <th>an6</th>\n",
       "      <td>tiger</td>\n",
       "      <td>1008</td>\n",
       "      <td>310</td>\n",
       "    </tr>\n",
       "    <tr>\n",
       "      <th>an11</th>\n",
       "      <td>lion</td>\n",
       "      <td>1016</td>\n",
       "      <td>420</td>\n",
       "    </tr>\n",
       "    <tr>\n",
       "      <th>an12</th>\n",
       "      <td>lion</td>\n",
       "      <td>1019</td>\n",
       "      <td>390</td>\n",
       "    </tr>\n",
       "    <tr>\n",
       "      <th>an13</th>\n",
       "      <td>kangaroo</td>\n",
       "      <td>1020</td>\n",
       "      <td>410</td>\n",
       "    </tr>\n",
       "    <tr>\n",
       "      <th>an14</th>\n",
       "      <td>kangaroo</td>\n",
       "      <td>1021</td>\n",
       "      <td>430</td>\n",
       "    </tr>\n",
       "    <tr>\n",
       "      <th>an15</th>\n",
       "      <td>kangaroo</td>\n",
       "      <td>1022</td>\n",
       "      <td>410</td>\n",
       "    </tr>\n",
       "  </tbody>\n",
       "</table>\n",
       "</div>"
      ],
      "text/plain": [
       "        animal  uniq_id  water_need\n",
       "an1   elephant     1001         500\n",
       "an2   elephant     1002         600\n",
       "an3   elephant     1003         550\n",
       "an6      tiger     1008         310\n",
       "an11      lion     1016         420\n",
       "an12      lion     1019         390\n",
       "an13  kangaroo     1020         410\n",
       "an14  kangaroo     1021         430\n",
       "an15  kangaroo     1022         410"
      ]
     },
     "execution_count": 115,
     "metadata": {},
     "output_type": "execute_result"
    }
   ],
   "source": [
    "zoo.loc[need_water] #same"
   ]
  },
  {
   "cell_type": "code",
   "execution_count": 118,
   "metadata": {},
   "outputs": [
    {
     "data": {
      "text/plain": [
       "an1     elephant\n",
       "an2     elephant\n",
       "an3     elephant\n",
       "an6        tiger\n",
       "an11        lion\n",
       "an12        lion\n",
       "an13    kangaroo\n",
       "an14    kangaroo\n",
       "an15    kangaroo\n",
       "Name: animal, dtype: object"
      ]
     },
     "execution_count": 118,
     "metadata": {},
     "output_type": "execute_result"
    }
   ],
   "source": [
    "zoo.loc[need_water,'animal']"
   ]
  },
  {
   "cell_type": "markdown",
   "metadata": {},
   "source": [
    "### Filtering using mulitple conditions"
   ]
  },
  {
   "cell_type": "code",
   "execution_count": 301,
   "metadata": {},
   "outputs": [
    {
     "data": {
      "text/html": [
       "<div>\n",
       "<style scoped>\n",
       "    .dataframe tbody tr th:only-of-type {\n",
       "        vertical-align: middle;\n",
       "    }\n",
       "\n",
       "    .dataframe tbody tr th {\n",
       "        vertical-align: top;\n",
       "    }\n",
       "\n",
       "    .dataframe thead th {\n",
       "        text-align: right;\n",
       "    }\n",
       "</style>\n",
       "<table border=\"1\" class=\"dataframe\">\n",
       "  <thead>\n",
       "    <tr style=\"text-align: right;\">\n",
       "      <th></th>\n",
       "      <th>animal</th>\n",
       "      <th>uniq_id</th>\n",
       "      <th>water_need</th>\n",
       "    </tr>\n",
       "  </thead>\n",
       "  <tbody>\n",
       "    <tr>\n",
       "      <th>an6</th>\n",
       "      <td>tiger</td>\n",
       "      <td>1008</td>\n",
       "      <td>310</td>\n",
       "    </tr>\n",
       "    <tr>\n",
       "      <th>an12</th>\n",
       "      <td>lion</td>\n",
       "      <td>1019</td>\n",
       "      <td>390</td>\n",
       "    </tr>\n",
       "  </tbody>\n",
       "</table>\n",
       "</div>"
      ],
      "text/plain": [
       "     animal  uniq_id  water_need\n",
       "an6   tiger     1008         310\n",
       "an12   lion     1019         390"
      ]
     },
     "execution_count": 301,
     "metadata": {},
     "output_type": "execute_result"
    }
   ],
   "source": [
    "# greater than 300 less than 400\n",
    "condition = np.logical_and(zoo[\"water_need\"]>300,zoo[\"water_need\"]<400)\n",
    "\n",
    "zoo[condition]"
   ]
  },
  {
   "cell_type": "code",
   "execution_count": 310,
   "metadata": {},
   "outputs": [
    {
     "data": {
      "text/html": [
       "<div>\n",
       "<style scoped>\n",
       "    .dataframe tbody tr th:only-of-type {\n",
       "        vertical-align: middle;\n",
       "    }\n",
       "\n",
       "    .dataframe tbody tr th {\n",
       "        vertical-align: top;\n",
       "    }\n",
       "\n",
       "    .dataframe thead th {\n",
       "        text-align: right;\n",
       "    }\n",
       "</style>\n",
       "<table border=\"1\" class=\"dataframe\">\n",
       "  <thead>\n",
       "    <tr style=\"text-align: right;\">\n",
       "      <th></th>\n",
       "      <th>animal</th>\n",
       "      <th>uniq_id</th>\n",
       "      <th>water_need</th>\n",
       "    </tr>\n",
       "  </thead>\n",
       "  <tbody>\n",
       "    <tr>\n",
       "      <th>an6</th>\n",
       "      <td>tiger</td>\n",
       "      <td>1008</td>\n",
       "      <td>310</td>\n",
       "    </tr>\n",
       "    <tr>\n",
       "      <th>an12</th>\n",
       "      <td>lion</td>\n",
       "      <td>1019</td>\n",
       "      <td>390</td>\n",
       "    </tr>\n",
       "  </tbody>\n",
       "</table>\n",
       "</div>"
      ],
      "text/plain": [
       "     animal  uniq_id  water_need\n",
       "an6   tiger     1008         310\n",
       "an12   lion     1019         390"
      ]
     },
     "execution_count": 310,
     "metadata": {},
     "output_type": "execute_result"
    }
   ],
   "source": [
    "# using & (and), | (or)\n",
    "condition2 = (zoo[\"water_need\"]>300) & (zoo[\"water_need\"]<400)\n",
    "zoo[condition2]"
   ]
  },
  {
   "cell_type": "code",
   "execution_count": 315,
   "metadata": {},
   "outputs": [
    {
     "data": {
      "text/plain": [
       "an11    420\n",
       "an12    390\n",
       "Name: water_need, dtype: int64"
      ]
     },
     "execution_count": 315,
     "metadata": {},
     "output_type": "execute_result"
    }
   ],
   "source": [
    "# filter col based on another one's condition\n",
    "\n",
    "zoo.water_need[zoo.animal=='lion']"
   ]
  },
  {
   "cell_type": "code",
   "execution_count": 303,
   "metadata": {},
   "outputs": [
    {
     "data": {
      "text/html": [
       "<div>\n",
       "<style scoped>\n",
       "    .dataframe tbody tr th:only-of-type {\n",
       "        vertical-align: middle;\n",
       "    }\n",
       "\n",
       "    .dataframe tbody tr th {\n",
       "        vertical-align: top;\n",
       "    }\n",
       "\n",
       "    .dataframe thead th {\n",
       "        text-align: right;\n",
       "    }\n",
       "</style>\n",
       "<table border=\"1\" class=\"dataframe\">\n",
       "  <thead>\n",
       "    <tr style=\"text-align: right;\">\n",
       "      <th></th>\n",
       "      <th>animal</th>\n",
       "      <th>uniq_id</th>\n",
       "      <th>water_need</th>\n",
       "    </tr>\n",
       "  </thead>\n",
       "  <tbody>\n",
       "    <tr>\n",
       "      <th>an1</th>\n",
       "      <td>elephant</td>\n",
       "      <td>1001</td>\n",
       "      <td>500</td>\n",
       "    </tr>\n",
       "    <tr>\n",
       "      <th>an2</th>\n",
       "      <td>elephant</td>\n",
       "      <td>1002</td>\n",
       "      <td>600</td>\n",
       "    </tr>\n",
       "    <tr>\n",
       "      <th>an3</th>\n",
       "      <td>elephant</td>\n",
       "      <td>1003</td>\n",
       "      <td>550</td>\n",
       "    </tr>\n",
       "  </tbody>\n",
       "</table>\n",
       "</div>"
      ],
      "text/plain": [
       "       animal  uniq_id  water_need\n",
       "an1  elephant     1001         500\n",
       "an2  elephant     1002         600\n",
       "an3  elephant     1003         550"
      ]
     },
     "execution_count": 303,
     "metadata": {},
     "output_type": "execute_result"
    }
   ],
   "source": [
    "# elephant\n",
    "elephants = zoo['animal']=='elephant'\n",
    "\n",
    "zoo[elephants]"
   ]
  },
  {
   "cell_type": "markdown",
   "metadata": {},
   "source": [
    "Let's say that you would like to filter out the *column* animals that their names start with 'l' or 'e'"
   ]
  },
  {
   "cell_type": "code",
   "execution_count": 9,
   "metadata": {},
   "outputs": [
    {
     "name": "stdout",
     "output_type": "stream",
     "text": [
      "elephant\n",
      "elephant\n",
      "elephant\n",
      "lion\n",
      "lion\n",
      "lion\n",
      "lion\n"
     ]
    }
   ],
   "source": [
    "result = filter(lambda x: x[0]=='l'or x[0]=='e',zoo['animal'])\n",
    "for i in list(result):\n",
    "    print (i)    "
   ]
  },
  {
   "cell_type": "markdown",
   "metadata": {},
   "source": [
    "**Side Note:** If you use the above `lambda` function into `apply`, the output is Boolean series.\n",
    "\n",
    "### Filtering using NaNs and zeros\n",
    "\n",
    "* **`.all()`** which row/col has all non-zero values\n",
    "* **`.any()`** which has any non-zero entries\n",
    "\n",
    "* **`.isnull().any()`** which has any NaN\n",
    "* **`.isnull().all()`** which has all NaN\n",
    "\n",
    "* **`.notnull().any()`** which does not have any NaN (all values are present)"
   ]
  },
  {
   "cell_type": "code",
   "execution_count": 344,
   "metadata": {},
   "outputs": [
    {
     "data": {
      "text/html": [
       "<div>\n",
       "<style scoped>\n",
       "    .dataframe tbody tr th:only-of-type {\n",
       "        vertical-align: middle;\n",
       "    }\n",
       "\n",
       "    .dataframe tbody tr th {\n",
       "        vertical-align: top;\n",
       "    }\n",
       "\n",
       "    .dataframe thead th {\n",
       "        text-align: right;\n",
       "    }\n",
       "</style>\n",
       "<table border=\"1\" class=\"dataframe\">\n",
       "  <thead>\n",
       "    <tr style=\"text-align: right;\">\n",
       "      <th></th>\n",
       "      <th>animal</th>\n",
       "      <th>uniq_id</th>\n",
       "      <th>water_need</th>\n",
       "    </tr>\n",
       "  </thead>\n",
       "  <tbody>\n",
       "    <tr>\n",
       "      <th>an1</th>\n",
       "      <td>elephant</td>\n",
       "      <td>1001</td>\n",
       "      <td>500</td>\n",
       "    </tr>\n",
       "    <tr>\n",
       "      <th>an2</th>\n",
       "      <td>elephant</td>\n",
       "      <td>1002</td>\n",
       "      <td>600</td>\n",
       "    </tr>\n",
       "    <tr>\n",
       "      <th>an3</th>\n",
       "      <td>elephant</td>\n",
       "      <td>1003</td>\n",
       "      <td>550</td>\n",
       "    </tr>\n",
       "    <tr>\n",
       "      <th>an4</th>\n",
       "      <td>tiger</td>\n",
       "      <td>1004</td>\n",
       "      <td>0</td>\n",
       "    </tr>\n",
       "    <tr>\n",
       "      <th>an5</th>\n",
       "      <td>tiger</td>\n",
       "      <td>1007</td>\n",
       "      <td>0</td>\n",
       "    </tr>\n",
       "  </tbody>\n",
       "</table>\n",
       "</div>"
      ],
      "text/plain": [
       "       animal  uniq_id  water_need\n",
       "an1  elephant     1001         500\n",
       "an2  elephant     1002         600\n",
       "an3  elephant     1003         550\n",
       "an4     tiger     1004           0\n",
       "an5     tiger     1007           0"
      ]
     },
     "execution_count": 344,
     "metadata": {},
     "output_type": "execute_result"
    }
   ],
   "source": [
    "# introduce zeros in water_need\n",
    "zoo2 = zoo.copy()\n",
    "zoo2.iloc[3:5,2] = 0\n",
    "zoo2.head()"
   ]
  },
  {
   "cell_type": "code",
   "execution_count": 347,
   "metadata": {},
   "outputs": [
    {
     "data": {
      "text/html": [
       "<div>\n",
       "<style scoped>\n",
       "    .dataframe tbody tr th:only-of-type {\n",
       "        vertical-align: middle;\n",
       "    }\n",
       "\n",
       "    .dataframe tbody tr th {\n",
       "        vertical-align: top;\n",
       "    }\n",
       "\n",
       "    .dataframe thead th {\n",
       "        text-align: right;\n",
       "    }\n",
       "</style>\n",
       "<table border=\"1\" class=\"dataframe\">\n",
       "  <thead>\n",
       "    <tr style=\"text-align: right;\">\n",
       "      <th></th>\n",
       "      <th>animal</th>\n",
       "      <th>uniq_id</th>\n",
       "    </tr>\n",
       "  </thead>\n",
       "  <tbody>\n",
       "    <tr>\n",
       "      <th>an1</th>\n",
       "      <td>elephant</td>\n",
       "      <td>1001</td>\n",
       "    </tr>\n",
       "    <tr>\n",
       "      <th>an2</th>\n",
       "      <td>elephant</td>\n",
       "      <td>1002</td>\n",
       "    </tr>\n",
       "    <tr>\n",
       "      <th>an3</th>\n",
       "      <td>elephant</td>\n",
       "      <td>1003</td>\n",
       "    </tr>\n",
       "    <tr>\n",
       "      <th>an4</th>\n",
       "      <td>tiger</td>\n",
       "      <td>1004</td>\n",
       "    </tr>\n",
       "    <tr>\n",
       "      <th>an5</th>\n",
       "      <td>tiger</td>\n",
       "      <td>1007</td>\n",
       "    </tr>\n",
       "  </tbody>\n",
       "</table>\n",
       "</div>"
      ],
      "text/plain": [
       "       animal  uniq_id\n",
       "an1  elephant     1001\n",
       "an2  elephant     1002\n",
       "an3  elephant     1003\n",
       "an4     tiger     1004\n",
       "an5     tiger     1007"
      ]
     },
     "execution_count": 347,
     "metadata": {},
     "output_type": "execute_result"
    }
   ],
   "source": [
    "zoo2.loc[:,zoo2.all()].head()\n",
    "\n",
    "#col water_need is dropped since it has zeros"
   ]
  },
  {
   "cell_type": "markdown",
   "metadata": {},
   "source": [
    "--------\n",
    "## Looping over pandas databasis"
   ]
  },
  {
   "cell_type": "code",
   "execution_count": 37,
   "metadata": {},
   "outputs": [
    {
     "name": "stdout",
     "output_type": "stream",
     "text": [
      "animal\n",
      "uniq_id\n",
      "water_need\n"
     ]
    }
   ],
   "source": [
    "for val in zoo:\n",
    "    print(val)"
   ]
  },
  {
   "cell_type": "markdown",
   "metadata": {},
   "source": [
    "That's interesting! We are getting the col names. To loop over the rows:\n",
    "\n",
    "* **`iterrows()`**"
   ]
  },
  {
   "cell_type": "code",
   "execution_count": 322,
   "metadata": {},
   "outputs": [
    {
     "name": "stdout",
     "output_type": "stream",
     "text": [
      "an1\n",
      "animal        elephant\n",
      "uniq_id           1001\n",
      "water_need         500\n",
      "Name: an1, dtype: object\n",
      "an2\n",
      "animal        elephant\n",
      "uniq_id           1002\n",
      "water_need         600\n",
      "Name: an2, dtype: object\n",
      "an3\n",
      "animal        elephant\n",
      "uniq_id           1003\n",
      "water_need         550\n",
      "Name: an3, dtype: object\n",
      "an4\n",
      "animal        tiger\n",
      "uniq_id        1004\n",
      "water_need      300\n",
      "Name: an4, dtype: object\n",
      "an5\n",
      "animal        tiger\n",
      "uniq_id        1007\n",
      "water_need      290\n",
      "Name: an5, dtype: object\n",
      "an6\n",
      "animal        tiger\n",
      "uniq_id        1008\n",
      "water_need      310\n",
      "Name: an6, dtype: object\n",
      "an7\n",
      "animal        zebra\n",
      "uniq_id        1009\n",
      "water_need      200\n",
      "Name: an7, dtype: object\n",
      "an8\n",
      "animal        zebra\n",
      "uniq_id        1010\n",
      "water_need      220\n",
      "Name: an8, dtype: object\n",
      "an9\n",
      "animal        zebra\n",
      "uniq_id        1014\n",
      "water_need      100\n",
      "Name: an9, dtype: object\n",
      "an10\n",
      "animal        zebra\n",
      "uniq_id        1015\n",
      "water_need       80\n",
      "Name: an10, dtype: object\n",
      "an11\n",
      "animal        lion\n",
      "uniq_id       1016\n",
      "water_need     425\n",
      "Name: an11, dtype: object\n",
      "an12\n",
      "animal        lion\n",
      "uniq_id       1019\n",
      "water_need     395\n",
      "Name: an12, dtype: object\n",
      "an13\n",
      "animal        kangaroo\n",
      "uniq_id           1020\n",
      "water_need         410\n",
      "Name: an13, dtype: object\n",
      "an14\n",
      "animal        kangaroo\n",
      "uniq_id           1021\n",
      "water_need         430\n",
      "Name: an14, dtype: object\n",
      "an15\n",
      "animal        kangaroo\n",
      "uniq_id           1022\n",
      "water_need         410\n",
      "Name: an15, dtype: object\n"
     ]
    }
   ],
   "source": [
    "for lab,row in zoo.iterrows(): #label of the row, row data\n",
    "    print(lab)\n",
    "    print(row) #series of the row"
   ]
  },
  {
   "cell_type": "markdown",
   "metadata": {},
   "source": [
    "To print out the label of the row along with the row's value in a specific column:"
   ]
  },
  {
   "cell_type": "code",
   "execution_count": 323,
   "metadata": {},
   "outputs": [
    {
     "name": "stdout",
     "output_type": "stream",
     "text": [
      "an1: 500\n",
      "an2: 600\n",
      "an3: 550\n",
      "an4: 300\n",
      "an5: 290\n",
      "an6: 310\n",
      "an7: 200\n",
      "an8: 220\n",
      "an9: 100\n",
      "an10: 80\n",
      "an11: 425\n",
      "an12: 395\n",
      "an13: 410\n",
      "an14: 430\n",
      "an15: 410\n"
     ]
    }
   ],
   "source": [
    "for lab,row in zoo.iterrows():\n",
    "    print(lab+\": \"+str(row[\"water_need\"]))"
   ]
  },
  {
   "cell_type": "markdown",
   "metadata": {},
   "source": [
    "-----------\n",
    "**Example:** Add a new col in the dataset that defines the number of characters in each aminal's name!"
   ]
  },
  {
   "cell_type": "code",
   "execution_count": 324,
   "metadata": {},
   "outputs": [
    {
     "name": "stdout",
     "output_type": "stream",
     "text": [
      "        animal  uniq_id  water_need  name_length\n",
      "an1   elephant     1001         500          8.0\n",
      "an2   elephant     1002         600          8.0\n",
      "an3   elephant     1003         550          8.0\n",
      "an4      tiger     1004         300          5.0\n",
      "an5      tiger     1007         290          5.0\n",
      "an6      tiger     1008         310          5.0\n",
      "an7      zebra     1009         200          5.0\n",
      "an8      zebra     1010         220          5.0\n",
      "an9      zebra     1014         100          5.0\n",
      "an10     zebra     1015          80          5.0\n",
      "an11      lion     1016         425          4.0\n",
      "an12      lion     1019         395          4.0\n",
      "an13  kangaroo     1020         410          8.0\n",
      "an14  kangaroo     1021         430          8.0\n",
      "an15  kangaroo     1022         410          8.0\n"
     ]
    }
   ],
   "source": [
    "for lab,row in zoo.iterrows():\n",
    "    zoo.loc[lab, \"name_length\"] = len(row[\"animal\"])\n",
    "print(zoo)"
   ]
  },
  {
   "cell_type": "markdown",
   "metadata": {},
   "source": [
    "-----------------\n",
    "## Sorting values in a DataFrame\n",
    "\n",
    "* **`.sort_values()`**\n",
    "    * **`by`** single/list of cols names to sort data by\n",
    "    * **`axis`** 0 or 'index' for rows and 1 or 'columns' for cols\n",
    "    * **`ascending=True`**\n",
    "    * **`inplace=True`**\n",
    "    * **`na_position`** 'last'/'first' defualt is 'last'"
   ]
  },
  {
   "cell_type": "code",
   "execution_count": 45,
   "metadata": {},
   "outputs": [
    {
     "data": {
      "text/html": [
       "<div>\n",
       "<style scoped>\n",
       "    .dataframe tbody tr th:only-of-type {\n",
       "        vertical-align: middle;\n",
       "    }\n",
       "\n",
       "    .dataframe tbody tr th {\n",
       "        vertical-align: top;\n",
       "    }\n",
       "\n",
       "    .dataframe thead th {\n",
       "        text-align: right;\n",
       "    }\n",
       "</style>\n",
       "<table border=\"1\" class=\"dataframe\">\n",
       "  <thead>\n",
       "    <tr style=\"text-align: right;\">\n",
       "      <th></th>\n",
       "      <th>animal</th>\n",
       "      <th>uniq_id</th>\n",
       "      <th>water_need</th>\n",
       "    </tr>\n",
       "  </thead>\n",
       "  <tbody>\n",
       "    <tr>\n",
       "      <th>an1</th>\n",
       "      <td>elephant</td>\n",
       "      <td>1001</td>\n",
       "      <td>500</td>\n",
       "    </tr>\n",
       "    <tr>\n",
       "      <th>an2</th>\n",
       "      <td>elephant</td>\n",
       "      <td>1002</td>\n",
       "      <td>600</td>\n",
       "    </tr>\n",
       "    <tr>\n",
       "      <th>an3</th>\n",
       "      <td>elephant</td>\n",
       "      <td>1003</td>\n",
       "      <td>550</td>\n",
       "    </tr>\n",
       "    <tr>\n",
       "      <th>an4</th>\n",
       "      <td>tiger</td>\n",
       "      <td>1004</td>\n",
       "      <td>300</td>\n",
       "    </tr>\n",
       "    <tr>\n",
       "      <th>an5</th>\n",
       "      <td>tiger</td>\n",
       "      <td>1007</td>\n",
       "      <td>290</td>\n",
       "    </tr>\n",
       "  </tbody>\n",
       "</table>\n",
       "</div>"
      ],
      "text/plain": [
       "       animal  uniq_id  water_need\n",
       "an1  elephant     1001         500\n",
       "an2  elephant     1002         600\n",
       "an3  elephant     1003         550\n",
       "an4     tiger     1004         300\n",
       "an5     tiger     1007         290"
      ]
     },
     "execution_count": 45,
     "metadata": {},
     "output_type": "execute_result"
    }
   ],
   "source": [
    "zoo.head()"
   ]
  },
  {
   "cell_type": "code",
   "execution_count": 46,
   "metadata": {},
   "outputs": [
    {
     "data": {
      "text/html": [
       "<div>\n",
       "<style scoped>\n",
       "    .dataframe tbody tr th:only-of-type {\n",
       "        vertical-align: middle;\n",
       "    }\n",
       "\n",
       "    .dataframe tbody tr th {\n",
       "        vertical-align: top;\n",
       "    }\n",
       "\n",
       "    .dataframe thead th {\n",
       "        text-align: right;\n",
       "    }\n",
       "</style>\n",
       "<table border=\"1\" class=\"dataframe\">\n",
       "  <thead>\n",
       "    <tr style=\"text-align: right;\">\n",
       "      <th></th>\n",
       "      <th>animal</th>\n",
       "      <th>uniq_id</th>\n",
       "      <th>water_need</th>\n",
       "    </tr>\n",
       "  </thead>\n",
       "  <tbody>\n",
       "    <tr>\n",
       "      <th>an1</th>\n",
       "      <td>elephant</td>\n",
       "      <td>1001</td>\n",
       "      <td>500</td>\n",
       "    </tr>\n",
       "    <tr>\n",
       "      <th>an2</th>\n",
       "      <td>elephant</td>\n",
       "      <td>1002</td>\n",
       "      <td>600</td>\n",
       "    </tr>\n",
       "    <tr>\n",
       "      <th>an3</th>\n",
       "      <td>elephant</td>\n",
       "      <td>1003</td>\n",
       "      <td>550</td>\n",
       "    </tr>\n",
       "    <tr>\n",
       "      <th>an13</th>\n",
       "      <td>kangaroo</td>\n",
       "      <td>1020</td>\n",
       "      <td>410</td>\n",
       "    </tr>\n",
       "    <tr>\n",
       "      <th>an14</th>\n",
       "      <td>kangaroo</td>\n",
       "      <td>1021</td>\n",
       "      <td>430</td>\n",
       "    </tr>\n",
       "  </tbody>\n",
       "</table>\n",
       "</div>"
      ],
      "text/plain": [
       "        animal  uniq_id  water_need\n",
       "an1   elephant     1001         500\n",
       "an2   elephant     1002         600\n",
       "an3   elephant     1003         550\n",
       "an13  kangaroo     1020         410\n",
       "an14  kangaroo     1021         430"
      ]
     },
     "execution_count": 46,
     "metadata": {},
     "output_type": "execute_result"
    }
   ],
   "source": [
    "zoo.sort_values('animal',axis=0,ascending=True,inplace=True)\n",
    "\n",
    "zoo.head()"
   ]
  },
  {
   "cell_type": "markdown",
   "metadata": {},
   "source": [
    "----------------\n",
    "## Labeling your data\n",
    "* **`.index`**: for index labeling\n",
    "* **`.column`**: for col names\n",
    "* **`.index.name`**: to give your index column a name\n",
    "* **`.reindex()`**: re-index one dataset from a list/ Series' index/ dataframe's index\n",
    "* **`.set_index()`**: to set a column in the df as index\n",
    "* **`.reset_index()`**: return the current index into a df column\n",
    "* **`.sort_index()`**: sort your index\n",
    "\n",
    "**Reminder:** To set index cols when reading csv files use in `pd.read_csv`, **`index_col`**\n",
    "\n",
    "**NOTE:** if you want to change index or values, you need to pass a list with the same length as the index"
   ]
  },
  {
   "cell_type": "code",
   "execution_count": 375,
   "metadata": {},
   "outputs": [
    {
     "data": {
      "text/html": [
       "<div>\n",
       "<style scoped>\n",
       "    .dataframe tbody tr th:only-of-type {\n",
       "        vertical-align: middle;\n",
       "    }\n",
       "\n",
       "    .dataframe tbody tr th {\n",
       "        vertical-align: top;\n",
       "    }\n",
       "\n",
       "    .dataframe thead th {\n",
       "        text-align: right;\n",
       "    }\n",
       "</style>\n",
       "<table border=\"1\" class=\"dataframe\">\n",
       "  <thead>\n",
       "    <tr style=\"text-align: right;\">\n",
       "      <th></th>\n",
       "      <th>Country</th>\n",
       "      <th>Total</th>\n",
       "    </tr>\n",
       "  </thead>\n",
       "  <tbody>\n",
       "    <tr>\n",
       "      <th>0</th>\n",
       "      <td>United States</td>\n",
       "      <td>1118</td>\n",
       "    </tr>\n",
       "    <tr>\n",
       "      <th>1</th>\n",
       "      <td>Soviet Union</td>\n",
       "      <td>473</td>\n",
       "    </tr>\n",
       "    <tr>\n",
       "      <th>2</th>\n",
       "      <td>United Kingdom</td>\n",
       "      <td>273</td>\n",
       "    </tr>\n",
       "  </tbody>\n",
       "</table>\n",
       "</div>"
      ],
      "text/plain": [
       "          Country Total\n",
       "0   United States  1118\n",
       "1    Soviet Union   473\n",
       "2  United Kingdom   273"
      ]
     },
     "execution_count": 375,
     "metadata": {},
     "output_type": "execute_result"
    }
   ],
   "source": [
    "names = ['Country','Total']\n",
    "values = [['United States','Soviet Union','United Kingdom'],['1118','473','273']]\n",
    "#list of list containing each col\n",
    "\n",
    "df = pd.DataFrame(dict(list(zip(names,values))))\n",
    "df"
   ]
  },
  {
   "cell_type": "code",
   "execution_count": 376,
   "metadata": {},
   "outputs": [
    {
     "data": {
      "text/html": [
       "<div>\n",
       "<style scoped>\n",
       "    .dataframe tbody tr th:only-of-type {\n",
       "        vertical-align: middle;\n",
       "    }\n",
       "\n",
       "    .dataframe tbody tr th {\n",
       "        vertical-align: top;\n",
       "    }\n",
       "\n",
       "    .dataframe thead th {\n",
       "        text-align: right;\n",
       "    }\n",
       "</style>\n",
       "<table border=\"1\" class=\"dataframe\">\n",
       "  <thead>\n",
       "    <tr style=\"text-align: right;\">\n",
       "      <th></th>\n",
       "      <th>Country</th>\n",
       "      <th>Total</th>\n",
       "    </tr>\n",
       "    <tr>\n",
       "      <th>Ab.</th>\n",
       "      <th></th>\n",
       "      <th></th>\n",
       "    </tr>\n",
       "  </thead>\n",
       "  <tbody>\n",
       "    <tr>\n",
       "      <th>US</th>\n",
       "      <td>United States</td>\n",
       "      <td>1118</td>\n",
       "    </tr>\n",
       "    <tr>\n",
       "      <th>RU</th>\n",
       "      <td>Soviet Union</td>\n",
       "      <td>473</td>\n",
       "    </tr>\n",
       "    <tr>\n",
       "      <th>UK</th>\n",
       "      <td>United Kingdom</td>\n",
       "      <td>273</td>\n",
       "    </tr>\n",
       "  </tbody>\n",
       "</table>\n",
       "</div>"
      ],
      "text/plain": [
       "            Country Total\n",
       "Ab.                      \n",
       "US    United States  1118\n",
       "RU     Soviet Union   473\n",
       "UK   United Kingdom   273"
      ]
     },
     "execution_count": 376,
     "metadata": {},
     "output_type": "execute_result"
    }
   ],
   "source": [
    "# set new label & index name\n",
    "row_labels = ['US', 'RU', 'UK']\n",
    "\n",
    "df.index=row_labels\n",
    "df.index.name='Ab.'\n",
    "df"
   ]
  },
  {
   "cell_type": "markdown",
   "metadata": {},
   "source": [
    "Change the index to small letters (using **`.lower`**)"
   ]
  },
  {
   "cell_type": "code",
   "execution_count": 378,
   "metadata": {},
   "outputs": [
    {
     "name": "stdout",
     "output_type": "stream",
     "text": [
      "['us', 'ru', 'uk']\n"
     ]
    },
    {
     "data": {
      "text/html": [
       "<div>\n",
       "<style scoped>\n",
       "    .dataframe tbody tr th:only-of-type {\n",
       "        vertical-align: middle;\n",
       "    }\n",
       "\n",
       "    .dataframe tbody tr th {\n",
       "        vertical-align: top;\n",
       "    }\n",
       "\n",
       "    .dataframe thead th {\n",
       "        text-align: right;\n",
       "    }\n",
       "</style>\n",
       "<table border=\"1\" class=\"dataframe\">\n",
       "  <thead>\n",
       "    <tr style=\"text-align: right;\">\n",
       "      <th></th>\n",
       "      <th>Country</th>\n",
       "      <th>Total</th>\n",
       "    </tr>\n",
       "  </thead>\n",
       "  <tbody>\n",
       "    <tr>\n",
       "      <th>us</th>\n",
       "      <td>United States</td>\n",
       "      <td>1118</td>\n",
       "    </tr>\n",
       "    <tr>\n",
       "      <th>ru</th>\n",
       "      <td>Soviet Union</td>\n",
       "      <td>473</td>\n",
       "    </tr>\n",
       "    <tr>\n",
       "      <th>uk</th>\n",
       "      <td>United Kingdom</td>\n",
       "      <td>273</td>\n",
       "    </tr>\n",
       "  </tbody>\n",
       "</table>\n",
       "</div>"
      ],
      "text/plain": [
       "           Country Total\n",
       "us   United States  1118\n",
       "ru    Soviet Union   473\n",
       "uk  United Kingdom   273"
      ]
     },
     "execution_count": 378,
     "metadata": {},
     "output_type": "execute_result"
    }
   ],
   "source": [
    "new_idx = [x.lower() for x in df.index]\n",
    "print(new_idx)\n",
    "\n",
    "# Assign new_idx to sales.index\n",
    "df.index = new_idx\n",
    "\n",
    "df"
   ]
  },
  {
   "cell_type": "markdown",
   "metadata": {},
   "source": [
    "### MultiIndex"
   ]
  },
  {
   "cell_type": "code",
   "execution_count": 86,
   "metadata": {},
   "outputs": [
    {
     "data": {
      "text/html": [
       "<div>\n",
       "<style scoped>\n",
       "    .dataframe tbody tr th:only-of-type {\n",
       "        vertical-align: middle;\n",
       "    }\n",
       "\n",
       "    .dataframe tbody tr th {\n",
       "        vertical-align: top;\n",
       "    }\n",
       "\n",
       "    .dataframe thead th {\n",
       "        text-align: right;\n",
       "    }\n",
       "</style>\n",
       "<table border=\"1\" class=\"dataframe\">\n",
       "  <thead>\n",
       "    <tr style=\"text-align: right;\">\n",
       "      <th></th>\n",
       "      <th>state</th>\n",
       "      <th>month</th>\n",
       "      <th>eggs</th>\n",
       "      <th>salt</th>\n",
       "      <th>spam</th>\n",
       "    </tr>\n",
       "  </thead>\n",
       "  <tbody>\n",
       "    <tr>\n",
       "      <th>0</th>\n",
       "      <td>CA</td>\n",
       "      <td>1</td>\n",
       "      <td>47</td>\n",
       "      <td>12.0</td>\n",
       "      <td>17</td>\n",
       "    </tr>\n",
       "    <tr>\n",
       "      <th>1</th>\n",
       "      <td>CA</td>\n",
       "      <td>2</td>\n",
       "      <td>110</td>\n",
       "      <td>50.0</td>\n",
       "      <td>31</td>\n",
       "    </tr>\n",
       "    <tr>\n",
       "      <th>2</th>\n",
       "      <td>NY</td>\n",
       "      <td>1</td>\n",
       "      <td>221</td>\n",
       "      <td>89.0</td>\n",
       "      <td>72</td>\n",
       "    </tr>\n",
       "  </tbody>\n",
       "</table>\n",
       "</div>"
      ],
      "text/plain": [
       "  state  month  eggs  salt  spam\n",
       "0    CA      1    47  12.0    17\n",
       "1    CA      2   110  50.0    31\n",
       "2    NY      1   221  89.0    72"
      ]
     },
     "execution_count": 86,
     "metadata": {},
     "output_type": "execute_result"
    }
   ],
   "source": [
    "sales = pd.read_csv('datasets/sales.csv')\n",
    "sales.head(3)"
   ]
  },
  {
   "cell_type": "markdown",
   "metadata": {},
   "source": [
    "Now we need to identify an index to this data that is unique. However, none of the cols are appropriate. The solution is to use multiple cols are indexes in order to represet the data in the table uniquely. \n",
    "\n",
    "Notice that pandas doesnt require unique index values, but it is better to deal with data that has unique indexes\n",
    "\n",
    "* **`.set_index()`**"
   ]
  },
  {
   "cell_type": "code",
   "execution_count": 87,
   "metadata": {},
   "outputs": [
    {
     "data": {
      "text/html": [
       "<div>\n",
       "<style scoped>\n",
       "    .dataframe tbody tr th:only-of-type {\n",
       "        vertical-align: middle;\n",
       "    }\n",
       "\n",
       "    .dataframe tbody tr th {\n",
       "        vertical-align: top;\n",
       "    }\n",
       "\n",
       "    .dataframe thead th {\n",
       "        text-align: right;\n",
       "    }\n",
       "</style>\n",
       "<table border=\"1\" class=\"dataframe\">\n",
       "  <thead>\n",
       "    <tr style=\"text-align: right;\">\n",
       "      <th></th>\n",
       "      <th></th>\n",
       "      <th>eggs</th>\n",
       "      <th>salt</th>\n",
       "      <th>spam</th>\n",
       "    </tr>\n",
       "    <tr>\n",
       "      <th>state</th>\n",
       "      <th>month</th>\n",
       "      <th></th>\n",
       "      <th></th>\n",
       "      <th></th>\n",
       "    </tr>\n",
       "  </thead>\n",
       "  <tbody>\n",
       "    <tr>\n",
       "      <th rowspan=\"2\" valign=\"top\">CA</th>\n",
       "      <th>1</th>\n",
       "      <td>47</td>\n",
       "      <td>12.0</td>\n",
       "      <td>17</td>\n",
       "    </tr>\n",
       "    <tr>\n",
       "      <th>2</th>\n",
       "      <td>110</td>\n",
       "      <td>50.0</td>\n",
       "      <td>31</td>\n",
       "    </tr>\n",
       "    <tr>\n",
       "      <th rowspan=\"2\" valign=\"top\">NY</th>\n",
       "      <th>1</th>\n",
       "      <td>221</td>\n",
       "      <td>89.0</td>\n",
       "      <td>72</td>\n",
       "    </tr>\n",
       "    <tr>\n",
       "      <th>2</th>\n",
       "      <td>77</td>\n",
       "      <td>87.0</td>\n",
       "      <td>20</td>\n",
       "    </tr>\n",
       "    <tr>\n",
       "      <th rowspan=\"2\" valign=\"top\">TX</th>\n",
       "      <th>1</th>\n",
       "      <td>132</td>\n",
       "      <td>NaN</td>\n",
       "      <td>52</td>\n",
       "    </tr>\n",
       "    <tr>\n",
       "      <th>2</th>\n",
       "      <td>205</td>\n",
       "      <td>60.0</td>\n",
       "      <td>55</td>\n",
       "    </tr>\n",
       "  </tbody>\n",
       "</table>\n",
       "</div>"
      ],
      "text/plain": [
       "             eggs  salt  spam\n",
       "state month                  \n",
       "CA    1        47  12.0    17\n",
       "      2       110  50.0    31\n",
       "NY    1       221  89.0    72\n",
       "      2        77  87.0    20\n",
       "TX    1       132   NaN    52\n",
       "      2       205  60.0    55"
      ]
     },
     "execution_count": 87,
     "metadata": {},
     "output_type": "execute_result"
    }
   ],
   "source": [
    "sales = sales.set_index(['state','month'])\n",
    "sales"
   ]
  },
  {
   "cell_type": "code",
   "execution_count": 88,
   "metadata": {},
   "outputs": [
    {
     "data": {
      "text/plain": [
       "MultiIndex(levels=[['CA', 'NY', 'TX'], [1, 2]],\n",
       "           labels=[[0, 0, 1, 1, 2, 2], [0, 1, 0, 1, 0, 1]],\n",
       "           names=['state', 'month'])"
      ]
     },
     "execution_count": 88,
     "metadata": {},
     "output_type": "execute_result"
    }
   ],
   "source": [
    "sales.index # notice the index change, and their names"
   ]
  },
  {
   "cell_type": "markdown",
   "metadata": {},
   "source": [
    "**Sort Indexes**\n",
    "\n",
    "* **`.sort_index()`**"
   ]
  },
  {
   "cell_type": "code",
   "execution_count": 89,
   "metadata": {},
   "outputs": [
    {
     "data": {
      "text/html": [
       "<div>\n",
       "<style scoped>\n",
       "    .dataframe tbody tr th:only-of-type {\n",
       "        vertical-align: middle;\n",
       "    }\n",
       "\n",
       "    .dataframe tbody tr th {\n",
       "        vertical-align: top;\n",
       "    }\n",
       "\n",
       "    .dataframe thead th {\n",
       "        text-align: right;\n",
       "    }\n",
       "</style>\n",
       "<table border=\"1\" class=\"dataframe\">\n",
       "  <thead>\n",
       "    <tr style=\"text-align: right;\">\n",
       "      <th></th>\n",
       "      <th></th>\n",
       "      <th>eggs</th>\n",
       "      <th>salt</th>\n",
       "      <th>spam</th>\n",
       "    </tr>\n",
       "    <tr>\n",
       "      <th>state</th>\n",
       "      <th>month</th>\n",
       "      <th></th>\n",
       "      <th></th>\n",
       "      <th></th>\n",
       "    </tr>\n",
       "  </thead>\n",
       "  <tbody>\n",
       "    <tr>\n",
       "      <th rowspan=\"2\" valign=\"top\">CA</th>\n",
       "      <th>1</th>\n",
       "      <td>47</td>\n",
       "      <td>12.0</td>\n",
       "      <td>17</td>\n",
       "    </tr>\n",
       "    <tr>\n",
       "      <th>2</th>\n",
       "      <td>110</td>\n",
       "      <td>50.0</td>\n",
       "      <td>31</td>\n",
       "    </tr>\n",
       "    <tr>\n",
       "      <th>NY</th>\n",
       "      <th>1</th>\n",
       "      <td>221</td>\n",
       "      <td>89.0</td>\n",
       "      <td>72</td>\n",
       "    </tr>\n",
       "  </tbody>\n",
       "</table>\n",
       "</div>"
      ],
      "text/plain": [
       "             eggs  salt  spam\n",
       "state month                  \n",
       "CA    1        47  12.0    17\n",
       "      2       110  50.0    31\n",
       "NY    1       221  89.0    72"
      ]
     },
     "execution_count": 89,
     "metadata": {},
     "output_type": "execute_result"
    }
   ],
   "source": [
    "sales = sales.sort_index()\n",
    "sales.head(3)"
   ]
  },
  {
   "cell_type": "markdown",
   "metadata": {},
   "source": [
    "**Slicing and Partial Selection in MultiIndexing**"
   ]
  },
  {
   "cell_type": "code",
   "execution_count": 90,
   "metadata": {},
   "outputs": [
    {
     "data": {
      "text/html": [
       "<div>\n",
       "<style scoped>\n",
       "    .dataframe tbody tr th:only-of-type {\n",
       "        vertical-align: middle;\n",
       "    }\n",
       "\n",
       "    .dataframe tbody tr th {\n",
       "        vertical-align: top;\n",
       "    }\n",
       "\n",
       "    .dataframe thead th {\n",
       "        text-align: right;\n",
       "    }\n",
       "</style>\n",
       "<table border=\"1\" class=\"dataframe\">\n",
       "  <thead>\n",
       "    <tr style=\"text-align: right;\">\n",
       "      <th></th>\n",
       "      <th></th>\n",
       "      <th>eggs</th>\n",
       "      <th>salt</th>\n",
       "      <th>spam</th>\n",
       "    </tr>\n",
       "    <tr>\n",
       "      <th>state</th>\n",
       "      <th>month</th>\n",
       "      <th></th>\n",
       "      <th></th>\n",
       "      <th></th>\n",
       "    </tr>\n",
       "  </thead>\n",
       "  <tbody>\n",
       "    <tr>\n",
       "      <th rowspan=\"2\" valign=\"top\">CA</th>\n",
       "      <th>1</th>\n",
       "      <td>47</td>\n",
       "      <td>12.0</td>\n",
       "      <td>17</td>\n",
       "    </tr>\n",
       "    <tr>\n",
       "      <th>2</th>\n",
       "      <td>110</td>\n",
       "      <td>50.0</td>\n",
       "      <td>31</td>\n",
       "    </tr>\n",
       "    <tr>\n",
       "      <th rowspan=\"2\" valign=\"top\">TX</th>\n",
       "      <th>1</th>\n",
       "      <td>132</td>\n",
       "      <td>NaN</td>\n",
       "      <td>52</td>\n",
       "    </tr>\n",
       "    <tr>\n",
       "      <th>2</th>\n",
       "      <td>205</td>\n",
       "      <td>60.0</td>\n",
       "      <td>55</td>\n",
       "    </tr>\n",
       "  </tbody>\n",
       "</table>\n",
       "</div>"
      ],
      "text/plain": [
       "             eggs  salt  spam\n",
       "state month                  \n",
       "CA    1        47  12.0    17\n",
       "      2       110  50.0    31\n",
       "TX    1       132   NaN    52\n",
       "      2       205  60.0    55"
      ]
     },
     "execution_count": 90,
     "metadata": {},
     "output_type": "execute_result"
    }
   ],
   "source": [
    "#lookup California and Texas sales\n",
    "sales.loc[['CA', 'TX']]"
   ]
  },
  {
   "cell_type": "code",
   "execution_count": 91,
   "metadata": {},
   "outputs": [
    {
     "data": {
      "text/plain": [
       "eggs    221.0\n",
       "salt     89.0\n",
       "spam     72.0\n",
       "Name: (NY, 1), dtype: float64"
      ]
     },
     "execution_count": 91,
     "metadata": {},
     "output_type": "execute_result"
    }
   ],
   "source": [
    "# Look up data for NY in month 1\n",
    "sales.loc[('NY',1)]\n",
    "\n",
    "# use can use double brackets for sub-datasets"
   ]
  },
  {
   "cell_type": "code",
   "execution_count": 92,
   "metadata": {},
   "outputs": [
    {
     "data": {
      "text/html": [
       "<div>\n",
       "<style scoped>\n",
       "    .dataframe tbody tr th:only-of-type {\n",
       "        vertical-align: middle;\n",
       "    }\n",
       "\n",
       "    .dataframe tbody tr th {\n",
       "        vertical-align: top;\n",
       "    }\n",
       "\n",
       "    .dataframe thead th {\n",
       "        text-align: right;\n",
       "    }\n",
       "</style>\n",
       "<table border=\"1\" class=\"dataframe\">\n",
       "  <thead>\n",
       "    <tr style=\"text-align: right;\">\n",
       "      <th></th>\n",
       "      <th></th>\n",
       "      <th>eggs</th>\n",
       "      <th>salt</th>\n",
       "      <th>spam</th>\n",
       "    </tr>\n",
       "    <tr>\n",
       "      <th>state</th>\n",
       "      <th>month</th>\n",
       "      <th></th>\n",
       "      <th></th>\n",
       "      <th></th>\n",
       "    </tr>\n",
       "  </thead>\n",
       "  <tbody>\n",
       "    <tr>\n",
       "      <th>CA</th>\n",
       "      <th>2</th>\n",
       "      <td>110</td>\n",
       "      <td>50.0</td>\n",
       "      <td>31</td>\n",
       "    </tr>\n",
       "    <tr>\n",
       "      <th>TX</th>\n",
       "      <th>2</th>\n",
       "      <td>205</td>\n",
       "      <td>60.0</td>\n",
       "      <td>55</td>\n",
       "    </tr>\n",
       "  </tbody>\n",
       "</table>\n",
       "</div>"
      ],
      "text/plain": [
       "             eggs  salt  spam\n",
       "state month                  \n",
       "CA    2       110  50.0    31\n",
       "TX    2       205  60.0    55"
      ]
     },
     "execution_count": 92,
     "metadata": {},
     "output_type": "execute_result"
    }
   ],
   "source": [
    "# Look up data for CA and TX in month 2\n",
    "sales.loc[(['CA','TX'],2),:]"
   ]
  },
  {
   "cell_type": "code",
   "execution_count": 97,
   "metadata": {},
   "outputs": [
    {
     "data": {
      "text/html": [
       "<div>\n",
       "<style scoped>\n",
       "    .dataframe tbody tr th:only-of-type {\n",
       "        vertical-align: middle;\n",
       "    }\n",
       "\n",
       "    .dataframe tbody tr th {\n",
       "        vertical-align: top;\n",
       "    }\n",
       "\n",
       "    .dataframe thead th {\n",
       "        text-align: right;\n",
       "    }\n",
       "</style>\n",
       "<table border=\"1\" class=\"dataframe\">\n",
       "  <thead>\n",
       "    <tr style=\"text-align: right;\">\n",
       "      <th></th>\n",
       "      <th></th>\n",
       "      <th>eggs</th>\n",
       "      <th>salt</th>\n",
       "      <th>spam</th>\n",
       "    </tr>\n",
       "    <tr>\n",
       "      <th>state</th>\n",
       "      <th>month</th>\n",
       "      <th></th>\n",
       "      <th></th>\n",
       "      <th></th>\n",
       "    </tr>\n",
       "  </thead>\n",
       "  <tbody>\n",
       "    <tr>\n",
       "      <th rowspan=\"2\" valign=\"top\">CA</th>\n",
       "      <th>1</th>\n",
       "      <td>47</td>\n",
       "      <td>12.0</td>\n",
       "      <td>17</td>\n",
       "    </tr>\n",
       "    <tr>\n",
       "      <th>2</th>\n",
       "      <td>110</td>\n",
       "      <td>50.0</td>\n",
       "      <td>31</td>\n",
       "    </tr>\n",
       "    <tr>\n",
       "      <th rowspan=\"2\" valign=\"top\">NY</th>\n",
       "      <th>1</th>\n",
       "      <td>221</td>\n",
       "      <td>89.0</td>\n",
       "      <td>72</td>\n",
       "    </tr>\n",
       "    <tr>\n",
       "      <th>2</th>\n",
       "      <td>77</td>\n",
       "      <td>87.0</td>\n",
       "      <td>20</td>\n",
       "    </tr>\n",
       "    <tr>\n",
       "      <th rowspan=\"2\" valign=\"top\">TX</th>\n",
       "      <th>1</th>\n",
       "      <td>132</td>\n",
       "      <td>NaN</td>\n",
       "      <td>52</td>\n",
       "    </tr>\n",
       "    <tr>\n",
       "      <th>2</th>\n",
       "      <td>205</td>\n",
       "      <td>60.0</td>\n",
       "      <td>55</td>\n",
       "    </tr>\n",
       "  </tbody>\n",
       "</table>\n",
       "</div>"
      ],
      "text/plain": [
       "             eggs  salt  spam\n",
       "state month                  \n",
       "CA    1        47  12.0    17\n",
       "      2       110  50.0    31\n",
       "NY    1       221  89.0    72\n",
       "      2        77  87.0    20\n",
       "TX    1       132   NaN    52\n",
       "      2       205  60.0    55"
      ]
     },
     "execution_count": 97,
     "metadata": {},
     "output_type": "execute_result"
    }
   ],
   "source": [
    "# Look up data for all states in month 2 (inner slice)\n",
    "# slice(1,2) is equivalent to 1:2\n",
    "sales.loc[(slice(None),slice(1,2)),:]"
   ]
  },
  {
   "cell_type": "markdown",
   "metadata": {},
   "source": [
    "Notice in the last example, when you want to access some inner levels of the index. In this case, you need to use **`slice(None)`** in the slicing parameter for the outermost dimension(s) instead of the usual `:`.\n",
    "\n",
    "You can also use **`pd.IndexSlice`**"
   ]
  },
  {
   "cell_type": "code",
   "execution_count": 99,
   "metadata": {},
   "outputs": [
    {
     "data": {
      "text/html": [
       "<div>\n",
       "<style scoped>\n",
       "    .dataframe tbody tr th:only-of-type {\n",
       "        vertical-align: middle;\n",
       "    }\n",
       "\n",
       "    .dataframe tbody tr th {\n",
       "        vertical-align: top;\n",
       "    }\n",
       "\n",
       "    .dataframe thead th {\n",
       "        text-align: right;\n",
       "    }\n",
       "</style>\n",
       "<table border=\"1\" class=\"dataframe\">\n",
       "  <thead>\n",
       "    <tr style=\"text-align: right;\">\n",
       "      <th></th>\n",
       "      <th></th>\n",
       "      <th>eggs</th>\n",
       "      <th>salt</th>\n",
       "      <th>spam</th>\n",
       "    </tr>\n",
       "    <tr>\n",
       "      <th>state</th>\n",
       "      <th>month</th>\n",
       "      <th></th>\n",
       "      <th></th>\n",
       "      <th></th>\n",
       "    </tr>\n",
       "  </thead>\n",
       "  <tbody>\n",
       "    <tr>\n",
       "      <th rowspan=\"2\" valign=\"top\">CA</th>\n",
       "      <th>1</th>\n",
       "      <td>47</td>\n",
       "      <td>12.0</td>\n",
       "      <td>17</td>\n",
       "    </tr>\n",
       "    <tr>\n",
       "      <th>2</th>\n",
       "      <td>110</td>\n",
       "      <td>50.0</td>\n",
       "      <td>31</td>\n",
       "    </tr>\n",
       "    <tr>\n",
       "      <th rowspan=\"2\" valign=\"top\">NY</th>\n",
       "      <th>1</th>\n",
       "      <td>221</td>\n",
       "      <td>89.0</td>\n",
       "      <td>72</td>\n",
       "    </tr>\n",
       "    <tr>\n",
       "      <th>2</th>\n",
       "      <td>77</td>\n",
       "      <td>87.0</td>\n",
       "      <td>20</td>\n",
       "    </tr>\n",
       "    <tr>\n",
       "      <th rowspan=\"2\" valign=\"top\">TX</th>\n",
       "      <th>1</th>\n",
       "      <td>132</td>\n",
       "      <td>NaN</td>\n",
       "      <td>52</td>\n",
       "    </tr>\n",
       "    <tr>\n",
       "      <th>2</th>\n",
       "      <td>205</td>\n",
       "      <td>60.0</td>\n",
       "      <td>55</td>\n",
       "    </tr>\n",
       "  </tbody>\n",
       "</table>\n",
       "</div>"
      ],
      "text/plain": [
       "             eggs  salt  spam\n",
       "state month                  \n",
       "CA    1        47  12.0    17\n",
       "      2       110  50.0    31\n",
       "NY    1       221  89.0    72\n",
       "      2        77  87.0    20\n",
       "TX    1       132   NaN    52\n",
       "      2       205  60.0    55"
      ]
     },
     "execution_count": 99,
     "metadata": {},
     "output_type": "execute_result"
    }
   ],
   "source": [
    "#pd.IndexSlice[outer,inner]\n",
    "sales.loc[pd.IndexSlice[:,1:2],:]"
   ]
  },
  {
   "cell_type": "markdown",
   "metadata": {},
   "source": [
    "**Restoring the Index Order**\n",
    "\n",
    "* **`.swaplevel(0,1)`** to flip index levels"
   ]
  },
  {
   "cell_type": "code",
   "execution_count": 6,
   "metadata": {},
   "outputs": [
    {
     "data": {
      "text/html": [
       "<div>\n",
       "<style scoped>\n",
       "    .dataframe tbody tr th:only-of-type {\n",
       "        vertical-align: middle;\n",
       "    }\n",
       "\n",
       "    .dataframe tbody tr th {\n",
       "        vertical-align: top;\n",
       "    }\n",
       "\n",
       "    .dataframe thead th {\n",
       "        text-align: right;\n",
       "    }\n",
       "</style>\n",
       "<table border=\"1\" class=\"dataframe\">\n",
       "  <thead>\n",
       "    <tr style=\"text-align: right;\">\n",
       "      <th></th>\n",
       "      <th></th>\n",
       "      <th>eggs</th>\n",
       "      <th>salt</th>\n",
       "      <th>spam</th>\n",
       "    </tr>\n",
       "    <tr>\n",
       "      <th>month</th>\n",
       "      <th>state</th>\n",
       "      <th></th>\n",
       "      <th></th>\n",
       "      <th></th>\n",
       "    </tr>\n",
       "  </thead>\n",
       "  <tbody>\n",
       "    <tr>\n",
       "      <th>1</th>\n",
       "      <th>CA</th>\n",
       "      <td>47</td>\n",
       "      <td>12.0</td>\n",
       "      <td>17</td>\n",
       "    </tr>\n",
       "    <tr>\n",
       "      <th>2</th>\n",
       "      <th>CA</th>\n",
       "      <td>110</td>\n",
       "      <td>50.0</td>\n",
       "      <td>31</td>\n",
       "    </tr>\n",
       "    <tr>\n",
       "      <th>1</th>\n",
       "      <th>NY</th>\n",
       "      <td>221</td>\n",
       "      <td>89.0</td>\n",
       "      <td>72</td>\n",
       "    </tr>\n",
       "    <tr>\n",
       "      <th>2</th>\n",
       "      <th>NY</th>\n",
       "      <td>77</td>\n",
       "      <td>87.0</td>\n",
       "      <td>20</td>\n",
       "    </tr>\n",
       "    <tr>\n",
       "      <th>1</th>\n",
       "      <th>TX</th>\n",
       "      <td>132</td>\n",
       "      <td>NaN</td>\n",
       "      <td>52</td>\n",
       "    </tr>\n",
       "    <tr>\n",
       "      <th>2</th>\n",
       "      <th>TX</th>\n",
       "      <td>205</td>\n",
       "      <td>60.0</td>\n",
       "      <td>55</td>\n",
       "    </tr>\n",
       "  </tbody>\n",
       "</table>\n",
       "</div>"
      ],
      "text/plain": [
       "             eggs  salt  spam\n",
       "month state                  \n",
       "1     CA       47  12.0    17\n",
       "2     CA      110  50.0    31\n",
       "1     NY      221  89.0    72\n",
       "2     NY       77  87.0    20\n",
       "1     TX      132   NaN    52\n",
       "2     TX      205  60.0    55"
      ]
     },
     "execution_count": 6,
     "metadata": {},
     "output_type": "execute_result"
    }
   ],
   "source": [
    "sales.swaplevel(0,1)"
   ]
  },
  {
   "cell_type": "markdown",
   "metadata": {},
   "source": [
    "-------------------------\n",
    "## Arethmatic Operations in pandas\n",
    "\n",
    "| **Method**      | **Description** |\n",
    "|-----------------|-----------------|\n",
    "| **`.add`**      | addition        |\n",
    "| **`.sub`**      | subtraction     |\n",
    "| **`.div`**      | division        |\n",
    "| **`.floordiv`** | floor division  |\n",
    "| **`.mul`**      | multiplication  |\n",
    "| **`.pow`**      | exponential     |"
   ]
  },
  {
   "cell_type": "code",
   "execution_count": 76,
   "metadata": {},
   "outputs": [
    {
     "data": {
      "text/html": [
       "<div>\n",
       "<style scoped>\n",
       "    .dataframe tbody tr th:only-of-type {\n",
       "        vertical-align: middle;\n",
       "    }\n",
       "\n",
       "    .dataframe tbody tr th {\n",
       "        vertical-align: top;\n",
       "    }\n",
       "\n",
       "    .dataframe thead th {\n",
       "        text-align: right;\n",
       "    }\n",
       "</style>\n",
       "<table border=\"1\" class=\"dataframe\">\n",
       "  <thead>\n",
       "    <tr style=\"text-align: right;\">\n",
       "      <th></th>\n",
       "      <th>a</th>\n",
       "      <th>b</th>\n",
       "      <th>c</th>\n",
       "      <th>d</th>\n",
       "    </tr>\n",
       "  </thead>\n",
       "  <tbody>\n",
       "    <tr>\n",
       "      <th>0</th>\n",
       "      <td>1</td>\n",
       "      <td>7</td>\n",
       "      <td>7</td>\n",
       "      <td>8</td>\n",
       "    </tr>\n",
       "    <tr>\n",
       "      <th>1</th>\n",
       "      <td>1</td>\n",
       "      <td>0</td>\n",
       "      <td>6</td>\n",
       "      <td>9</td>\n",
       "    </tr>\n",
       "    <tr>\n",
       "      <th>2</th>\n",
       "      <td>6</td>\n",
       "      <td>6</td>\n",
       "      <td>9</td>\n",
       "      <td>9</td>\n",
       "    </tr>\n",
       "  </tbody>\n",
       "</table>\n",
       "</div>"
      ],
      "text/plain": [
       "   a  b  c  d\n",
       "0  1  7  7  8\n",
       "1  1  0  6  9\n",
       "2  6  6  9  9"
      ]
     },
     "execution_count": 76,
     "metadata": {},
     "output_type": "execute_result"
    }
   ],
   "source": [
    "# define df1\n",
    "df1 = pd.DataFrame(np.random.randint(10,size=(3,4)),\n",
    "                   columns=list('abcd'))\n",
    "df1"
   ]
  },
  {
   "cell_type": "code",
   "execution_count": 77,
   "metadata": {},
   "outputs": [
    {
     "data": {
      "text/html": [
       "<div>\n",
       "<style scoped>\n",
       "    .dataframe tbody tr th:only-of-type {\n",
       "        vertical-align: middle;\n",
       "    }\n",
       "\n",
       "    .dataframe tbody tr th {\n",
       "        vertical-align: top;\n",
       "    }\n",
       "\n",
       "    .dataframe thead th {\n",
       "        text-align: right;\n",
       "    }\n",
       "</style>\n",
       "<table border=\"1\" class=\"dataframe\">\n",
       "  <thead>\n",
       "    <tr style=\"text-align: right;\">\n",
       "      <th></th>\n",
       "      <th>a</th>\n",
       "      <th>b</th>\n",
       "    </tr>\n",
       "  </thead>\n",
       "  <tbody>\n",
       "    <tr>\n",
       "      <th>0</th>\n",
       "      <td>1</td>\n",
       "      <td>2</td>\n",
       "    </tr>\n",
       "    <tr>\n",
       "      <th>1</th>\n",
       "      <td>5</td>\n",
       "      <td>1</td>\n",
       "    </tr>\n",
       "    <tr>\n",
       "      <th>2</th>\n",
       "      <td>3</td>\n",
       "      <td>0</td>\n",
       "    </tr>\n",
       "    <tr>\n",
       "      <th>3</th>\n",
       "      <td>5</td>\n",
       "      <td>6</td>\n",
       "    </tr>\n",
       "  </tbody>\n",
       "</table>\n",
       "</div>"
      ],
      "text/plain": [
       "   a  b\n",
       "0  1  2\n",
       "1  5  1\n",
       "2  3  0\n",
       "3  5  6"
      ]
     },
     "execution_count": 77,
     "metadata": {},
     "output_type": "execute_result"
    }
   ],
   "source": [
    "# define df2\n",
    "df2 = pd.DataFrame(np.random.randint(10,size=(4,2)),\n",
    "                   columns=list('ab'))\n",
    "\n",
    "df2"
   ]
  },
  {
   "cell_type": "markdown",
   "metadata": {},
   "source": [
    "Since `c` and `d` are not in `df2` and row `3` is not in `df1`, when added (or any other operation) they result in NaN. We need to perform more effective operations in pandas so that we fill the NaNs. Alternatively, we can use **`.add`** with **`.fill_value=0`**"
   ]
  },
  {
   "cell_type": "code",
   "execution_count": 78,
   "metadata": {},
   "outputs": [
    {
     "data": {
      "text/html": [
       "<div>\n",
       "<style scoped>\n",
       "    .dataframe tbody tr th:only-of-type {\n",
       "        vertical-align: middle;\n",
       "    }\n",
       "\n",
       "    .dataframe tbody tr th {\n",
       "        vertical-align: top;\n",
       "    }\n",
       "\n",
       "    .dataframe thead th {\n",
       "        text-align: right;\n",
       "    }\n",
       "</style>\n",
       "<table border=\"1\" class=\"dataframe\">\n",
       "  <thead>\n",
       "    <tr style=\"text-align: right;\">\n",
       "      <th></th>\n",
       "      <th>a</th>\n",
       "      <th>b</th>\n",
       "      <th>c</th>\n",
       "      <th>d</th>\n",
       "    </tr>\n",
       "  </thead>\n",
       "  <tbody>\n",
       "    <tr>\n",
       "      <th>0</th>\n",
       "      <td>2.0</td>\n",
       "      <td>9.0</td>\n",
       "      <td>NaN</td>\n",
       "      <td>NaN</td>\n",
       "    </tr>\n",
       "    <tr>\n",
       "      <th>1</th>\n",
       "      <td>6.0</td>\n",
       "      <td>1.0</td>\n",
       "      <td>NaN</td>\n",
       "      <td>NaN</td>\n",
       "    </tr>\n",
       "    <tr>\n",
       "      <th>2</th>\n",
       "      <td>9.0</td>\n",
       "      <td>6.0</td>\n",
       "      <td>NaN</td>\n",
       "      <td>NaN</td>\n",
       "    </tr>\n",
       "    <tr>\n",
       "      <th>3</th>\n",
       "      <td>NaN</td>\n",
       "      <td>NaN</td>\n",
       "      <td>NaN</td>\n",
       "      <td>NaN</td>\n",
       "    </tr>\n",
       "  </tbody>\n",
       "</table>\n",
       "</div>"
      ],
      "text/plain": [
       "     a    b   c   d\n",
       "0  2.0  9.0 NaN NaN\n",
       "1  6.0  1.0 NaN NaN\n",
       "2  9.0  6.0 NaN NaN\n",
       "3  NaN  NaN NaN NaN"
      ]
     },
     "execution_count": 78,
     "metadata": {},
     "output_type": "execute_result"
    }
   ],
   "source": [
    "df1+df2"
   ]
  },
  {
   "cell_type": "code",
   "execution_count": 79,
   "metadata": {},
   "outputs": [
    {
     "data": {
      "text/html": [
       "<div>\n",
       "<style scoped>\n",
       "    .dataframe tbody tr th:only-of-type {\n",
       "        vertical-align: middle;\n",
       "    }\n",
       "\n",
       "    .dataframe tbody tr th {\n",
       "        vertical-align: top;\n",
       "    }\n",
       "\n",
       "    .dataframe thead th {\n",
       "        text-align: right;\n",
       "    }\n",
       "</style>\n",
       "<table border=\"1\" class=\"dataframe\">\n",
       "  <thead>\n",
       "    <tr style=\"text-align: right;\">\n",
       "      <th></th>\n",
       "      <th>a</th>\n",
       "      <th>b</th>\n",
       "      <th>c</th>\n",
       "      <th>d</th>\n",
       "    </tr>\n",
       "  </thead>\n",
       "  <tbody>\n",
       "    <tr>\n",
       "      <th>0</th>\n",
       "      <td>2.0</td>\n",
       "      <td>9.0</td>\n",
       "      <td>7.0</td>\n",
       "      <td>8.0</td>\n",
       "    </tr>\n",
       "    <tr>\n",
       "      <th>1</th>\n",
       "      <td>6.0</td>\n",
       "      <td>1.0</td>\n",
       "      <td>6.0</td>\n",
       "      <td>9.0</td>\n",
       "    </tr>\n",
       "    <tr>\n",
       "      <th>2</th>\n",
       "      <td>9.0</td>\n",
       "      <td>6.0</td>\n",
       "      <td>9.0</td>\n",
       "      <td>9.0</td>\n",
       "    </tr>\n",
       "    <tr>\n",
       "      <th>3</th>\n",
       "      <td>5.0</td>\n",
       "      <td>6.0</td>\n",
       "      <td>NaN</td>\n",
       "      <td>NaN</td>\n",
       "    </tr>\n",
       "  </tbody>\n",
       "</table>\n",
       "</div>"
      ],
      "text/plain": [
       "     a    b    c    d\n",
       "0  2.0  9.0  7.0  8.0\n",
       "1  6.0  1.0  6.0  9.0\n",
       "2  9.0  6.0  9.0  9.0\n",
       "3  5.0  6.0  NaN  NaN"
      ]
     },
     "execution_count": 79,
     "metadata": {},
     "output_type": "execute_result"
    }
   ],
   "source": [
    "df1.add(df2,fill_value=0)"
   ]
  },
  {
   "cell_type": "markdown",
   "metadata": {},
   "source": [
    "**Percentage Change**\n",
    "\n",
    "To calculate the percentage change in a given df column use:\n",
    "* **`.pct_change()`**\n",
    "If there is a number (n) specified inside, in this case the percentage change is calculated every n row"
   ]
  },
  {
   "cell_type": "code",
   "execution_count": 82,
   "metadata": {},
   "outputs": [
    {
     "data": {
      "text/plain": [
       "0           NaN\n",
       "1    400.000000\n",
       "2    -40.000000\n",
       "3     66.666667\n",
       "Name: a, dtype: float64"
      ]
     },
     "execution_count": 82,
     "metadata": {},
     "output_type": "execute_result"
    }
   ],
   "source": [
    "df2['a'].pct_change()*100\n",
    "\n",
    "# *100 to convert it to %percentage\n",
    "# first value is NaN since no value before"
   ]
  },
  {
   "cell_type": "markdown",
   "metadata": {},
   "source": [
    "-------------\n",
    "\n",
    "## Transforming DataFrames\n",
    "\n",
    "### Using `.apply()` to transform a column"
   ]
  },
  {
   "cell_type": "markdown",
   "metadata": {},
   "source": [
    "The looping method above to count the length of each string in each raw in very inefficinet especially if the data is so bulky. An alternative way is using **`apply`**"
   ]
  },
  {
   "cell_type": "code",
   "execution_count": 348,
   "metadata": {},
   "outputs": [],
   "source": [
    "zoo[\"animal_length\"] = zoo[\"animal\"].apply(len)"
   ]
  },
  {
   "cell_type": "code",
   "execution_count": 349,
   "metadata": {},
   "outputs": [
    {
     "data": {
      "text/html": [
       "<div>\n",
       "<style scoped>\n",
       "    .dataframe tbody tr th:only-of-type {\n",
       "        vertical-align: middle;\n",
       "    }\n",
       "\n",
       "    .dataframe tbody tr th {\n",
       "        vertical-align: top;\n",
       "    }\n",
       "\n",
       "    .dataframe thead th {\n",
       "        text-align: right;\n",
       "    }\n",
       "</style>\n",
       "<table border=\"1\" class=\"dataframe\">\n",
       "  <thead>\n",
       "    <tr style=\"text-align: right;\">\n",
       "      <th></th>\n",
       "      <th>animal</th>\n",
       "      <th>uniq_id</th>\n",
       "      <th>water_need</th>\n",
       "      <th>animal_length</th>\n",
       "    </tr>\n",
       "  </thead>\n",
       "  <tbody>\n",
       "    <tr>\n",
       "      <th>an1</th>\n",
       "      <td>elephant</td>\n",
       "      <td>1001</td>\n",
       "      <td>500</td>\n",
       "      <td>8</td>\n",
       "    </tr>\n",
       "    <tr>\n",
       "      <th>an2</th>\n",
       "      <td>elephant</td>\n",
       "      <td>1002</td>\n",
       "      <td>600</td>\n",
       "      <td>8</td>\n",
       "    </tr>\n",
       "    <tr>\n",
       "      <th>an3</th>\n",
       "      <td>elephant</td>\n",
       "      <td>1003</td>\n",
       "      <td>550</td>\n",
       "      <td>8</td>\n",
       "    </tr>\n",
       "    <tr>\n",
       "      <th>an4</th>\n",
       "      <td>tiger</td>\n",
       "      <td>1004</td>\n",
       "      <td>300</td>\n",
       "      <td>5</td>\n",
       "    </tr>\n",
       "    <tr>\n",
       "      <th>an5</th>\n",
       "      <td>tiger</td>\n",
       "      <td>1007</td>\n",
       "      <td>290</td>\n",
       "      <td>5</td>\n",
       "    </tr>\n",
       "  </tbody>\n",
       "</table>\n",
       "</div>"
      ],
      "text/plain": [
       "       animal  uniq_id  water_need  animal_length\n",
       "an1  elephant     1001         500              8\n",
       "an2  elephant     1002         600              8\n",
       "an3  elephant     1003         550              8\n",
       "an4     tiger     1004         300              5\n",
       "an5     tiger     1007         290              5"
      ]
     },
     "execution_count": 349,
     "metadata": {},
     "output_type": "execute_result"
    }
   ],
   "source": [
    "zoo.head()"
   ]
  },
  {
   "cell_type": "code",
   "execution_count": 11,
   "metadata": {},
   "outputs": [
    {
     "data": {
      "text/html": [
       "<div>\n",
       "<style scoped>\n",
       "    .dataframe tbody tr th:only-of-type {\n",
       "        vertical-align: middle;\n",
       "    }\n",
       "\n",
       "    .dataframe tbody tr th {\n",
       "        vertical-align: top;\n",
       "    }\n",
       "\n",
       "    .dataframe thead th {\n",
       "        text-align: right;\n",
       "    }\n",
       "</style>\n",
       "<table border=\"1\" class=\"dataframe\">\n",
       "  <thead>\n",
       "    <tr style=\"text-align: right;\">\n",
       "      <th></th>\n",
       "      <th>animal</th>\n",
       "      <th>uniq_id</th>\n",
       "      <th>water_need</th>\n",
       "      <th>animal_length</th>\n",
       "      <th>ANIMAL</th>\n",
       "    </tr>\n",
       "  </thead>\n",
       "  <tbody>\n",
       "    <tr>\n",
       "      <th>an1</th>\n",
       "      <td>elephant</td>\n",
       "      <td>1001</td>\n",
       "      <td>500</td>\n",
       "      <td>8</td>\n",
       "      <td>ELEPHANT</td>\n",
       "    </tr>\n",
       "    <tr>\n",
       "      <th>an2</th>\n",
       "      <td>elephant</td>\n",
       "      <td>1002</td>\n",
       "      <td>600</td>\n",
       "      <td>8</td>\n",
       "      <td>ELEPHANT</td>\n",
       "    </tr>\n",
       "    <tr>\n",
       "      <th>an3</th>\n",
       "      <td>elephant</td>\n",
       "      <td>1003</td>\n",
       "      <td>550</td>\n",
       "      <td>8</td>\n",
       "      <td>ELEPHANT</td>\n",
       "    </tr>\n",
       "    <tr>\n",
       "      <th>an4</th>\n",
       "      <td>tiger</td>\n",
       "      <td>1004</td>\n",
       "      <td>300</td>\n",
       "      <td>5</td>\n",
       "      <td>TIGER</td>\n",
       "    </tr>\n",
       "    <tr>\n",
       "      <th>an5</th>\n",
       "      <td>tiger</td>\n",
       "      <td>1005</td>\n",
       "      <td>320</td>\n",
       "      <td>5</td>\n",
       "      <td>TIGER</td>\n",
       "    </tr>\n",
       "  </tbody>\n",
       "</table>\n",
       "</div>"
      ],
      "text/plain": [
       "       animal  uniq_id  water_need  animal_length    ANIMAL\n",
       "an1  elephant     1001         500              8  ELEPHANT\n",
       "an2  elephant     1002         600              8  ELEPHANT\n",
       "an3  elephant     1003         550              8  ELEPHANT\n",
       "an4     tiger     1004         300              5     TIGER\n",
       "an5     tiger     1005         320              5     TIGER"
      ]
     },
     "execution_count": 11,
     "metadata": {},
     "output_type": "execute_result"
    }
   ],
   "source": [
    "#capitalize the animals name\n",
    "\n",
    "zoo[\"ANIMAL\"] = zoo[\"animal\"].apply(str.upper)\n",
    "\n",
    "zoo.head()"
   ]
  },
  {
   "cell_type": "markdown",
   "metadata": {},
   "source": [
    "### Using List Comprehensions\n",
    "Let's say that you want to add a new column that muliplies the 'uniq_id' column value with 'water_need'"
   ]
  },
  {
   "cell_type": "code",
   "execution_count": 12,
   "metadata": {},
   "outputs": [
    {
     "data": {
      "text/html": [
       "<div>\n",
       "<style scoped>\n",
       "    .dataframe tbody tr th:only-of-type {\n",
       "        vertical-align: middle;\n",
       "    }\n",
       "\n",
       "    .dataframe tbody tr th {\n",
       "        vertical-align: top;\n",
       "    }\n",
       "\n",
       "    .dataframe thead th {\n",
       "        text-align: right;\n",
       "    }\n",
       "</style>\n",
       "<table border=\"1\" class=\"dataframe\">\n",
       "  <thead>\n",
       "    <tr style=\"text-align: right;\">\n",
       "      <th></th>\n",
       "      <th>animal</th>\n",
       "      <th>uniq_id</th>\n",
       "      <th>water_need</th>\n",
       "      <th>animal_length</th>\n",
       "      <th>ANIMAL</th>\n",
       "      <th>muli</th>\n",
       "    </tr>\n",
       "  </thead>\n",
       "  <tbody>\n",
       "    <tr>\n",
       "      <th>an1</th>\n",
       "      <td>elephant</td>\n",
       "      <td>1001</td>\n",
       "      <td>500</td>\n",
       "      <td>8</td>\n",
       "      <td>ELEPHANT</td>\n",
       "      <td>500500</td>\n",
       "    </tr>\n",
       "    <tr>\n",
       "      <th>an2</th>\n",
       "      <td>elephant</td>\n",
       "      <td>1002</td>\n",
       "      <td>600</td>\n",
       "      <td>8</td>\n",
       "      <td>ELEPHANT</td>\n",
       "      <td>601200</td>\n",
       "    </tr>\n",
       "    <tr>\n",
       "      <th>an3</th>\n",
       "      <td>elephant</td>\n",
       "      <td>1003</td>\n",
       "      <td>550</td>\n",
       "      <td>8</td>\n",
       "      <td>ELEPHANT</td>\n",
       "      <td>551650</td>\n",
       "    </tr>\n",
       "    <tr>\n",
       "      <th>an4</th>\n",
       "      <td>tiger</td>\n",
       "      <td>1004</td>\n",
       "      <td>300</td>\n",
       "      <td>5</td>\n",
       "      <td>TIGER</td>\n",
       "      <td>301200</td>\n",
       "    </tr>\n",
       "    <tr>\n",
       "      <th>an5</th>\n",
       "      <td>tiger</td>\n",
       "      <td>1005</td>\n",
       "      <td>320</td>\n",
       "      <td>5</td>\n",
       "      <td>TIGER</td>\n",
       "      <td>321600</td>\n",
       "    </tr>\n",
       "  </tbody>\n",
       "</table>\n",
       "</div>"
      ],
      "text/plain": [
       "       animal  uniq_id  water_need  animal_length    ANIMAL    muli\n",
       "an1  elephant     1001         500              8  ELEPHANT  500500\n",
       "an2  elephant     1002         600              8  ELEPHANT  601200\n",
       "an3  elephant     1003         550              8  ELEPHANT  551650\n",
       "an4     tiger     1004         300              5     TIGER  301200\n",
       "an5     tiger     1005         320              5     TIGER  321600"
      ]
     },
     "execution_count": 12,
     "metadata": {},
     "output_type": "execute_result"
    }
   ],
   "source": [
    "#first create list of tuples for both columns\n",
    "\n",
    "zipped_cols = list(zip(zoo['uniq_id'],zoo['water_need']))\n",
    "\n",
    "zoo['muli'] = [int(x[0]*x[1]) for x in zipped_cols]\n",
    "\n",
    "zoo.head()"
   ]
  },
  {
   "cell_type": "markdown",
   "metadata": {},
   "source": [
    "### Using `.map()` with a dictionary\n",
    "\n",
    "The **`.map()`** method is used to transform values according to a Python dictionary look-up"
   ]
  },
  {
   "cell_type": "code",
   "execution_count": 360,
   "metadata": {},
   "outputs": [
    {
     "data": {
      "text/html": [
       "<div>\n",
       "<style scoped>\n",
       "    .dataframe tbody tr th:only-of-type {\n",
       "        vertical-align: middle;\n",
       "    }\n",
       "\n",
       "    .dataframe tbody tr th {\n",
       "        vertical-align: top;\n",
       "    }\n",
       "\n",
       "    .dataframe thead th {\n",
       "        text-align: right;\n",
       "    }\n",
       "</style>\n",
       "<table border=\"1\" class=\"dataframe\">\n",
       "  <thead>\n",
       "    <tr style=\"text-align: right;\">\n",
       "      <th></th>\n",
       "      <th>animal</th>\n",
       "      <th>uniq_id</th>\n",
       "      <th>water_need</th>\n",
       "      <th>color</th>\n",
       "    </tr>\n",
       "  </thead>\n",
       "  <tbody>\n",
       "    <tr>\n",
       "      <th>an1</th>\n",
       "      <td>elephant</td>\n",
       "      <td>1001</td>\n",
       "      <td>500</td>\n",
       "      <td>black</td>\n",
       "    </tr>\n",
       "    <tr>\n",
       "      <th>an2</th>\n",
       "      <td>elephant</td>\n",
       "      <td>1002</td>\n",
       "      <td>600</td>\n",
       "      <td>black</td>\n",
       "    </tr>\n",
       "    <tr>\n",
       "      <th>an3</th>\n",
       "      <td>elephant</td>\n",
       "      <td>1003</td>\n",
       "      <td>550</td>\n",
       "      <td>black</td>\n",
       "    </tr>\n",
       "    <tr>\n",
       "      <th>an4</th>\n",
       "      <td>tiger</td>\n",
       "      <td>1004</td>\n",
       "      <td>300</td>\n",
       "      <td>brown</td>\n",
       "    </tr>\n",
       "    <tr>\n",
       "      <th>an5</th>\n",
       "      <td>tiger</td>\n",
       "      <td>1007</td>\n",
       "      <td>290</td>\n",
       "      <td>brown</td>\n",
       "    </tr>\n",
       "  </tbody>\n",
       "</table>\n",
       "</div>"
      ],
      "text/plain": [
       "       animal  uniq_id  water_need  color\n",
       "an1  elephant     1001         500  black\n",
       "an2  elephant     1002         600  black\n",
       "an3  elephant     1003         550  black\n",
       "an4     tiger     1004         300  brown\n",
       "an5     tiger     1007         290  brown"
      ]
     },
     "execution_count": 360,
     "metadata": {},
     "output_type": "execute_result"
    }
   ],
   "source": [
    "animal_color = {'elephant':'black','tiger':'brown','lion':'brown',\n",
    "               'kangaroo':'brown'}\n",
    "\n",
    "zoo['color'] = zoo['animal'].map(animal_color)\n",
    "\n",
    "zoo.head()"
   ]
  },
  {
   "cell_type": "markdown",
   "metadata": {},
   "source": [
    "### Using vectorized functions\n",
    "\n",
    "Examples of vectorized fuctions:\n",
    "\n",
    "* **`.floordiv()`** integer division "
   ]
  },
  {
   "cell_type": "code",
   "execution_count": 365,
   "metadata": {},
   "outputs": [
    {
     "data": {
      "text/html": [
       "<div>\n",
       "<style scoped>\n",
       "    .dataframe tbody tr th:only-of-type {\n",
       "        vertical-align: middle;\n",
       "    }\n",
       "\n",
       "    .dataframe tbody tr th {\n",
       "        vertical-align: top;\n",
       "    }\n",
       "\n",
       "    .dataframe thead th {\n",
       "        text-align: right;\n",
       "    }\n",
       "</style>\n",
       "<table border=\"1\" class=\"dataframe\">\n",
       "  <thead>\n",
       "    <tr style=\"text-align: right;\">\n",
       "      <th></th>\n",
       "      <th>animal</th>\n",
       "      <th>uniq_id</th>\n",
       "      <th>water_need</th>\n",
       "      <th>water_need_in_dozens_vf</th>\n",
       "    </tr>\n",
       "  </thead>\n",
       "  <tbody>\n",
       "    <tr>\n",
       "      <th>an1</th>\n",
       "      <td>elephant</td>\n",
       "      <td>1001</td>\n",
       "      <td>500</td>\n",
       "      <td>41</td>\n",
       "    </tr>\n",
       "    <tr>\n",
       "      <th>an2</th>\n",
       "      <td>elephant</td>\n",
       "      <td>1002</td>\n",
       "      <td>600</td>\n",
       "      <td>50</td>\n",
       "    </tr>\n",
       "    <tr>\n",
       "      <th>an3</th>\n",
       "      <td>elephant</td>\n",
       "      <td>1003</td>\n",
       "      <td>550</td>\n",
       "      <td>45</td>\n",
       "    </tr>\n",
       "    <tr>\n",
       "      <th>an4</th>\n",
       "      <td>tiger</td>\n",
       "      <td>1004</td>\n",
       "      <td>300</td>\n",
       "      <td>25</td>\n",
       "    </tr>\n",
       "    <tr>\n",
       "      <th>an5</th>\n",
       "      <td>tiger</td>\n",
       "      <td>1007</td>\n",
       "      <td>290</td>\n",
       "      <td>24</td>\n",
       "    </tr>\n",
       "  </tbody>\n",
       "</table>\n",
       "</div>"
      ],
      "text/plain": [
       "       animal  uniq_id  water_need  water_need_in_dozens_vf\n",
       "an1  elephant     1001         500                       41\n",
       "an2  elephant     1002         600                       50\n",
       "an3  elephant     1003         550                       45\n",
       "an4     tiger     1004         300                       25\n",
       "an5     tiger     1007         290                       24"
      ]
     },
     "execution_count": 365,
     "metadata": {},
     "output_type": "execute_result"
    }
   ],
   "source": [
    "zoo['water_need_in_dozens_vf'] = zoo.water_need.floordiv(12)\n",
    "zoo.head()"
   ]
  },
  {
   "cell_type": "markdown",
   "metadata": {},
   "source": [
    "### Using `lambda` functions\n",
    "\n",
    "You can use **`lambda`** function along with **`.apply()`** to generate the same output of using **`.floordiv()`** that is used above"
   ]
  },
  {
   "cell_type": "code",
   "execution_count": 368,
   "metadata": {},
   "outputs": [
    {
     "data": {
      "text/html": [
       "<div>\n",
       "<style scoped>\n",
       "    .dataframe tbody tr th:only-of-type {\n",
       "        vertical-align: middle;\n",
       "    }\n",
       "\n",
       "    .dataframe tbody tr th {\n",
       "        vertical-align: top;\n",
       "    }\n",
       "\n",
       "    .dataframe thead th {\n",
       "        text-align: right;\n",
       "    }\n",
       "</style>\n",
       "<table border=\"1\" class=\"dataframe\">\n",
       "  <thead>\n",
       "    <tr style=\"text-align: right;\">\n",
       "      <th></th>\n",
       "      <th>animal</th>\n",
       "      <th>uniq_id</th>\n",
       "      <th>water_need</th>\n",
       "      <th>water_need_in_dozens_vf</th>\n",
       "      <th>water_need_in_dozens_lambda</th>\n",
       "    </tr>\n",
       "  </thead>\n",
       "  <tbody>\n",
       "    <tr>\n",
       "      <th>an1</th>\n",
       "      <td>elephant</td>\n",
       "      <td>1001</td>\n",
       "      <td>500</td>\n",
       "      <td>41</td>\n",
       "      <td>41</td>\n",
       "    </tr>\n",
       "    <tr>\n",
       "      <th>an2</th>\n",
       "      <td>elephant</td>\n",
       "      <td>1002</td>\n",
       "      <td>600</td>\n",
       "      <td>50</td>\n",
       "      <td>50</td>\n",
       "    </tr>\n",
       "    <tr>\n",
       "      <th>an3</th>\n",
       "      <td>elephant</td>\n",
       "      <td>1003</td>\n",
       "      <td>550</td>\n",
       "      <td>45</td>\n",
       "      <td>45</td>\n",
       "    </tr>\n",
       "    <tr>\n",
       "      <th>an4</th>\n",
       "      <td>tiger</td>\n",
       "      <td>1004</td>\n",
       "      <td>300</td>\n",
       "      <td>25</td>\n",
       "      <td>25</td>\n",
       "    </tr>\n",
       "    <tr>\n",
       "      <th>an5</th>\n",
       "      <td>tiger</td>\n",
       "      <td>1007</td>\n",
       "      <td>290</td>\n",
       "      <td>24</td>\n",
       "      <td>24</td>\n",
       "    </tr>\n",
       "  </tbody>\n",
       "</table>\n",
       "</div>"
      ],
      "text/plain": [
       "       animal  uniq_id  water_need  water_need_in_dozens_vf  \\\n",
       "an1  elephant     1001         500                       41   \n",
       "an2  elephant     1002         600                       50   \n",
       "an3  elephant     1003         550                       45   \n",
       "an4     tiger     1004         300                       25   \n",
       "an5     tiger     1007         290                       24   \n",
       "\n",
       "     water_need_in_dozens_lambda  \n",
       "an1                           41  \n",
       "an2                           50  \n",
       "an3                           45  \n",
       "an4                           25  \n",
       "an5                           24  "
      ]
     },
     "execution_count": 368,
     "metadata": {},
     "output_type": "execute_result"
    }
   ],
   "source": [
    "zoo['water_need_in_dozens_lambda'] = zoo.water_need.apply(lambda x: x//12)\n",
    "zoo.head()\n",
    "\n",
    "# // : floor division"
   ]
  },
  {
   "cell_type": "markdown",
   "metadata": {},
   "source": [
    "----------\n",
    "\n",
    "## Processing Data in Chunks\n",
    "\n",
    "Sometimes, the data we have to process reaches a size that is too much for a computer's memory to handle. This is a common problem faced by data scientists. A solution to this is to process an entire data source chunk by chunk, instead of a single go all at once.\n",
    "\n",
    "* **`chunksize`**\n",
    "\n",
    "`pd.read_csv(dataframe,chunksize=num)`"
   ]
  },
  {
   "cell_type": "code",
   "execution_count": 8,
   "metadata": {},
   "outputs": [
    {
     "name": "stdout",
     "output_type": "stream",
     "text": [
      "{'en': 97, 'et': 1, 'und': 2}\n"
     ]
    }
   ],
   "source": [
    "# Initialize an empty dictionary: counts_dict\n",
    "counts_dict = {}\n",
    "\n",
    "# Iterate over the file chunk by chunk\n",
    "for chunk in pd.read_csv('Examples/tweets.csv',chunksize=10):\n",
    "\n",
    "    # Iterate over the column in DataFrame\n",
    "    for entry in chunk['lang']:\n",
    "        if entry in counts_dict.keys():\n",
    "            counts_dict[entry] += 1\n",
    "        else:\n",
    "            counts_dict[entry] = 1\n",
    "\n",
    "# Print the populated dictionary\n",
    "print(counts_dict)\n"
   ]
  },
  {
   "cell_type": "markdown",
   "metadata": {},
   "source": [
    "**To process only one chunk**\n",
    "\n",
    "* **`next()`**"
   ]
  },
  {
   "cell_type": "code",
   "execution_count": 29,
   "metadata": {},
   "outputs": [
    {
     "name": "stdout",
     "output_type": "stream",
     "text": [
      "{'en': 9, 'et': 1}\n"
     ]
    }
   ],
   "source": [
    "# Initialize an empty dictionary: counts_dict\n",
    "counts_dict = {}\n",
    "\n",
    "# Iterate over the file chunk by chunk\n",
    "df = pd.read_csv('Examples/tweets.csv',chunksize=10)\n",
    "\n",
    "chunk = next(df) #first_chunk\n",
    "\n",
    "# Iterate over the first chunk in DataFrame\n",
    "for entry in chunk['lang']:\n",
    "    if entry in counts_dict.keys():\n",
    "        counts_dict[entry] += 1\n",
    "    else:\n",
    "        counts_dict[entry] = 1\n",
    "\n",
    "# Print the populated dictionary\n",
    "print(counts_dict)"
   ]
  },
  {
   "cell_type": "markdown",
   "metadata": {},
   "source": [
    "----------------\n",
    "## Convert Pandas into NumPy Arrays \n",
    "\n",
    "You can convert Pandas into NumPy arrays for fast numeric array computations.\n",
    "\n",
    "* **`.values`**"
   ]
  },
  {
   "cell_type": "code",
   "execution_count": 49,
   "metadata": {},
   "outputs": [],
   "source": [
    "# Import numpy\n",
    "import numpy as np"
   ]
  },
  {
   "cell_type": "code",
   "execution_count": 24,
   "metadata": {},
   "outputs": [
    {
     "data": {
      "text/html": [
       "<div>\n",
       "<style scoped>\n",
       "    .dataframe tbody tr th:only-of-type {\n",
       "        vertical-align: middle;\n",
       "    }\n",
       "\n",
       "    .dataframe tbody tr th {\n",
       "        vertical-align: top;\n",
       "    }\n",
       "\n",
       "    .dataframe thead th {\n",
       "        text-align: right;\n",
       "    }\n",
       "</style>\n",
       "<table border=\"1\" class=\"dataframe\">\n",
       "  <thead>\n",
       "    <tr style=\"text-align: right;\">\n",
       "      <th></th>\n",
       "      <th>Year</th>\n",
       "      <th>Total Population</th>\n",
       "    </tr>\n",
       "  </thead>\n",
       "  <tbody>\n",
       "    <tr>\n",
       "      <th>0</th>\n",
       "      <td>1960</td>\n",
       "      <td>3034970564</td>\n",
       "    </tr>\n",
       "    <tr>\n",
       "      <th>1</th>\n",
       "      <td>1970</td>\n",
       "      <td>3684822701</td>\n",
       "    </tr>\n",
       "    <tr>\n",
       "      <th>2</th>\n",
       "      <td>1980</td>\n",
       "      <td>4436590356</td>\n",
       "    </tr>\n",
       "    <tr>\n",
       "      <th>3</th>\n",
       "      <td>1990</td>\n",
       "      <td>5282715991</td>\n",
       "    </tr>\n",
       "    <tr>\n",
       "      <th>4</th>\n",
       "      <td>2000</td>\n",
       "      <td>6115974486</td>\n",
       "    </tr>\n",
       "    <tr>\n",
       "      <th>5</th>\n",
       "      <td>2010</td>\n",
       "      <td>6924282937</td>\n",
       "    </tr>\n",
       "  </tbody>\n",
       "</table>\n",
       "</div>"
      ],
      "text/plain": [
       "   Year  Total Population\n",
       "0  1960        3034970564\n",
       "1  1970        3684822701\n",
       "2  1980        4436590356\n",
       "3  1990        5282715991\n",
       "4  2000        6115974486\n",
       "5  2010        6924282937"
      ]
     },
     "execution_count": 24,
     "metadata": {},
     "output_type": "execute_result"
    }
   ],
   "source": [
    "# define df\n",
    "Year = [1960,1970,1980,1990,2000,2010]\n",
    "Total_Population = [3034970564, 3684822701, 4436590356, \n",
    "                    5282715991, 6115974486, 6924282937]\n",
    "pop_dict = {'Year':Year,'Total Population':Total_Population}\n",
    "df = pd.DataFrame(pop_dict)\n",
    "df"
   ]
  },
  {
   "cell_type": "code",
   "execution_count": 60,
   "metadata": {},
   "outputs": [
    {
     "name": "stdout",
     "output_type": "stream",
     "text": [
      "[[      1960 3034970564]\n",
      " [      1970 3684822701]\n",
      " [      1980 4436590356]\n",
      " [      1990 5282715991]\n",
      " [      2000 6115974486]\n",
      " [      2010 6924282937]]\n"
     ]
    }
   ],
   "source": [
    "# Import numpy\n",
    "import numpy as np\n",
    "\n",
    "# Create array of DataFrame values: np_vals\n",
    "np_vals = df.values\n",
    "print(np_vals)"
   ]
  },
  {
   "cell_type": "code",
   "execution_count": 61,
   "metadata": {},
   "outputs": [
    {
     "name": "stdout",
     "output_type": "stream",
     "text": [
      "<class 'numpy.ndarray'>\n"
     ]
    }
   ],
   "source": [
    "print(type(np_vals))"
   ]
  },
  {
   "cell_type": "markdown",
   "metadata": {},
   "source": [
    "Since the numeric values of the dataframe is converted into numpy array, you can easily do any computations on it using any of numpy's methods. For examples: Let's convert the data into *log10*"
   ]
  },
  {
   "cell_type": "code",
   "execution_count": 65,
   "metadata": {},
   "outputs": [
    {
     "name": "stdout",
     "output_type": "stream",
     "text": [
      "[[3.29225607 9.48215448]\n",
      " [3.29446623 9.5664166 ]\n",
      " [3.29666519 9.64704933]\n",
      " [3.29885308 9.72285726]\n",
      " [3.30103    9.78646566]\n",
      " [3.30319606 9.84037481]]\n",
      "<class 'numpy.ndarray'>\n"
     ]
    }
   ],
   "source": [
    "np_vals_log10 = np.log10(np_vals)\n",
    "\n",
    "print(np_vals_log10)\n",
    "print(type(np_vals_log10))"
   ]
  },
  {
   "cell_type": "code",
   "execution_count": 68,
   "metadata": {},
   "outputs": [
    {
     "name": "stdout",
     "output_type": "stream",
     "text": [
      "       Year  Total Population\n",
      "0  3.292256          9.482154\n",
      "1  3.294466          9.566417\n",
      "2  3.296665          9.647049\n",
      "3  3.298853          9.722857\n",
      "4  3.301030          9.786466\n",
      "5  3.303196          9.840375\n",
      "<class 'pandas.core.frame.DataFrame'>\n"
     ]
    }
   ],
   "source": [
    "# pass the entire dataframe\n",
    "\n",
    "df_log10 = np.log10(df)\n",
    "print(df_log10)\n",
    "print(type(df_log10))"
   ]
  },
  {
   "cell_type": "markdown",
   "metadata": {},
   "source": [
    "------------------\n",
    "## Plotting with Pandas"
   ]
  },
  {
   "cell_type": "code",
   "execution_count": 22,
   "metadata": {},
   "outputs": [],
   "source": [
    "import pandas as pd\n",
    "import matplotlib.pyplot as plt"
   ]
  },
  {
   "cell_type": "markdown",
   "metadata": {},
   "source": [
    "* **`df.plot()`**\n",
    "Inside it you can do the plot modifications as you do in `matplotlib` plots. In addition, you can add the following when you plot dataframes.\n",
    "\n",
    "* **`subplots=True`**: to plot each col in a subplot\n",
    "\n",
    "You can specify col names in `df.plot` as:\n",
    "* **`x='col_name'`** and **`y='col_name'`** or a list of col names"
   ]
  },
  {
   "cell_type": "code",
   "execution_count": 26,
   "metadata": {},
   "outputs": [
    {
     "data": {
      "text/plain": [
       "array([<matplotlib.axes._subplots.AxesSubplot object at 0x0000028EC6AC30B8>,\n",
       "       <matplotlib.axes._subplots.AxesSubplot object at 0x0000028EC6F5FE10>],\n",
       "      dtype=object)"
      ]
     },
     "execution_count": 26,
     "metadata": {},
     "output_type": "execute_result"
    },
    {
     "data": {
      "image/png": "[encoded data removed]",
      "text/plain": [
       "<Figure size 432x288 with 2 Axes>"
      ]
     },
     "metadata": {
      "needs_background": "light"
     },
     "output_type": "display_data"
    }
   ],
   "source": [
    "df.plot(subplots=True)"
   ]
  },
  {
   "cell_type": "markdown",
   "metadata": {},
   "source": [
    "### Pandas Plot Types\n",
    "\n",
    "general syntax:\n",
    "\n",
    "**`df.plot(kind=,x=,y=)`**\n",
    "\n",
    "**`df[col].plot(kind=)`**\n",
    "\n",
    "**`plt.plot(df[col])`**\n",
    "\n",
    "\n",
    "**Scatter**\n",
    "* **`df.plot(kind='scatter',x=,y=)`**(you can add same parameters as in matplotlib)\n",
    "\n",
    "**box plots**\n",
    "* **`df.plot(kind='box')`**\n",
    "\n",
    "\n",
    "**Histogram**\n",
    "\n",
    "* **`df.plot(kind='hist')`**\n",
    "\n",
    "### Plot PDF and CDF\n",
    "\n",
    "They are plotted from the *histogram* with the following parameters:\n",
    "* **PDF:** **`normed=True`**\n",
    "* **CDF:** **`normed=True`**, **`cumulative=True`**"
   ]
  },
  {
   "cell_type": "code",
   "execution_count": 44,
   "metadata": {},
   "outputs": [
    {
     "data": {
      "image/png": "[encoded data removed]",
      "text/plain": [
       "<Figure size 432x288 with 1 Axes>"
      ]
     },
     "metadata": {
      "needs_background": "light"
     },
     "output_type": "display_data"
    }
   ],
   "source": [
    "df = pd.read_csv('data-cleaning/tips1.csv')\n",
    "\n",
    "# Plot the PDF of fraction column\n",
    "df.fraction.plot(kind='hist', bins=30, normed=True, range=(0,.3))\n",
    "plt.show()"
   ]
  },
  {
   "cell_type": "code",
   "execution_count": 45,
   "metadata": {},
   "outputs": [
    {
     "data": {
      "image/png": "[encoded data removed]",
      "text/plain": [
       "<Figure size 432x288 with 1 Axes>"
      ]
     },
     "metadata": {
      "needs_background": "light"
     },
     "output_type": "display_data"
    }
   ],
   "source": [
    "\n",
    "# Plot the CDF\n",
    "df.fraction.plot(kind='hist', bins=30, normed=True, cumulative=True, range=(0,.3))\n",
    "plt.show()"
   ]
  },
  {
   "cell_type": "markdown",
   "metadata": {},
   "source": [
    "---------\n",
    "## Descriptive Exploratory Data Analysis\n",
    "\n",
    "### Numeric columns\n",
    "\n",
    "**The use of `.describe()` on numeric columns:**\n",
    "\n",
    "\n",
    "* **`.max()`**:\n",
    "Returns the max observation\n",
    "* **`.max()`**:\n",
    "Returns the min observation\n",
    "* **`.median()`**:\n",
    "The middle observation value\n",
    "* **`.count()`**:\n",
    "Counts the total number of non-null observations\n",
    "* **`.quantile()`**:\n",
    "Calculates the xth percentile\n",
    "* **`.std()`**:\n",
    "Calculates the standard deviation\n",
    "* **`.mean()`**:\n",
    "Calculates the mean\n",
    "\n",
    "**Other important descriptive parameters:**\n",
    "\n",
    "* **`.corr()`**:\n",
    "Calculates the correlation coefficient between two\n",
    "\n",
    "Parameters:\n",
    "* **`axis='columns'`**: computes *across* all columns per **row index**"
   ]
  },
  {
   "cell_type": "code",
   "execution_count": 232,
   "metadata": {},
   "outputs": [
    {
     "data": {
      "text/html": [
       "<div>\n",
       "<style scoped>\n",
       "    .dataframe tbody tr th:only-of-type {\n",
       "        vertical-align: middle;\n",
       "    }\n",
       "\n",
       "    .dataframe tbody tr th {\n",
       "        vertical-align: top;\n",
       "    }\n",
       "\n",
       "    .dataframe thead th {\n",
       "        text-align: right;\n",
       "    }\n",
       "</style>\n",
       "<table border=\"1\" class=\"dataframe\">\n",
       "  <thead>\n",
       "    <tr style=\"text-align: right;\">\n",
       "      <th></th>\n",
       "      <th>Agriculture</th>\n",
       "      <th>Architecture</th>\n",
       "      <th>Art and Performance</th>\n",
       "      <th>Biology</th>\n",
       "      <th>Business</th>\n",
       "      <th>Communications and Journalism</th>\n",
       "      <th>Computer Science</th>\n",
       "      <th>Education</th>\n",
       "      <th>Engineering</th>\n",
       "      <th>English</th>\n",
       "      <th>Foreign Languages</th>\n",
       "      <th>Health Professions</th>\n",
       "      <th>Math and Statistics</th>\n",
       "      <th>Physical Sciences</th>\n",
       "      <th>Psychology</th>\n",
       "      <th>Public Administration</th>\n",
       "      <th>Social Sciences and History</th>\n",
       "    </tr>\n",
       "    <tr>\n",
       "      <th>Year</th>\n",
       "      <th></th>\n",
       "      <th></th>\n",
       "      <th></th>\n",
       "      <th></th>\n",
       "      <th></th>\n",
       "      <th></th>\n",
       "      <th></th>\n",
       "      <th></th>\n",
       "      <th></th>\n",
       "      <th></th>\n",
       "      <th></th>\n",
       "      <th></th>\n",
       "      <th></th>\n",
       "      <th></th>\n",
       "      <th></th>\n",
       "      <th></th>\n",
       "      <th></th>\n",
       "    </tr>\n",
       "  </thead>\n",
       "  <tbody>\n",
       "    <tr>\n",
       "      <th>1970</th>\n",
       "      <td>4.229798</td>\n",
       "      <td>11.921005</td>\n",
       "      <td>59.7</td>\n",
       "      <td>29.088363</td>\n",
       "      <td>9.064439</td>\n",
       "      <td>35.3</td>\n",
       "      <td>13.6</td>\n",
       "      <td>74.535328</td>\n",
       "      <td>0.8</td>\n",
       "      <td>65.570923</td>\n",
       "      <td>73.8</td>\n",
       "      <td>77.1</td>\n",
       "      <td>38.0</td>\n",
       "      <td>13.8</td>\n",
       "      <td>44.4</td>\n",
       "      <td>68.4</td>\n",
       "      <td>36.8</td>\n",
       "    </tr>\n",
       "    <tr>\n",
       "      <th>1971</th>\n",
       "      <td>5.452797</td>\n",
       "      <td>12.003106</td>\n",
       "      <td>59.9</td>\n",
       "      <td>29.394403</td>\n",
       "      <td>9.503187</td>\n",
       "      <td>35.5</td>\n",
       "      <td>13.6</td>\n",
       "      <td>74.149204</td>\n",
       "      <td>1.0</td>\n",
       "      <td>64.556485</td>\n",
       "      <td>73.9</td>\n",
       "      <td>75.5</td>\n",
       "      <td>39.0</td>\n",
       "      <td>14.9</td>\n",
       "      <td>46.2</td>\n",
       "      <td>65.5</td>\n",
       "      <td>36.2</td>\n",
       "    </tr>\n",
       "    <tr>\n",
       "      <th>1972</th>\n",
       "      <td>7.420710</td>\n",
       "      <td>13.214594</td>\n",
       "      <td>60.4</td>\n",
       "      <td>29.810221</td>\n",
       "      <td>10.558962</td>\n",
       "      <td>36.6</td>\n",
       "      <td>14.9</td>\n",
       "      <td>73.554520</td>\n",
       "      <td>1.2</td>\n",
       "      <td>63.664263</td>\n",
       "      <td>74.6</td>\n",
       "      <td>76.9</td>\n",
       "      <td>40.2</td>\n",
       "      <td>14.8</td>\n",
       "      <td>47.6</td>\n",
       "      <td>62.6</td>\n",
       "      <td>36.1</td>\n",
       "    </tr>\n",
       "    <tr>\n",
       "      <th>1973</th>\n",
       "      <td>9.653602</td>\n",
       "      <td>14.791613</td>\n",
       "      <td>60.2</td>\n",
       "      <td>31.147915</td>\n",
       "      <td>12.804602</td>\n",
       "      <td>38.4</td>\n",
       "      <td>16.4</td>\n",
       "      <td>73.501814</td>\n",
       "      <td>1.6</td>\n",
       "      <td>62.941502</td>\n",
       "      <td>74.9</td>\n",
       "      <td>77.4</td>\n",
       "      <td>40.9</td>\n",
       "      <td>16.5</td>\n",
       "      <td>50.4</td>\n",
       "      <td>64.3</td>\n",
       "      <td>36.4</td>\n",
       "    </tr>\n",
       "    <tr>\n",
       "      <th>1974</th>\n",
       "      <td>14.074623</td>\n",
       "      <td>17.444688</td>\n",
       "      <td>61.9</td>\n",
       "      <td>32.996183</td>\n",
       "      <td>16.204850</td>\n",
       "      <td>40.5</td>\n",
       "      <td>18.9</td>\n",
       "      <td>73.336811</td>\n",
       "      <td>2.2</td>\n",
       "      <td>62.413412</td>\n",
       "      <td>75.3</td>\n",
       "      <td>77.9</td>\n",
       "      <td>41.8</td>\n",
       "      <td>18.2</td>\n",
       "      <td>52.6</td>\n",
       "      <td>66.1</td>\n",
       "      <td>37.3</td>\n",
       "    </tr>\n",
       "  </tbody>\n",
       "</table>\n",
       "</div>"
      ],
      "text/plain": [
       "      Agriculture  Architecture  Art and Performance    Biology   Business  \\\n",
       "Year                                                                         \n",
       "1970     4.229798     11.921005                 59.7  29.088363   9.064439   \n",
       "1971     5.452797     12.003106                 59.9  29.394403   9.503187   \n",
       "1972     7.420710     13.214594                 60.4  29.810221  10.558962   \n",
       "1973     9.653602     14.791613                 60.2  31.147915  12.804602   \n",
       "1974    14.074623     17.444688                 61.9  32.996183  16.204850   \n",
       "\n",
       "      Communications and Journalism  Computer Science  Education  Engineering  \\\n",
       "Year                                                                            \n",
       "1970                           35.3              13.6  74.535328          0.8   \n",
       "1971                           35.5              13.6  74.149204          1.0   \n",
       "1972                           36.6              14.9  73.554520          1.2   \n",
       "1973                           38.4              16.4  73.501814          1.6   \n",
       "1974                           40.5              18.9  73.336811          2.2   \n",
       "\n",
       "        English  Foreign Languages  Health Professions  Math and Statistics  \\\n",
       "Year                                                                          \n",
       "1970  65.570923               73.8                77.1                 38.0   \n",
       "1971  64.556485               73.9                75.5                 39.0   \n",
       "1972  63.664263               74.6                76.9                 40.2   \n",
       "1973  62.941502               74.9                77.4                 40.9   \n",
       "1974  62.413412               75.3                77.9                 41.8   \n",
       "\n",
       "      Physical Sciences  Psychology  Public Administration  \\\n",
       "Year                                                         \n",
       "1970               13.8        44.4                   68.4   \n",
       "1971               14.9        46.2                   65.5   \n",
       "1972               14.8        47.6                   62.6   \n",
       "1973               16.5        50.4                   64.3   \n",
       "1974               18.2        52.6                   66.1   \n",
       "\n",
       "      Social Sciences and History  \n",
       "Year                               \n",
       "1970                         36.8  \n",
       "1971                         36.2  \n",
       "1972                         36.1  \n",
       "1973                         36.4  \n",
       "1974                         37.3  "
      ]
     },
     "execution_count": 232,
     "metadata": {},
     "output_type": "execute_result"
    }
   ],
   "source": [
    "df = pd.read_csv('data-cleaning/percent-bachelors-degrees-women-usa.csv',index_col=0)\n",
    "\n",
    "df.head()"
   ]
  },
  {
   "cell_type": "code",
   "execution_count": 234,
   "metadata": {},
   "outputs": [
    {
     "data": {
      "text/html": [
       "<div>\n",
       "<style scoped>\n",
       "    .dataframe tbody tr th:only-of-type {\n",
       "        vertical-align: middle;\n",
       "    }\n",
       "\n",
       "    .dataframe tbody tr th {\n",
       "        vertical-align: top;\n",
       "    }\n",
       "\n",
       "    .dataframe thead th {\n",
       "        text-align: right;\n",
       "    }\n",
       "</style>\n",
       "<table border=\"1\" class=\"dataframe\">\n",
       "  <thead>\n",
       "    <tr style=\"text-align: right;\">\n",
       "      <th></th>\n",
       "      <th>Agriculture</th>\n",
       "      <th>Architecture</th>\n",
       "      <th>Art and Performance</th>\n",
       "      <th>Biology</th>\n",
       "      <th>Business</th>\n",
       "      <th>Communications and Journalism</th>\n",
       "      <th>Computer Science</th>\n",
       "      <th>Education</th>\n",
       "      <th>Engineering</th>\n",
       "      <th>English</th>\n",
       "      <th>Foreign Languages</th>\n",
       "      <th>Health Professions</th>\n",
       "      <th>Math and Statistics</th>\n",
       "      <th>Physical Sciences</th>\n",
       "      <th>Psychology</th>\n",
       "      <th>Public Administration</th>\n",
       "      <th>Social Sciences and History</th>\n",
       "    </tr>\n",
       "  </thead>\n",
       "  <tbody>\n",
       "    <tr>\n",
       "      <th>count</th>\n",
       "      <td>42.000000</td>\n",
       "      <td>42.000000</td>\n",
       "      <td>42.000000</td>\n",
       "      <td>42.000000</td>\n",
       "      <td>42.000000</td>\n",
       "      <td>42.000000</td>\n",
       "      <td>42.000000</td>\n",
       "      <td>42.000000</td>\n",
       "      <td>42.000000</td>\n",
       "      <td>42.000000</td>\n",
       "      <td>42.000000</td>\n",
       "      <td>42.000000</td>\n",
       "      <td>42.000000</td>\n",
       "      <td>42.000000</td>\n",
       "      <td>42.000000</td>\n",
       "      <td>42.000000</td>\n",
       "      <td>42.000000</td>\n",
       "    </tr>\n",
       "    <tr>\n",
       "      <th>mean</th>\n",
       "      <td>33.848165</td>\n",
       "      <td>33.685540</td>\n",
       "      <td>61.100000</td>\n",
       "      <td>49.429864</td>\n",
       "      <td>40.653471</td>\n",
       "      <td>56.216667</td>\n",
       "      <td>25.809524</td>\n",
       "      <td>76.356236</td>\n",
       "      <td>12.892857</td>\n",
       "      <td>66.186680</td>\n",
       "      <td>71.723810</td>\n",
       "      <td>82.983333</td>\n",
       "      <td>44.478571</td>\n",
       "      <td>31.304762</td>\n",
       "      <td>68.776190</td>\n",
       "      <td>76.085714</td>\n",
       "      <td>45.407143</td>\n",
       "    </tr>\n",
       "    <tr>\n",
       "      <th>std</th>\n",
       "      <td>12.552731</td>\n",
       "      <td>9.574057</td>\n",
       "      <td>1.305336</td>\n",
       "      <td>10.087725</td>\n",
       "      <td>13.116109</td>\n",
       "      <td>8.698610</td>\n",
       "      <td>6.688753</td>\n",
       "      <td>2.212641</td>\n",
       "      <td>5.670824</td>\n",
       "      <td>1.950990</td>\n",
       "      <td>1.926682</td>\n",
       "      <td>2.914967</td>\n",
       "      <td>2.646262</td>\n",
       "      <td>9.000866</td>\n",
       "      <td>9.705463</td>\n",
       "      <td>5.879504</td>\n",
       "      <td>4.763653</td>\n",
       "    </tr>\n",
       "    <tr>\n",
       "      <th>min</th>\n",
       "      <td>4.229798</td>\n",
       "      <td>11.921005</td>\n",
       "      <td>58.600000</td>\n",
       "      <td>29.088363</td>\n",
       "      <td>9.064439</td>\n",
       "      <td>35.300000</td>\n",
       "      <td>13.600000</td>\n",
       "      <td>72.166525</td>\n",
       "      <td>0.800000</td>\n",
       "      <td>61.647206</td>\n",
       "      <td>69.000000</td>\n",
       "      <td>75.500000</td>\n",
       "      <td>38.000000</td>\n",
       "      <td>13.800000</td>\n",
       "      <td>44.400000</td>\n",
       "      <td>62.600000</td>\n",
       "      <td>36.100000</td>\n",
       "    </tr>\n",
       "    <tr>\n",
       "      <th>25%</th>\n",
       "      <td>30.840814</td>\n",
       "      <td>28.520709</td>\n",
       "      <td>60.200000</td>\n",
       "      <td>44.311821</td>\n",
       "      <td>37.390851</td>\n",
       "      <td>55.125000</td>\n",
       "      <td>19.125000</td>\n",
       "      <td>74.994573</td>\n",
       "      <td>10.625000</td>\n",
       "      <td>65.583807</td>\n",
       "      <td>70.125000</td>\n",
       "      <td>81.825000</td>\n",
       "      <td>42.875000</td>\n",
       "      <td>24.875000</td>\n",
       "      <td>65.550000</td>\n",
       "      <td>74.625000</td>\n",
       "      <td>43.825000</td>\n",
       "    </tr>\n",
       "    <tr>\n",
       "      <th>50%</th>\n",
       "      <td>33.317552</td>\n",
       "      <td>35.994852</td>\n",
       "      <td>61.300000</td>\n",
       "      <td>50.971469</td>\n",
       "      <td>47.210123</td>\n",
       "      <td>59.850000</td>\n",
       "      <td>27.300000</td>\n",
       "      <td>75.937020</td>\n",
       "      <td>14.100000</td>\n",
       "      <td>66.112018</td>\n",
       "      <td>71.150000</td>\n",
       "      <td>83.700000</td>\n",
       "      <td>44.900000</td>\n",
       "      <td>32.100000</td>\n",
       "      <td>72.750000</td>\n",
       "      <td>77.450000</td>\n",
       "      <td>45.300000</td>\n",
       "    </tr>\n",
       "    <tr>\n",
       "      <th>75%</th>\n",
       "      <td>45.663953</td>\n",
       "      <td>40.790605</td>\n",
       "      <td>62.000000</td>\n",
       "      <td>58.679194</td>\n",
       "      <td>48.876139</td>\n",
       "      <td>62.125000</td>\n",
       "      <td>29.775000</td>\n",
       "      <td>78.619420</td>\n",
       "      <td>16.950000</td>\n",
       "      <td>67.861247</td>\n",
       "      <td>73.875000</td>\n",
       "      <td>85.175000</td>\n",
       "      <td>46.500000</td>\n",
       "      <td>40.200000</td>\n",
       "      <td>76.925000</td>\n",
       "      <td>81.100000</td>\n",
       "      <td>49.375000</td>\n",
       "    </tr>\n",
       "    <tr>\n",
       "      <th>max</th>\n",
       "      <td>50.037182</td>\n",
       "      <td>44.499331</td>\n",
       "      <td>63.400000</td>\n",
       "      <td>62.169456</td>\n",
       "      <td>50.552335</td>\n",
       "      <td>64.600000</td>\n",
       "      <td>37.100000</td>\n",
       "      <td>79.618625</td>\n",
       "      <td>19.000000</td>\n",
       "      <td>68.894487</td>\n",
       "      <td>75.300000</td>\n",
       "      <td>86.500000</td>\n",
       "      <td>48.300000</td>\n",
       "      <td>42.200000</td>\n",
       "      <td>77.800000</td>\n",
       "      <td>82.100000</td>\n",
       "      <td>51.800000</td>\n",
       "    </tr>\n",
       "  </tbody>\n",
       "</table>\n",
       "</div>"
      ],
      "text/plain": [
       "       Agriculture  Architecture  Art and Performance    Biology   Business  \\\n",
       "count    42.000000     42.000000            42.000000  42.000000  42.000000   \n",
       "mean     33.848165     33.685540            61.100000  49.429864  40.653471   \n",
       "std      12.552731      9.574057             1.305336  10.087725  13.116109   \n",
       "min       4.229798     11.921005            58.600000  29.088363   9.064439   \n",
       "25%      30.840814     28.520709            60.200000  44.311821  37.390851   \n",
       "50%      33.317552     35.994852            61.300000  50.971469  47.210123   \n",
       "75%      45.663953     40.790605            62.000000  58.679194  48.876139   \n",
       "max      50.037182     44.499331            63.400000  62.169456  50.552335   \n",
       "\n",
       "       Communications and Journalism  Computer Science  Education  \\\n",
       "count                      42.000000         42.000000  42.000000   \n",
       "mean                       56.216667         25.809524  76.356236   \n",
       "std                         8.698610          6.688753   2.212641   \n",
       "min                        35.300000         13.600000  72.166525   \n",
       "25%                        55.125000         19.125000  74.994573   \n",
       "50%                        59.850000         27.300000  75.937020   \n",
       "75%                        62.125000         29.775000  78.619420   \n",
       "max                        64.600000         37.100000  79.618625   \n",
       "\n",
       "       Engineering    English  Foreign Languages  Health Professions  \\\n",
       "count    42.000000  42.000000          42.000000           42.000000   \n",
       "mean     12.892857  66.186680          71.723810           82.983333   \n",
       "std       5.670824   1.950990           1.926682            2.914967   \n",
       "min       0.800000  61.647206          69.000000           75.500000   \n",
       "25%      10.625000  65.583807          70.125000           81.825000   \n",
       "50%      14.100000  66.112018          71.150000           83.700000   \n",
       "75%      16.950000  67.861247          73.875000           85.175000   \n",
       "max      19.000000  68.894487          75.300000           86.500000   \n",
       "\n",
       "       Math and Statistics  Physical Sciences  Psychology  \\\n",
       "count            42.000000          42.000000   42.000000   \n",
       "mean             44.478571          31.304762   68.776190   \n",
       "std               2.646262           9.000866    9.705463   \n",
       "min              38.000000          13.800000   44.400000   \n",
       "25%              42.875000          24.875000   65.550000   \n",
       "50%              44.900000          32.100000   72.750000   \n",
       "75%              46.500000          40.200000   76.925000   \n",
       "max              48.300000          42.200000   77.800000   \n",
       "\n",
       "       Public Administration  Social Sciences and History  \n",
       "count              42.000000                    42.000000  \n",
       "mean               76.085714                    45.407143  \n",
       "std                 5.879504                     4.763653  \n",
       "min                62.600000                    36.100000  \n",
       "25%                74.625000                    43.825000  \n",
       "50%                77.450000                    45.300000  \n",
       "75%                81.100000                    49.375000  \n",
       "max                82.100000                    51.800000  "
      ]
     },
     "execution_count": 234,
     "metadata": {},
     "output_type": "execute_result"
    }
   ],
   "source": [
    "df.describe()"
   ]
  },
  {
   "cell_type": "code",
   "execution_count": 237,
   "metadata": {},
   "outputs": [
    {
     "data": {
      "text/plain": [
       "Agriculture                      33.848165\n",
       "Architecture                     33.685540\n",
       "Art and Performance              61.100000\n",
       "Biology                          49.429864\n",
       "Business                         40.653471\n",
       "Communications and Journalism    56.216667\n",
       "Computer Science                 25.809524\n",
       "Education                        76.356236\n",
       "Engineering                      12.892857\n",
       "English                          66.186680\n",
       "Foreign Languages                71.723810\n",
       "Health Professions               82.983333\n",
       "Math and Statistics              44.478571\n",
       "Physical Sciences                31.304762\n",
       "Psychology                       68.776190\n",
       "Public Administration            76.085714\n",
       "Social Sciences and History      45.407143\n",
       "dtype: float64"
      ]
     },
     "execution_count": 237,
     "metadata": {},
     "output_type": "execute_result"
    }
   ],
   "source": [
    "df.mean()"
   ]
  },
  {
   "cell_type": "code",
   "execution_count": 236,
   "metadata": {},
   "outputs": [
    {
     "name": "stdout",
     "output_type": "stream",
     "text": [
      "Year\n",
      "1970    38.594697\n",
      "1971    38.603481\n",
      "1972    39.066075\n",
      "1973    40.131826\n",
      "1974    41.715916\n",
      "dtype: float64\n"
     ]
    }
   ],
   "source": [
    "# Construct the mean percentage per year (index)\n",
    "mean = df.mean(axis='columns')\n",
    "print(mean.head())"
   ]
  },
  {
   "cell_type": "markdown",
   "metadata": {},
   "source": [
    "In case `date` is not an index col. You can use `df.groupby('year')` to plot the mean accross `year` col"
   ]
  },
  {
   "cell_type": "code",
   "execution_count": 238,
   "metadata": {},
   "outputs": [
    {
     "data": {
      "image/png": "[encoded data removed]",
      "text/plain": [
       "<Figure size 432x288 with 1 Axes>"
      ]
     },
     "metadata": {
      "needs_background": "light"
     },
     "output_type": "display_data"
    }
   ],
   "source": [
    "# Plot the average percentage per year\n",
    "mean.plot()\n",
    "\n",
    "# Display the plot\n",
    "plt.show()"
   ]
  },
  {
   "cell_type": "markdown",
   "metadata": {},
   "source": [
    "Note that the x-axis label is added automatically, you will just need to define y-label and title"
   ]
  },
  {
   "cell_type": "code",
   "execution_count": 55,
   "metadata": {},
   "outputs": [
    {
     "data": {
      "text/plain": [
       "<matplotlib.axes._subplots.AxesSubplot at 0x28ec84146a0>"
      ]
     },
     "execution_count": 55,
     "metadata": {},
     "output_type": "execute_result"
    },
    {
     "data": {
      "image/png": "[encoded data removed]",
      "text/plain": [
       "<Figure size 432x288 with 1 Axes>"
      ]
     },
     "metadata": {
      "needs_background": "light"
     },
     "output_type": "display_data"
    }
   ],
   "source": [
    "df['Engineering'].plot(kind='box')"
   ]
  },
  {
   "cell_type": "code",
   "execution_count": 60,
   "metadata": {},
   "outputs": [
    {
     "data": {
      "text/plain": [
       "<matplotlib.axes._subplots.AxesSubplot at 0x28ec72c1b70>"
      ]
     },
     "execution_count": 60,
     "metadata": {},
     "output_type": "execute_result"
    },
    {
     "data": {
      "image/png": "[encoded data removed]",
      "text/plain": [
       "<Figure size 432x288 with 1 Axes>"
      ]
     },
     "metadata": {
      "needs_background": "light"
     },
     "output_type": "display_data"
    }
   ],
   "source": [
    "df[['Engineering','Architecture','Business']].plot(kind='box')"
   ]
  },
  {
   "cell_type": "code",
   "execution_count": 63,
   "metadata": {},
   "outputs": [
    {
     "data": {
      "text/plain": [
       "0.05     1.220\n",
       "0.95    18.695\n",
       "Name: Engineering, dtype: float64"
      ]
     },
     "execution_count": 63,
     "metadata": {},
     "output_type": "execute_result"
    }
   ],
   "source": [
    "# 5th and 95th percentile of Engineering\n",
    "df['Engineering'].quantile([0.05, 0.95])"
   ]
  },
  {
   "cell_type": "code",
   "execution_count": 242,
   "metadata": {},
   "outputs": [
    {
     "name": "stdout",
     "output_type": "stream",
     "text": [
      "             Engineering  Business\n",
      "Engineering     1.000000  0.978619\n",
      "Business        0.978619  1.000000\n"
     ]
    }
   ],
   "source": [
    "# correlation between Engineering and Business\n",
    "\n",
    "print(df[['Engineering','Business']].corr())"
   ]
  },
  {
   "cell_type": "code",
   "execution_count": 245,
   "metadata": {},
   "outputs": [
    {
     "data": {
      "image/png": "[encoded data removed]",
      "text/plain": [
       "<Figure size 432x288 with 2 Axes>"
      ]
     },
     "metadata": {
      "needs_background": "light"
     },
     "output_type": "display_data"
    }
   ],
   "source": [
    "df[['Engineering','Business']].plot(subplots=True)\n",
    "plt.show()"
   ]
  },
  {
   "cell_type": "markdown",
   "metadata": {},
   "source": [
    "### Filtering and counting on non-numeric columns "
   ]
  },
  {
   "cell_type": "code",
   "execution_count": 68,
   "metadata": {},
   "outputs": [
    {
     "data": {
      "text/html": [
       "<div>\n",
       "<style scoped>\n",
       "    .dataframe tbody tr th:only-of-type {\n",
       "        vertical-align: middle;\n",
       "    }\n",
       "\n",
       "    .dataframe tbody tr th {\n",
       "        vertical-align: top;\n",
       "    }\n",
       "\n",
       "    .dataframe thead th {\n",
       "        text-align: right;\n",
       "    }\n",
       "</style>\n",
       "<table border=\"1\" class=\"dataframe\">\n",
       "  <thead>\n",
       "    <tr style=\"text-align: right;\">\n",
       "      <th></th>\n",
       "      <th>mpg</th>\n",
       "      <th>cyl</th>\n",
       "      <th>displ</th>\n",
       "      <th>hp</th>\n",
       "      <th>weight</th>\n",
       "      <th>accel</th>\n",
       "      <th>yr</th>\n",
       "      <th>origin</th>\n",
       "      <th>name</th>\n",
       "    </tr>\n",
       "  </thead>\n",
       "  <tbody>\n",
       "    <tr>\n",
       "      <th>0</th>\n",
       "      <td>18.0</td>\n",
       "      <td>8</td>\n",
       "      <td>307.0</td>\n",
       "      <td>130</td>\n",
       "      <td>3504</td>\n",
       "      <td>12.0</td>\n",
       "      <td>70</td>\n",
       "      <td>US</td>\n",
       "      <td>chevrolet chevelle malibu</td>\n",
       "    </tr>\n",
       "    <tr>\n",
       "      <th>1</th>\n",
       "      <td>15.0</td>\n",
       "      <td>8</td>\n",
       "      <td>350.0</td>\n",
       "      <td>165</td>\n",
       "      <td>3693</td>\n",
       "      <td>11.5</td>\n",
       "      <td>70</td>\n",
       "      <td>US</td>\n",
       "      <td>buick skylark 320</td>\n",
       "    </tr>\n",
       "    <tr>\n",
       "      <th>2</th>\n",
       "      <td>18.0</td>\n",
       "      <td>8</td>\n",
       "      <td>318.0</td>\n",
       "      <td>150</td>\n",
       "      <td>3436</td>\n",
       "      <td>11.0</td>\n",
       "      <td>70</td>\n",
       "      <td>US</td>\n",
       "      <td>plymouth satellite</td>\n",
       "    </tr>\n",
       "    <tr>\n",
       "      <th>3</th>\n",
       "      <td>16.0</td>\n",
       "      <td>8</td>\n",
       "      <td>304.0</td>\n",
       "      <td>150</td>\n",
       "      <td>3433</td>\n",
       "      <td>12.0</td>\n",
       "      <td>70</td>\n",
       "      <td>US</td>\n",
       "      <td>amc rebel sst</td>\n",
       "    </tr>\n",
       "    <tr>\n",
       "      <th>4</th>\n",
       "      <td>17.0</td>\n",
       "      <td>8</td>\n",
       "      <td>302.0</td>\n",
       "      <td>140</td>\n",
       "      <td>3449</td>\n",
       "      <td>10.5</td>\n",
       "      <td>70</td>\n",
       "      <td>US</td>\n",
       "      <td>ford torino</td>\n",
       "    </tr>\n",
       "  </tbody>\n",
       "</table>\n",
       "</div>"
      ],
      "text/plain": [
       "    mpg  cyl  displ   hp  weight  accel  yr origin                       name\n",
       "0  18.0    8  307.0  130    3504   12.0  70     US  chevrolet chevelle malibu\n",
       "1  15.0    8  350.0  165    3693   11.5  70     US          buick skylark 320\n",
       "2  18.0    8  318.0  150    3436   11.0  70     US         plymouth satellite\n",
       "3  16.0    8  304.0  150    3433   12.0  70     US              amc rebel sst\n",
       "4  17.0    8  302.0  140    3449   10.5  70     US                ford torino"
      ]
     },
     "execution_count": 68,
     "metadata": {},
     "output_type": "execute_result"
    }
   ],
   "source": [
    "df = pd.read_csv('datasets/auto-mpg.csv')\n",
    "df.head()"
   ]
  },
  {
   "cell_type": "markdown",
   "metadata": {},
   "source": [
    "**The use of `.describe()` on non-numeric columns:**\n",
    "\n",
    "* **count**: number of observations\n",
    "* **unique**: how many unique observations\n",
    "* **top**: most frequency category\n",
    "* **freq**: number of occurrences of top"
   ]
  },
  {
   "cell_type": "code",
   "execution_count": 71,
   "metadata": {},
   "outputs": [
    {
     "data": {
      "text/plain": [
       "count     392\n",
       "unique      3\n",
       "top        US\n",
       "freq      245\n",
       "Name: origin, dtype: object"
      ]
     },
     "execution_count": 71,
     "metadata": {},
     "output_type": "execute_result"
    }
   ],
   "source": [
    "df['origin'].describe()"
   ]
  },
  {
   "cell_type": "markdown",
   "metadata": {},
   "source": [
    "* **`.unique()`**: unique categories in a col"
   ]
  },
  {
   "cell_type": "code",
   "execution_count": 72,
   "metadata": {},
   "outputs": [
    {
     "data": {
      "text/plain": [
       "array(['US', 'Asia', 'Europe'], dtype=object)"
      ]
     },
     "execution_count": 72,
     "metadata": {},
     "output_type": "execute_result"
    }
   ],
   "source": [
    "df['origin'].unique()"
   ]
  },
  {
   "cell_type": "code",
   "execution_count": 79,
   "metadata": {},
   "outputs": [
    {
     "data": {
      "text/plain": [
       "mpg       79\n",
       "cyl       79\n",
       "displ     79\n",
       "hp        79\n",
       "weight    79\n",
       "accel     79\n",
       "yr        79\n",
       "origin    79\n",
       "name      79\n",
       "dtype: int64"
      ]
     },
     "execution_count": 79,
     "metadata": {},
     "output_type": "execute_result"
    }
   ],
   "source": [
    "# Asia rows\n",
    "df[df['origin'] == 'Asia'].count()"
   ]
  },
  {
   "cell_type": "markdown",
   "metadata": {},
   "source": [
    "You can filter out certian rows using **`.loc`**"
   ]
  },
  {
   "cell_type": "code",
   "execution_count": 82,
   "metadata": {},
   "outputs": [
    {
     "name": "stdout",
     "output_type": "stream",
     "text": [
      "mpg        -3.412449\n",
      "cyl         0.805612\n",
      "displ      53.100255\n",
      "hp         14.579592\n",
      "weight    394.905612\n",
      "accel      -0.551122\n",
      "yr         -0.387755\n",
      "dtype: float64\n",
      "mpg       -1.364623\n",
      "cyl       -0.049788\n",
      "displ     -6.267657\n",
      "hp         1.406630\n",
      "weight   -54.055870\n",
      "accel     -0.022844\n",
      "yr        -0.023369\n",
      "dtype: float64\n"
     ]
    }
   ],
   "source": [
    "# Compute the global mean and global standard deviation: global_mean, global_std\n",
    "global_mean = df.mean()\n",
    "global_std = df.std()\n",
    "\n",
    "# Filter the US population from the origin column: us\n",
    "us = df.loc[df['origin'] == 'US']\n",
    "\n",
    "# Compute the US mean and US standard deviation: us_mean, us_std\n",
    "us_mean = us.mean()\n",
    "us_std = us.std()\n",
    "\n",
    "# Print the differences between US features and global ones\n",
    "print(us_mean - global_mean)\n",
    "print(us_std - global_std)"
   ]
  },
  {
   "cell_type": "markdown",
   "metadata": {},
   "source": [
    "-------------\n",
    "## Indexing Time Series\n",
    "### Converting Data Series into Time Series\n",
    "* **`pd.to_datetime`** convert a col or Series to datetime type"
   ]
  },
  {
   "cell_type": "code",
   "execution_count": 5,
   "metadata": {},
   "outputs": [],
   "source": [
    "temperature = [46.2,44.6,44.1,43.8,43.5]\n",
    "date = ['20100101 00:00','20100101 01:00','20100101 02:00',\n",
    "        '20100101 03:00','20100101 04:00']"
   ]
  },
  {
   "cell_type": "code",
   "execution_count": 6,
   "metadata": {},
   "outputs": [
    {
     "data": {
      "text/plain": [
       "2010-01-01 00:00:00    46.2\n",
       "2010-01-01 01:00:00    44.6\n",
       "2010-01-01 02:00:00    44.1\n",
       "2010-01-01 03:00:00    43.8\n",
       "2010-01-01 04:00:00    43.5\n",
       "dtype: float64"
      ]
     },
     "execution_count": 6,
     "metadata": {},
     "output_type": "execute_result"
    }
   ],
   "source": [
    "# Prepare a format string that you WANT\n",
    "time_format = '%Y-%m-%d %H:%M'\n",
    "\n",
    "# Convert date_list into a datetime object: my_datetimes\n",
    "my_datetimes = pd.to_datetime(date, format=time_format)  \n",
    "\n",
    "# Construct a pandas Series using temperature_list and my_datetimes: time_series\n",
    "time_series = pd.Series(temperature, index=my_datetimes)\n",
    "time_series"
   ]
  },
  {
   "cell_type": "markdown",
   "metadata": {},
   "source": [
    "### Converting Data Series of unrecognized formatting\n",
    "\n",
    "In the example below, the date formatting starts with a day, month, and then a year. `pd.to_datetime()` could not format it, or recognize the new pattern. Therefore we can use a `lambda` function with the method:\n",
    "* **`datetime.strptime`**"
   ]
  },
  {
   "cell_type": "code",
   "execution_count": 7,
   "metadata": {},
   "outputs": [],
   "source": [
    "temperature = [46.2,44.6,44.1,43.8,43.5]\n",
    "date = ['01.01.2010 00:00','01.01.2010 01:00','01.01.2010 02:00',\n",
    "        '01.01.2010 03:00','01.01.2010 04:00']"
   ]
  },
  {
   "cell_type": "code",
   "execution_count": null,
   "metadata": {},
   "outputs": [],
   "source": [
    "# Prepare a format string: time_format\n",
    "time_format = '%Y-%m-%d %H:%M'\n",
    "\n",
    "# Convert date_list into a datetime object: my_datetimes\n",
    "my_datetimes = pd.to_datetime(date, format=time_format)  \n",
    "\n",
    "time_series = pd.Series(temperature, index=my_datetimes)\n",
    "time_series\n",
    "\n",
    "# This code will provide an error"
   ]
  },
  {
   "cell_type": "markdown",
   "metadata": {},
   "source": [
    "We can see that the previous code gave us an error since the formatting was not recognized by the function `pd.to_datetime`"
   ]
  },
  {
   "cell_type": "code",
   "execution_count": 22,
   "metadata": {},
   "outputs": [],
   "source": [
    "temperature = [46.2,44.6,44.1,43.8,43.5]\n",
    "date = ['01.01.2010 00:00','01.01.2010 01:00','01.01.2010 02:00',\n",
    "        '01.01.2010 03:00','01.01.2010 04:00']\n",
    "\n",
    "df = pd.DataFrame({'date':date,'temp':temperature})"
   ]
  },
  {
   "cell_type": "code",
   "execution_count": 23,
   "metadata": {},
   "outputs": [
    {
     "data": {
      "text/html": [
       "<div>\n",
       "<style scoped>\n",
       "    .dataframe tbody tr th:only-of-type {\n",
       "        vertical-align: middle;\n",
       "    }\n",
       "\n",
       "    .dataframe tbody tr th {\n",
       "        vertical-align: top;\n",
       "    }\n",
       "\n",
       "    .dataframe thead th {\n",
       "        text-align: right;\n",
       "    }\n",
       "</style>\n",
       "<table border=\"1\" class=\"dataframe\">\n",
       "  <thead>\n",
       "    <tr style=\"text-align: right;\">\n",
       "      <th></th>\n",
       "      <th>date</th>\n",
       "      <th>temp</th>\n",
       "    </tr>\n",
       "  </thead>\n",
       "  <tbody>\n",
       "    <tr>\n",
       "      <th>0</th>\n",
       "      <td>2010-01-01 00:00:00</td>\n",
       "      <td>46.2</td>\n",
       "    </tr>\n",
       "    <tr>\n",
       "      <th>1</th>\n",
       "      <td>2010-01-01 01:00:00</td>\n",
       "      <td>44.6</td>\n",
       "    </tr>\n",
       "    <tr>\n",
       "      <th>2</th>\n",
       "      <td>2010-01-01 02:00:00</td>\n",
       "      <td>44.1</td>\n",
       "    </tr>\n",
       "    <tr>\n",
       "      <th>3</th>\n",
       "      <td>2010-01-01 03:00:00</td>\n",
       "      <td>43.8</td>\n",
       "    </tr>\n",
       "    <tr>\n",
       "      <th>4</th>\n",
       "      <td>2010-01-01 04:00:00</td>\n",
       "      <td>43.5</td>\n",
       "    </tr>\n",
       "  </tbody>\n",
       "</table>\n",
       "</div>"
      ],
      "text/plain": [
       "                 date  temp\n",
       "0 2010-01-01 00:00:00  46.2\n",
       "1 2010-01-01 01:00:00  44.6\n",
       "2 2010-01-01 02:00:00  44.1\n",
       "3 2010-01-01 03:00:00  43.8\n",
       "4 2010-01-01 04:00:00  43.5"
      ]
     },
     "execution_count": 23,
     "metadata": {},
     "output_type": "execute_result"
    }
   ],
   "source": [
    "from datetime import datetime\n",
    "\n",
    "df['date'] = df['date'].apply(lambda x: datetime.strptime(x,'%d.%m.%Y %H:%M'))\n",
    "\n",
    "df"
   ]
  },
  {
   "cell_type": "markdown",
   "metadata": {},
   "source": [
    "### Partial string indexing and slicing\n",
    "\n",
    "In **`pd.read_csv`**:\n",
    "* **`.parse_dates=True`**\n",
    "* **`index_col='Date_col'`**\n",
    "\n",
    "Slicing Time Seriescan be done by:\n",
    "* **`.loc[]`**: since the date here in the index, you can put the date for slicing\n",
    "* **`df['year-month']`** year and month can be strings or numbers"
   ]
  },
  {
   "cell_type": "code",
   "execution_count": 37,
   "metadata": {},
   "outputs": [
    {
     "data": {
      "text/html": [
       "<div>\n",
       "<style scoped>\n",
       "    .dataframe tbody tr th:only-of-type {\n",
       "        vertical-align: middle;\n",
       "    }\n",
       "\n",
       "    .dataframe tbody tr th {\n",
       "        vertical-align: top;\n",
       "    }\n",
       "\n",
       "    .dataframe thead th {\n",
       "        text-align: right;\n",
       "    }\n",
       "</style>\n",
       "<table border=\"1\" class=\"dataframe\">\n",
       "  <thead>\n",
       "    <tr style=\"text-align: right;\">\n",
       "      <th></th>\n",
       "      <th>Temperature</th>\n",
       "      <th>DewPoint</th>\n",
       "      <th>Pressure</th>\n",
       "    </tr>\n",
       "    <tr>\n",
       "      <th>Date</th>\n",
       "      <th></th>\n",
       "      <th></th>\n",
       "      <th></th>\n",
       "    </tr>\n",
       "  </thead>\n",
       "  <tbody>\n",
       "    <tr>\n",
       "      <th>2010-01-01 00:00:00</th>\n",
       "      <td>46.2</td>\n",
       "      <td>37.5</td>\n",
       "      <td>1.0</td>\n",
       "    </tr>\n",
       "    <tr>\n",
       "      <th>2010-01-01 01:00:00</th>\n",
       "      <td>44.6</td>\n",
       "      <td>37.1</td>\n",
       "      <td>1.0</td>\n",
       "    </tr>\n",
       "    <tr>\n",
       "      <th>2010-01-01 02:00:00</th>\n",
       "      <td>44.1</td>\n",
       "      <td>36.9</td>\n",
       "      <td>1.0</td>\n",
       "    </tr>\n",
       "    <tr>\n",
       "      <th>2010-01-01 03:00:00</th>\n",
       "      <td>43.8</td>\n",
       "      <td>36.9</td>\n",
       "      <td>1.0</td>\n",
       "    </tr>\n",
       "    <tr>\n",
       "      <th>2010-01-01 04:00:00</th>\n",
       "      <td>43.5</td>\n",
       "      <td>36.8</td>\n",
       "      <td>1.0</td>\n",
       "    </tr>\n",
       "  </tbody>\n",
       "</table>\n",
       "</div>"
      ],
      "text/plain": [
       "                     Temperature  DewPoint  Pressure\n",
       "Date                                                \n",
       "2010-01-01 00:00:00         46.2      37.5       1.0\n",
       "2010-01-01 01:00:00         44.6      37.1       1.0\n",
       "2010-01-01 02:00:00         44.1      36.9       1.0\n",
       "2010-01-01 03:00:00         43.8      36.9       1.0\n",
       "2010-01-01 04:00:00         43.5      36.8       1.0"
      ]
     },
     "execution_count": 37,
     "metadata": {},
     "output_type": "execute_result"
    }
   ],
   "source": [
    "df = pd.read_csv('datasets/weather_data_austin_2010.csv', \n",
    "                 parse_dates=True, index_col=\"Date\")\n",
    "df.head()"
   ]
  },
  {
   "cell_type": "code",
   "execution_count": 38,
   "metadata": {},
   "outputs": [],
   "source": [
    "# Extract the hour from 9pm to 10pm on '2010-10-11': ts1\n",
    "ts1 = df.Temperature.loc['2010-10-11 21:00:00':'2010-10-11 22:00:00']\n",
    "\n",
    "# Extract '2010-07-04' from ts0: ts2\n",
    "ts2 = df.Temperature.loc['2010-07-04']\n",
    "\n",
    "# Extract data from '2010-12-15' to '2010-12-31': ts3\n",
    "ts3 = df.Temperature.loc['2010-12-15' :'2010-12-31']"
   ]
  },
  {
   "cell_type": "code",
   "execution_count": 42,
   "metadata": {},
   "outputs": [
    {
     "data": {
      "text/plain": [
       "Date\n",
       "2010-08-01 00:00:00    79.0\n",
       "2010-08-01 01:00:00    77.4\n",
       "2010-08-01 02:00:00    76.4\n",
       "2010-08-01 03:00:00    75.7\n",
       "2010-08-01 04:00:00    75.1\n",
       "Name: Temperature, dtype: float64"
      ]
     },
     "execution_count": 42,
     "metadata": {},
     "output_type": "execute_result"
    }
   ],
   "source": [
    "august = df['Temperature']['2010-August']\n",
    "august.head()"
   ]
  },
  {
   "cell_type": "code",
   "execution_count": 47,
   "metadata": {},
   "outputs": [
    {
     "data": {
      "text/html": [
       "<div>\n",
       "<style scoped>\n",
       "    .dataframe tbody tr th:only-of-type {\n",
       "        vertical-align: middle;\n",
       "    }\n",
       "\n",
       "    .dataframe tbody tr th {\n",
       "        vertical-align: top;\n",
       "    }\n",
       "\n",
       "    .dataframe thead th {\n",
       "        text-align: right;\n",
       "    }\n",
       "</style>\n",
       "<table border=\"1\" class=\"dataframe\">\n",
       "  <thead>\n",
       "    <tr style=\"text-align: right;\">\n",
       "      <th></th>\n",
       "      <th>Temperature</th>\n",
       "      <th>DewPoint</th>\n",
       "      <th>Pressure</th>\n",
       "    </tr>\n",
       "    <tr>\n",
       "      <th>Date</th>\n",
       "      <th></th>\n",
       "      <th></th>\n",
       "      <th></th>\n",
       "    </tr>\n",
       "  </thead>\n",
       "  <tbody>\n",
       "    <tr>\n",
       "      <th>2010-07-01 00:00:00</th>\n",
       "      <td>77.4</td>\n",
       "      <td>70.6</td>\n",
       "      <td>1.0</td>\n",
       "    </tr>\n",
       "    <tr>\n",
       "      <th>2010-07-01 01:00:00</th>\n",
       "      <td>76.1</td>\n",
       "      <td>70.9</td>\n",
       "      <td>1.0</td>\n",
       "    </tr>\n",
       "    <tr>\n",
       "      <th>2010-07-01 02:00:00</th>\n",
       "      <td>75.3</td>\n",
       "      <td>70.9</td>\n",
       "      <td>1.0</td>\n",
       "    </tr>\n",
       "    <tr>\n",
       "      <th>2010-07-01 03:00:00</th>\n",
       "      <td>74.7</td>\n",
       "      <td>70.9</td>\n",
       "      <td>1.0</td>\n",
       "    </tr>\n",
       "    <tr>\n",
       "      <th>2010-07-01 04:00:00</th>\n",
       "      <td>74.3</td>\n",
       "      <td>70.8</td>\n",
       "      <td>1.0</td>\n",
       "    </tr>\n",
       "  </tbody>\n",
       "</table>\n",
       "</div>"
      ],
      "text/plain": [
       "                     Temperature  DewPoint  Pressure\n",
       "Date                                                \n",
       "2010-07-01 00:00:00         77.4      70.6       1.0\n",
       "2010-07-01 01:00:00         76.1      70.9       1.0\n",
       "2010-07-01 02:00:00         75.3      70.9       1.0\n",
       "2010-07-01 03:00:00         74.7      70.9       1.0\n",
       "2010-07-01 04:00:00         74.3      70.8       1.0"
      ]
     },
     "execution_count": 47,
     "metadata": {},
     "output_type": "execute_result"
    }
   ],
   "source": [
    "august1 = df['2010-July']\n",
    "august1.head()"
   ]
  },
  {
   "cell_type": "markdown",
   "metadata": {},
   "source": [
    "### Reindexing\n",
    "* **`.reindex()`**: re-index one dataset from another dataset's index\n",
    "* **`.set_index()`**: to set a column in the df as index\n",
    "* **`.reset_index()`**: return the current index into a df column"
   ]
  },
  {
   "cell_type": "code",
   "execution_count": 120,
   "metadata": {},
   "outputs": [
    {
     "data": {
      "text/html": [
       "<div>\n",
       "<style scoped>\n",
       "    .dataframe tbody tr th:only-of-type {\n",
       "        vertical-align: middle;\n",
       "    }\n",
       "\n",
       "    .dataframe tbody tr th {\n",
       "        vertical-align: top;\n",
       "    }\n",
       "\n",
       "    .dataframe thead th {\n",
       "        text-align: right;\n",
       "    }\n",
       "</style>\n",
       "<table border=\"1\" class=\"dataframe\">\n",
       "  <thead>\n",
       "    <tr style=\"text-align: right;\">\n",
       "      <th></th>\n",
       "      <th>range</th>\n",
       "    </tr>\n",
       "  </thead>\n",
       "  <tbody>\n",
       "    <tr>\n",
       "      <th>2016-07-01</th>\n",
       "      <td>0</td>\n",
       "    </tr>\n",
       "    <tr>\n",
       "      <th>2016-07-02</th>\n",
       "      <td>1</td>\n",
       "    </tr>\n",
       "    <tr>\n",
       "      <th>2016-07-03</th>\n",
       "      <td>2</td>\n",
       "    </tr>\n",
       "    <tr>\n",
       "      <th>2016-07-04</th>\n",
       "      <td>3</td>\n",
       "    </tr>\n",
       "    <tr>\n",
       "      <th>2016-07-05</th>\n",
       "      <td>4</td>\n",
       "    </tr>\n",
       "  </tbody>\n",
       "</table>\n",
       "</div>"
      ],
      "text/plain": [
       "            range\n",
       "2016-07-01      0\n",
       "2016-07-02      1\n",
       "2016-07-03      2\n",
       "2016-07-04      3\n",
       "2016-07-05      4"
      ]
     },
     "execution_count": 120,
     "metadata": {},
     "output_type": "execute_result"
    }
   ],
   "source": [
    "import numpy as np\n",
    "\n",
    "series = np.arange(5)\n",
    "series = list(series)\n",
    "series\n",
    "\n",
    "date1 = ['2016-07-01','2016-07-02','2016-07-03',\n",
    "        '2016-07-04','2016-07-05']\n",
    "date2 = ['2016-07-01','2016-07-02','2016-07-05',\n",
    "        '2016-07-06','2016-07-07']\n",
    "\n",
    "# define ts1\n",
    "\n",
    "ts1 = pd.DataFrame({'range':series},index=date1)\n",
    "ts1"
   ]
  },
  {
   "cell_type": "code",
   "execution_count": 121,
   "metadata": {},
   "outputs": [
    {
     "data": {
      "text/html": [
       "<div>\n",
       "<style scoped>\n",
       "    .dataframe tbody tr th:only-of-type {\n",
       "        vertical-align: middle;\n",
       "    }\n",
       "\n",
       "    .dataframe tbody tr th {\n",
       "        vertical-align: top;\n",
       "    }\n",
       "\n",
       "    .dataframe thead th {\n",
       "        text-align: right;\n",
       "    }\n",
       "</style>\n",
       "<table border=\"1\" class=\"dataframe\">\n",
       "  <thead>\n",
       "    <tr style=\"text-align: right;\">\n",
       "      <th></th>\n",
       "      <th>range</th>\n",
       "    </tr>\n",
       "  </thead>\n",
       "  <tbody>\n",
       "    <tr>\n",
       "      <th>2016-07-01</th>\n",
       "      <td>0</td>\n",
       "    </tr>\n",
       "    <tr>\n",
       "      <th>2016-07-02</th>\n",
       "      <td>1</td>\n",
       "    </tr>\n",
       "    <tr>\n",
       "      <th>2016-07-05</th>\n",
       "      <td>2</td>\n",
       "    </tr>\n",
       "    <tr>\n",
       "      <th>2016-07-06</th>\n",
       "      <td>3</td>\n",
       "    </tr>\n",
       "    <tr>\n",
       "      <th>2016-07-07</th>\n",
       "      <td>4</td>\n",
       "    </tr>\n",
       "  </tbody>\n",
       "</table>\n",
       "</div>"
      ],
      "text/plain": [
       "            range\n",
       "2016-07-01      0\n",
       "2016-07-02      1\n",
       "2016-07-05      2\n",
       "2016-07-06      3\n",
       "2016-07-07      4"
      ]
     },
     "execution_count": 121,
     "metadata": {},
     "output_type": "execute_result"
    }
   ],
   "source": [
    "# define ts2\n",
    "\n",
    "ts2 = pd.DataFrame({'range':series},index=date2)\n",
    "ts2"
   ]
  },
  {
   "cell_type": "code",
   "execution_count": 122,
   "metadata": {},
   "outputs": [
    {
     "data": {
      "text/html": [
       "<div>\n",
       "<style scoped>\n",
       "    .dataframe tbody tr th:only-of-type {\n",
       "        vertical-align: middle;\n",
       "    }\n",
       "\n",
       "    .dataframe tbody tr th {\n",
       "        vertical-align: top;\n",
       "    }\n",
       "\n",
       "    .dataframe thead th {\n",
       "        text-align: right;\n",
       "    }\n",
       "</style>\n",
       "<table border=\"1\" class=\"dataframe\">\n",
       "  <thead>\n",
       "    <tr style=\"text-align: right;\">\n",
       "      <th></th>\n",
       "      <th>range</th>\n",
       "    </tr>\n",
       "  </thead>\n",
       "  <tbody>\n",
       "    <tr>\n",
       "      <th>2016-07-01</th>\n",
       "      <td>0.0</td>\n",
       "    </tr>\n",
       "    <tr>\n",
       "      <th>2016-07-02</th>\n",
       "      <td>1.0</td>\n",
       "    </tr>\n",
       "    <tr>\n",
       "      <th>2016-07-03</th>\n",
       "      <td>NaN</td>\n",
       "    </tr>\n",
       "    <tr>\n",
       "      <th>2016-07-04</th>\n",
       "      <td>NaN</td>\n",
       "    </tr>\n",
       "    <tr>\n",
       "      <th>2016-07-05</th>\n",
       "      <td>2.0</td>\n",
       "    </tr>\n",
       "  </tbody>\n",
       "</table>\n",
       "</div>"
      ],
      "text/plain": [
       "            range\n",
       "2016-07-01    0.0\n",
       "2016-07-02    1.0\n",
       "2016-07-03    NaN\n",
       "2016-07-04    NaN\n",
       "2016-07-05    2.0"
      ]
     },
     "execution_count": 122,
     "metadata": {},
     "output_type": "execute_result"
    }
   ],
   "source": [
    "# Reindex without fill method: ts3\n",
    "ts3 = ts2.reindex(ts1.index)\n",
    "ts3\n",
    "# notice on day 3 and 4 ts2 did not have values for them, so NaN\n",
    "# so ts3 is ts4 but with index of ts1"
   ]
  },
  {
   "cell_type": "code",
   "execution_count": 123,
   "metadata": {},
   "outputs": [
    {
     "data": {
      "text/html": [
       "<div>\n",
       "<style scoped>\n",
       "    .dataframe tbody tr th:only-of-type {\n",
       "        vertical-align: middle;\n",
       "    }\n",
       "\n",
       "    .dataframe tbody tr th {\n",
       "        vertical-align: top;\n",
       "    }\n",
       "\n",
       "    .dataframe thead th {\n",
       "        text-align: right;\n",
       "    }\n",
       "</style>\n",
       "<table border=\"1\" class=\"dataframe\">\n",
       "  <thead>\n",
       "    <tr style=\"text-align: right;\">\n",
       "      <th></th>\n",
       "      <th>range</th>\n",
       "    </tr>\n",
       "  </thead>\n",
       "  <tbody>\n",
       "    <tr>\n",
       "      <th>2016-07-01</th>\n",
       "      <td>0</td>\n",
       "    </tr>\n",
       "    <tr>\n",
       "      <th>2016-07-02</th>\n",
       "      <td>1</td>\n",
       "    </tr>\n",
       "    <tr>\n",
       "      <th>2016-07-03</th>\n",
       "      <td>1</td>\n",
       "    </tr>\n",
       "    <tr>\n",
       "      <th>2016-07-04</th>\n",
       "      <td>1</td>\n",
       "    </tr>\n",
       "    <tr>\n",
       "      <th>2016-07-05</th>\n",
       "      <td>2</td>\n",
       "    </tr>\n",
       "  </tbody>\n",
       "</table>\n",
       "</div>"
      ],
      "text/plain": [
       "            range\n",
       "2016-07-01      0\n",
       "2016-07-02      1\n",
       "2016-07-03      1\n",
       "2016-07-04      1\n",
       "2016-07-05      2"
      ]
     },
     "execution_count": 123,
     "metadata": {},
     "output_type": "execute_result"
    }
   ],
   "source": [
    "ts4 = ts2.reindex(ts1.index,method='ffill')\n",
    "ts4\n",
    "# method=ffill, propagate last observation"
   ]
  },
  {
   "cell_type": "code",
   "execution_count": 130,
   "metadata": {},
   "outputs": [
    {
     "data": {
      "text/html": [
       "<div>\n",
       "<style scoped>\n",
       "    .dataframe tbody tr th:only-of-type {\n",
       "        vertical-align: middle;\n",
       "    }\n",
       "\n",
       "    .dataframe tbody tr th {\n",
       "        vertical-align: top;\n",
       "    }\n",
       "\n",
       "    .dataframe thead th {\n",
       "        text-align: right;\n",
       "    }\n",
       "</style>\n",
       "<table border=\"1\" class=\"dataframe\">\n",
       "  <thead>\n",
       "    <tr style=\"text-align: right;\">\n",
       "      <th></th>\n",
       "      <th>range</th>\n",
       "    </tr>\n",
       "  </thead>\n",
       "  <tbody>\n",
       "    <tr>\n",
       "      <th>2016-07-01</th>\n",
       "      <td>0.0</td>\n",
       "    </tr>\n",
       "    <tr>\n",
       "      <th>2016-07-02</th>\n",
       "      <td>2.0</td>\n",
       "    </tr>\n",
       "    <tr>\n",
       "      <th>2016-07-03</th>\n",
       "      <td>NaN</td>\n",
       "    </tr>\n",
       "    <tr>\n",
       "      <th>2016-07-04</th>\n",
       "      <td>NaN</td>\n",
       "    </tr>\n",
       "    <tr>\n",
       "      <th>2016-07-05</th>\n",
       "      <td>6.0</td>\n",
       "    </tr>\n",
       "    <tr>\n",
       "      <th>2016-07-06</th>\n",
       "      <td>NaN</td>\n",
       "    </tr>\n",
       "    <tr>\n",
       "      <th>2016-07-07</th>\n",
       "      <td>NaN</td>\n",
       "    </tr>\n",
       "  </tbody>\n",
       "</table>\n",
       "</div>"
      ],
      "text/plain": [
       "            range\n",
       "2016-07-01    0.0\n",
       "2016-07-02    2.0\n",
       "2016-07-03    NaN\n",
       "2016-07-04    NaN\n",
       "2016-07-05    6.0\n",
       "2016-07-06    NaN\n",
       "2016-07-07    NaN"
      ]
     },
     "execution_count": 130,
     "metadata": {},
     "output_type": "execute_result"
    }
   ],
   "source": [
    "sum12 = ts1+ts2\n",
    "sum12\n",
    "# NaN + anyrhing = NaN"
   ]
  },
  {
   "cell_type": "code",
   "execution_count": 23,
   "metadata": {},
   "outputs": [
    {
     "data": {
      "text/html": [
       "<div>\n",
       "<style scoped>\n",
       "    .dataframe tbody tr th:only-of-type {\n",
       "        vertical-align: middle;\n",
       "    }\n",
       "\n",
       "    .dataframe tbody tr th {\n",
       "        vertical-align: top;\n",
       "    }\n",
       "\n",
       "    .dataframe thead th {\n",
       "        text-align: right;\n",
       "    }\n",
       "</style>\n",
       "<table border=\"1\" class=\"dataframe\">\n",
       "  <thead>\n",
       "    <tr style=\"text-align: right;\">\n",
       "      <th></th>\n",
       "      <th>range</th>\n",
       "    </tr>\n",
       "  </thead>\n",
       "  <tbody>\n",
       "    <tr>\n",
       "      <th>2016-07-01</th>\n",
       "      <td>0.0</td>\n",
       "    </tr>\n",
       "    <tr>\n",
       "      <th>2016-07-02</th>\n",
       "      <td>2.0</td>\n",
       "    </tr>\n",
       "    <tr>\n",
       "      <th>2016-07-03</th>\n",
       "      <td>NaN</td>\n",
       "    </tr>\n",
       "    <tr>\n",
       "      <th>2016-07-04</th>\n",
       "      <td>NaN</td>\n",
       "    </tr>\n",
       "    <tr>\n",
       "      <th>2016-07-05</th>\n",
       "      <td>6.0</td>\n",
       "    </tr>\n",
       "  </tbody>\n",
       "</table>\n",
       "</div>"
      ],
      "text/plain": [
       "            range\n",
       "2016-07-01    0.0\n",
       "2016-07-02    2.0\n",
       "2016-07-03    NaN\n",
       "2016-07-04    NaN\n",
       "2016-07-05    6.0"
      ]
     },
     "execution_count": 23,
     "metadata": {},
     "output_type": "execute_result"
    }
   ],
   "source": [
    "sum13 = ts1+ts3\n",
    "sum13"
   ]
  },
  {
   "cell_type": "markdown",
   "metadata": {},
   "source": [
    "### Interplotate missing data\n",
    "You can use more efficient ways to fill the data after re-indexing. One of the most famous ways is **interpolations**\n",
    "\n",
    "* **`.interpolate`**"
   ]
  },
  {
   "cell_type": "code",
   "execution_count": 124,
   "metadata": {},
   "outputs": [],
   "source": [
    "date1 = ['2016-07-01','2016-07-02','2016-07-03',\n",
    "        '2016-07-04','2016-07-05']\n",
    "date2 = ['2016-07-01','2016-07-02','2016-07-05',\n",
    "        '2016-07-06','2016-07-07']\n",
    "\n",
    "ts1 = pd.DataFrame({'range':series},index=date1)\n",
    "ts2 = pd.DataFrame({'range':series},index=date2)"
   ]
  },
  {
   "cell_type": "code",
   "execution_count": 128,
   "metadata": {},
   "outputs": [
    {
     "data": {
      "text/html": [
       "<div>\n",
       "<style scoped>\n",
       "    .dataframe tbody tr th:only-of-type {\n",
       "        vertical-align: middle;\n",
       "    }\n",
       "\n",
       "    .dataframe tbody tr th {\n",
       "        vertical-align: top;\n",
       "    }\n",
       "\n",
       "    .dataframe thead th {\n",
       "        text-align: right;\n",
       "    }\n",
       "</style>\n",
       "<table border=\"1\" class=\"dataframe\">\n",
       "  <thead>\n",
       "    <tr style=\"text-align: right;\">\n",
       "      <th></th>\n",
       "      <th>range</th>\n",
       "    </tr>\n",
       "  </thead>\n",
       "  <tbody>\n",
       "    <tr>\n",
       "      <th>2016-07-01</th>\n",
       "      <td>0.000000</td>\n",
       "    </tr>\n",
       "    <tr>\n",
       "      <th>2016-07-02</th>\n",
       "      <td>1.000000</td>\n",
       "    </tr>\n",
       "    <tr>\n",
       "      <th>2016-07-03</th>\n",
       "      <td>1.333333</td>\n",
       "    </tr>\n",
       "    <tr>\n",
       "      <th>2016-07-04</th>\n",
       "      <td>1.666667</td>\n",
       "    </tr>\n",
       "    <tr>\n",
       "      <th>2016-07-05</th>\n",
       "      <td>2.000000</td>\n",
       "    </tr>\n",
       "  </tbody>\n",
       "</table>\n",
       "</div>"
      ],
      "text/plain": [
       "               range\n",
       "2016-07-01  0.000000\n",
       "2016-07-02  1.000000\n",
       "2016-07-03  1.333333\n",
       "2016-07-04  1.666667\n",
       "2016-07-05  2.000000"
      ]
     },
     "execution_count": 128,
     "metadata": {},
     "output_type": "execute_result"
    }
   ],
   "source": [
    "# Reset the index of ts2 to ts1, and then use linear interpolation to fill in the NaNs: ts2_interp\n",
    "ts2_interp = ts2.reindex(ts1.index).interpolate(how='linear')\n",
    "ts2_interp"
   ]
  },
  {
   "cell_type": "markdown",
   "metadata": {},
   "source": [
    "---------------\n",
    "**Side Note** You can create date deries using `pd.date_range('1/1/2019', periods=9,freq='H')` this will create 9 entries from 1/1/2019 1-hour separated each\n",
    "\n",
    "---------------"
   ]
  },
  {
   "cell_type": "markdown",
   "metadata": {},
   "source": [
    "### Resampling time series\n",
    "* **`.resample(freq)`**\n",
    "\n",
    "| **Input** | **Description** |\n",
    "|-----------|-----------------|\n",
    "| 'S'       | seconds         |\n",
    "| 'min','T' | minute          |\n",
    "| 'H'       | hour            |\n",
    "| 'D'       | day             |\n",
    "| 'B'       | business day    |\n",
    "| 'W'       | week            |\n",
    "| 'M'       | month           |\n",
    "| 'Q'       | quarter         |\n",
    "| 'A'       | year            |"
   ]
  },
  {
   "cell_type": "code",
   "execution_count": 196,
   "metadata": {},
   "outputs": [
    {
     "data": {
      "text/html": [
       "<div>\n",
       "<style scoped>\n",
       "    .dataframe tbody tr th:only-of-type {\n",
       "        vertical-align: middle;\n",
       "    }\n",
       "\n",
       "    .dataframe tbody tr th {\n",
       "        vertical-align: top;\n",
       "    }\n",
       "\n",
       "    .dataframe thead th {\n",
       "        text-align: right;\n",
       "    }\n",
       "</style>\n",
       "<table border=\"1\" class=\"dataframe\">\n",
       "  <thead>\n",
       "    <tr style=\"text-align: right;\">\n",
       "      <th></th>\n",
       "      <th>Temperature</th>\n",
       "    </tr>\n",
       "  </thead>\n",
       "  <tbody>\n",
       "    <tr>\n",
       "      <th>2019-03-25 03:00:00</th>\n",
       "      <td>27</td>\n",
       "    </tr>\n",
       "    <tr>\n",
       "      <th>2019-03-25 04:00:00</th>\n",
       "      <td>93</td>\n",
       "    </tr>\n",
       "    <tr>\n",
       "      <th>2019-03-25 05:00:00</th>\n",
       "      <td>79</td>\n",
       "    </tr>\n",
       "    <tr>\n",
       "      <th>2019-03-25 06:00:00</th>\n",
       "      <td>43</td>\n",
       "    </tr>\n",
       "    <tr>\n",
       "      <th>2019-03-25 07:00:00</th>\n",
       "      <td>18</td>\n",
       "    </tr>\n",
       "  </tbody>\n",
       "</table>\n",
       "</div>"
      ],
      "text/plain": [
       "                     Temperature\n",
       "2019-03-25 03:00:00           27\n",
       "2019-03-25 04:00:00           93\n",
       "2019-03-25 05:00:00           79\n",
       "2019-03-25 06:00:00           43\n",
       "2019-03-25 07:00:00           18"
      ]
     },
     "execution_count": 196,
     "metadata": {},
     "output_type": "execute_result"
    }
   ],
   "source": [
    "date = pd.date_range('1/1/2019', periods=2000,freq='H')\n",
    "temperature = np.random.randint(0,100,size=(2000*1))\n",
    "df = pd.DataFrame({'Temperature':temperature},index=date)\n",
    "df.tail()"
   ]
  },
  {
   "cell_type": "markdown",
   "metadata": {},
   "source": [
    "Find the mean of temperature every 6 hours?"
   ]
  },
  {
   "cell_type": "code",
   "execution_count": 187,
   "metadata": {},
   "outputs": [
    {
     "data": {
      "text/plain": [
       "2019-01-01 00:00:00    27.000000\n",
       "2019-01-01 06:00:00    35.666667\n",
       "2019-01-01 12:00:00    37.500000\n",
       "2019-01-01 18:00:00    77.166667\n",
       "2019-01-02 00:00:00    38.666667\n",
       "Freq: 6H, Name: Temperature, dtype: float64"
      ]
     },
     "execution_count": 187,
     "metadata": {},
     "output_type": "execute_result"
    }
   ],
   "source": [
    "df1 = df.Temperature.resample('6h').mean()\n",
    "df1.head()"
   ]
  },
  {
   "cell_type": "markdown",
   "metadata": {},
   "source": [
    "You can keep using what's called *Method Chaining* to get the mean of the 6-hour means calculated above"
   ]
  },
  {
   "cell_type": "code",
   "execution_count": 188,
   "metadata": {},
   "outputs": [
    {
     "data": {
      "text/plain": [
       "47.868263473053894"
      ]
     },
     "execution_count": 188,
     "metadata": {},
     "output_type": "execute_result"
    }
   ],
   "source": [
    "mean_of_6h_mean = df.Temperature.resample('6h').mean().mean()\n",
    "mean_of_6h_mean"
   ]
  },
  {
   "cell_type": "markdown",
   "metadata": {},
   "source": [
    "The total temperature every day?"
   ]
  },
  {
   "cell_type": "code",
   "execution_count": 189,
   "metadata": {},
   "outputs": [
    {
     "data": {
      "text/plain": [
       "2019-01-01    24\n",
       "2019-01-02    24\n",
       "2019-01-03    24\n",
       "2019-01-04    24\n",
       "2019-01-05    24\n",
       "Freq: D, Name: Temperature, dtype: int64"
      ]
     },
     "execution_count": 189,
     "metadata": {},
     "output_type": "execute_result"
    }
   ],
   "source": [
    "df2 = df.Temperature.resample('D').count()\n",
    "df2.head()"
   ]
  },
  {
   "cell_type": "markdown",
   "metadata": {},
   "source": [
    "**Upsampling**\n",
    "\n",
    "upsampling the data every minute"
   ]
  },
  {
   "cell_type": "code",
   "execution_count": 190,
   "metadata": {},
   "outputs": [
    {
     "data": {
      "text/plain": [
       "2019-01-01 00:00:00    43.0\n",
       "2019-01-01 00:01:00     NaN\n",
       "2019-01-01 00:02:00     NaN\n",
       "2019-01-01 00:03:00     NaN\n",
       "2019-01-01 00:04:00     NaN\n",
       "Freq: T, Name: Temperature, dtype: float64"
      ]
     },
     "execution_count": 190,
     "metadata": {},
     "output_type": "execute_result"
    }
   ],
   "source": [
    "df3 = df.Temperature.resample('T').mean()\n",
    "df3.head()"
   ]
  },
  {
   "cell_type": "markdown",
   "metadata": {},
   "source": [
    "Notice that the missing values are interpreted as `NaN`. You can use *interpolation* schemes to fill the data."
   ]
  },
  {
   "cell_type": "code",
   "execution_count": 191,
   "metadata": {},
   "outputs": [
    {
     "data": {
      "text/plain": [
       "2019-01-01 00:00:00    43.000000\n",
       "2019-01-01 00:01:00    42.483333\n",
       "2019-01-01 00:02:00    41.966667\n",
       "2019-01-01 00:03:00    41.450000\n",
       "2019-01-01 00:04:00    40.933333\n",
       "Freq: T, Name: Temperature, dtype: float64"
      ]
     },
     "execution_count": 191,
     "metadata": {},
     "output_type": "execute_result"
    }
   ],
   "source": [
    "df3 = df.Temperature.resample('T').mean().interpolate('linear')\n",
    "df3.head()"
   ]
  },
  {
   "cell_type": "markdown",
   "metadata": {},
   "source": [
    "### Rolling mean and frequency\n",
    "\n",
    "This time you will resample using **moving average (or rolling mean)**, [Wikipedia](https://en.wikipedia.org/wiki/Moving_average)\n",
    "\n",
    "* **`.rolling()`**"
   ]
  },
  {
   "cell_type": "code",
   "execution_count": 192,
   "metadata": {},
   "outputs": [
    {
     "data": {
      "image/png": "[encoded data removed]",
      "text/plain": [
       "<Figure size 432x288 with 1 Axes>"
      ]
     },
     "metadata": {
      "needs_background": "light"
     },
     "output_type": "display_data"
    }
   ],
   "source": [
    "# Extract data from 2010-Jan-01 to 2010-Jan-15: unsmoothed\n",
    "unsmoothed = df['Temperature']['2019-01-01':'2019-01-15']\n",
    "\n",
    "# Apply a rolling mean with a 24 hour window: smoothed\n",
    "smoothed = unsmoothed.rolling(window=24).mean()\n",
    "\n",
    "# Create a new DataFrame with columns smoothed and unsmoothed: august\n",
    "jan = pd.DataFrame({'smoothed':smoothed, 'unsmoothed':unsmoothed})\n",
    "\n",
    "# Plot both smoothed and unsmoothed data using august.plot().\n",
    "jan.plot()\n",
    "plt.show()"
   ]
  },
  {
   "cell_type": "markdown",
   "metadata": {},
   "source": [
    "**Example2:** Use Moving Average method using a 7-day window to smooth out the maximum daily temperature."
   ]
  },
  {
   "cell_type": "code",
   "execution_count": 4,
   "metadata": {},
   "outputs": [
    {
     "data": {
      "text/html": [
       "<div>\n",
       "<style scoped>\n",
       "    .dataframe tbody tr th:only-of-type {\n",
       "        vertical-align: middle;\n",
       "    }\n",
       "\n",
       "    .dataframe tbody tr th {\n",
       "        vertical-align: top;\n",
       "    }\n",
       "\n",
       "    .dataframe thead th {\n",
       "        text-align: right;\n",
       "    }\n",
       "</style>\n",
       "<table border=\"1\" class=\"dataframe\">\n",
       "  <thead>\n",
       "    <tr style=\"text-align: right;\">\n",
       "      <th></th>\n",
       "      <th>Temperature</th>\n",
       "    </tr>\n",
       "  </thead>\n",
       "  <tbody>\n",
       "    <tr>\n",
       "      <th>2019-03-25 03:00:00</th>\n",
       "      <td>27</td>\n",
       "    </tr>\n",
       "    <tr>\n",
       "      <th>2019-03-25 04:00:00</th>\n",
       "      <td>2</td>\n",
       "    </tr>\n",
       "    <tr>\n",
       "      <th>2019-03-25 05:00:00</th>\n",
       "      <td>90</td>\n",
       "    </tr>\n",
       "    <tr>\n",
       "      <th>2019-03-25 06:00:00</th>\n",
       "      <td>65</td>\n",
       "    </tr>\n",
       "    <tr>\n",
       "      <th>2019-03-25 07:00:00</th>\n",
       "      <td>85</td>\n",
       "    </tr>\n",
       "  </tbody>\n",
       "</table>\n",
       "</div>"
      ],
      "text/plain": [
       "                     Temperature\n",
       "2019-03-25 03:00:00           27\n",
       "2019-03-25 04:00:00            2\n",
       "2019-03-25 05:00:00           90\n",
       "2019-03-25 06:00:00           65\n",
       "2019-03-25 07:00:00           85"
      ]
     },
     "execution_count": 4,
     "metadata": {},
     "output_type": "execute_result"
    }
   ],
   "source": [
    "date = pd.date_range('1/1/2019', periods=2000,freq='H')\n",
    "temperature = np.random.randint(0,100,size=(2000*1))\n",
    "df = pd.DataFrame({'Temperature':temperature},index=date)\n",
    "df.tail()"
   ]
  },
  {
   "cell_type": "code",
   "execution_count": 6,
   "metadata": {},
   "outputs": [
    {
     "data": {
      "text/plain": [
       "DatetimeIndex(['2019-01-01 00:00:00', '2019-01-01 01:00:00',\n",
       "               '2019-01-01 02:00:00', '2019-01-01 03:00:00',\n",
       "               '2019-01-01 04:00:00', '2019-01-01 05:00:00',\n",
       "               '2019-01-01 06:00:00', '2019-01-01 07:00:00',\n",
       "               '2019-01-01 08:00:00', '2019-01-01 09:00:00',\n",
       "               ...\n",
       "               '2019-03-24 22:00:00', '2019-03-24 23:00:00',\n",
       "               '2019-03-25 00:00:00', '2019-03-25 01:00:00',\n",
       "               '2019-03-25 02:00:00', '2019-03-25 03:00:00',\n",
       "               '2019-03-25 04:00:00', '2019-03-25 05:00:00',\n",
       "               '2019-03-25 06:00:00', '2019-03-25 07:00:00'],\n",
       "              dtype='datetime64[ns]', length=2000, freq='H')"
      ]
     },
     "execution_count": 6,
     "metadata": {},
     "output_type": "execute_result"
    }
   ],
   "source": [
    "df.index\n",
    "\n",
    "#notice the type"
   ]
  },
  {
   "cell_type": "code",
   "execution_count": 208,
   "metadata": {},
   "outputs": [
    {
     "data": {
      "text/plain": [
       "2019-01-11    96.285714\n",
       "2019-01-12    96.428571\n",
       "2019-01-13    95.428571\n",
       "2019-01-14    95.428571\n",
       "2019-01-15    95.857143\n",
       "Freq: D, Name: Temperature, dtype: float64"
      ]
     },
     "execution_count": 208,
     "metadata": {},
     "output_type": "execute_result"
    }
   ],
   "source": [
    "# Extract the August 2010 data: august\n",
    "jan = df['Temperature']['2019-January']\n",
    "\n",
    "# Resample to daily data, aggregating by max: daily_highs\n",
    "daily_highs = jan.resample('D').max()\n",
    "\n",
    "# Use a rolling 7-day window with method chaining to smooth the daily high temperatures in August\n",
    "daily_highs_smoothed = daily_highs.rolling(window=7).mean()\n",
    "daily_highs_smoothed[10:15]"
   ]
  },
  {
   "cell_type": "markdown",
   "metadata": {},
   "source": [
    "-------------\n",
    "## Time Series Data Maniplutation in Pandas\n",
    "\n",
    "**String Manipulation:**\n",
    "\n",
    "* **`.str`** (have a look at **`data-cleaning`** Notebook)\n",
    "\n",
    "**Time Series Manipulation:**\n",
    "\n",
    "* **`.dt`** (with time series columns, not indexes)\n",
    "    * **`dt.day`** extract the day from the date column (or any other time variable)\n",
    "    * **`dt.tz_localize`** to localize the time to a region\n",
    "    * **`dt.tz_convert`** convert it to another region"
   ]
  },
  {
   "cell_type": "markdown",
   "metadata": {},
   "source": [
    "**Example:** Upload the airport departure dataset correclty, and compute the total number of departures in dallas daily. Also, compute a summary statistics of the daily max"
   ]
  },
  {
   "cell_type": "code",
   "execution_count": 26,
   "metadata": {},
   "outputs": [
    {
     "data": {
      "text/html": [
       "<div>\n",
       "<style scoped>\n",
       "    .dataframe tbody tr th:only-of-type {\n",
       "        vertical-align: middle;\n",
       "    }\n",
       "\n",
       "    .dataframe tbody tr th {\n",
       "        vertical-align: top;\n",
       "    }\n",
       "\n",
       "    .dataframe thead th {\n",
       "        text-align: right;\n",
       "    }\n",
       "</style>\n",
       "<table border=\"1\" class=\"dataframe\">\n",
       "  <thead>\n",
       "    <tr style=\"text-align: right;\">\n",
       "      <th></th>\n",
       "      <th>Carrier Code</th>\n",
       "      <th>Flight Number</th>\n",
       "      <th>Tail Number</th>\n",
       "      <th>Destination Airport</th>\n",
       "      <th>Scheduled Departure Time</th>\n",
       "      <th>Actual Departure Time</th>\n",
       "      <th>Scheduled Elapsed Time(Minutes)</th>\n",
       "      <th>Actual Elapsed Time(Minutes)</th>\n",
       "      <th>Departure Delay(Minutes)</th>\n",
       "      <th>Wheels-off Time</th>\n",
       "      <th>Taxi-out Time(Minutes)</th>\n",
       "      <th>DelayCarrier(Minutes)</th>\n",
       "      <th>DelayWeather(Minutes)</th>\n",
       "      <th>DelayNational Aviation System(Minutes)</th>\n",
       "      <th>DelaySecurity(Minutes)</th>\n",
       "      <th>DelayLate Aircraft Arrival(Minutes)</th>\n",
       "      <th>Unnamed: 17</th>\n",
       "    </tr>\n",
       "    <tr>\n",
       "      <th>Date (MM/DD/YYYY)</th>\n",
       "      <th></th>\n",
       "      <th></th>\n",
       "      <th></th>\n",
       "      <th></th>\n",
       "      <th></th>\n",
       "      <th></th>\n",
       "      <th></th>\n",
       "      <th></th>\n",
       "      <th></th>\n",
       "      <th></th>\n",
       "      <th></th>\n",
       "      <th></th>\n",
       "      <th></th>\n",
       "      <th></th>\n",
       "      <th></th>\n",
       "      <th></th>\n",
       "      <th></th>\n",
       "    </tr>\n",
       "  </thead>\n",
       "  <tbody>\n",
       "    <tr>\n",
       "      <th>2015-07-01</th>\n",
       "      <td>WN</td>\n",
       "      <td>103.0</td>\n",
       "      <td>N8607M</td>\n",
       "      <td>MDW</td>\n",
       "      <td>06:30</td>\n",
       "      <td>06:52</td>\n",
       "      <td>165.0</td>\n",
       "      <td>147.0</td>\n",
       "      <td>22.0</td>\n",
       "      <td>07:01</td>\n",
       "      <td>9.0</td>\n",
       "      <td>0.0</td>\n",
       "      <td>0.0</td>\n",
       "      <td>0.0</td>\n",
       "      <td>0.0</td>\n",
       "      <td>0.0</td>\n",
       "      <td>NaN</td>\n",
       "    </tr>\n",
       "    <tr>\n",
       "      <th>2015-07-01</th>\n",
       "      <td>WN</td>\n",
       "      <td>144.0</td>\n",
       "      <td>N8609A</td>\n",
       "      <td>SAN</td>\n",
       "      <td>20:55</td>\n",
       "      <td>20:50</td>\n",
       "      <td>170.0</td>\n",
       "      <td>158.0</td>\n",
       "      <td>-5.0</td>\n",
       "      <td>21:03</td>\n",
       "      <td>13.0</td>\n",
       "      <td>0.0</td>\n",
       "      <td>0.0</td>\n",
       "      <td>0.0</td>\n",
       "      <td>0.0</td>\n",
       "      <td>0.0</td>\n",
       "      <td>NaN</td>\n",
       "    </tr>\n",
       "    <tr>\n",
       "      <th>2015-07-01</th>\n",
       "      <td>WN</td>\n",
       "      <td>178.0</td>\n",
       "      <td>N646SW</td>\n",
       "      <td>ELP</td>\n",
       "      <td>20:30</td>\n",
       "      <td>20:45</td>\n",
       "      <td>90.0</td>\n",
       "      <td>80.0</td>\n",
       "      <td>15.0</td>\n",
       "      <td>20:55</td>\n",
       "      <td>10.0</td>\n",
       "      <td>0.0</td>\n",
       "      <td>0.0</td>\n",
       "      <td>0.0</td>\n",
       "      <td>0.0</td>\n",
       "      <td>0.0</td>\n",
       "      <td>NaN</td>\n",
       "    </tr>\n",
       "    <tr>\n",
       "      <th>2015-07-01</th>\n",
       "      <td>WN</td>\n",
       "      <td>232.0</td>\n",
       "      <td>N204WN</td>\n",
       "      <td>ATL</td>\n",
       "      <td>05:45</td>\n",
       "      <td>05:49</td>\n",
       "      <td>135.0</td>\n",
       "      <td>137.0</td>\n",
       "      <td>4.0</td>\n",
       "      <td>06:01</td>\n",
       "      <td>12.0</td>\n",
       "      <td>0.0</td>\n",
       "      <td>0.0</td>\n",
       "      <td>0.0</td>\n",
       "      <td>0.0</td>\n",
       "      <td>0.0</td>\n",
       "      <td>NaN</td>\n",
       "    </tr>\n",
       "    <tr>\n",
       "      <th>2015-07-01</th>\n",
       "      <td>WN</td>\n",
       "      <td>238.0</td>\n",
       "      <td>N233LV</td>\n",
       "      <td>DAL</td>\n",
       "      <td>12:30</td>\n",
       "      <td>12:34</td>\n",
       "      <td>55.0</td>\n",
       "      <td>48.0</td>\n",
       "      <td>4.0</td>\n",
       "      <td>12:41</td>\n",
       "      <td>7.0</td>\n",
       "      <td>0.0</td>\n",
       "      <td>0.0</td>\n",
       "      <td>0.0</td>\n",
       "      <td>0.0</td>\n",
       "      <td>0.0</td>\n",
       "      <td>NaN</td>\n",
       "    </tr>\n",
       "  </tbody>\n",
       "</table>\n",
       "</div>"
      ],
      "text/plain": [
       "                    Carrier Code  Flight Number Tail Number  \\\n",
       "Date (MM/DD/YYYY)                                             \n",
       "2015-07-01                    WN          103.0      N8607M   \n",
       "2015-07-01                    WN          144.0      N8609A   \n",
       "2015-07-01                    WN          178.0      N646SW   \n",
       "2015-07-01                    WN          232.0      N204WN   \n",
       "2015-07-01                    WN          238.0      N233LV   \n",
       "\n",
       "                  Destination Airport  Scheduled Departure Time  \\\n",
       "Date (MM/DD/YYYY)                                                 \n",
       "2015-07-01                         MDW                    06:30   \n",
       "2015-07-01                         SAN                    20:55   \n",
       "2015-07-01                         ELP                    20:30   \n",
       "2015-07-01                         ATL                    05:45   \n",
       "2015-07-01                         DAL                    12:30   \n",
       "\n",
       "                  Actual Departure Time  Scheduled Elapsed Time(Minutes)  \\\n",
       "Date (MM/DD/YYYY)                                                          \n",
       "2015-07-01                        06:52                            165.0   \n",
       "2015-07-01                        20:50                            170.0   \n",
       "2015-07-01                        20:45                             90.0   \n",
       "2015-07-01                        05:49                            135.0   \n",
       "2015-07-01                        12:34                             55.0   \n",
       "\n",
       "                   Actual Elapsed Time(Minutes)  Departure Delay(Minutes)  \\\n",
       "Date (MM/DD/YYYY)                                                           \n",
       "2015-07-01                                147.0                      22.0   \n",
       "2015-07-01                                158.0                      -5.0   \n",
       "2015-07-01                                 80.0                      15.0   \n",
       "2015-07-01                                137.0                       4.0   \n",
       "2015-07-01                                 48.0                       4.0   \n",
       "\n",
       "                  Wheels-off Time  Taxi-out Time(Minutes)  \\\n",
       "Date (MM/DD/YYYY)                                           \n",
       "2015-07-01                  07:01                     9.0   \n",
       "2015-07-01                  21:03                    13.0   \n",
       "2015-07-01                  20:55                    10.0   \n",
       "2015-07-01                  06:01                    12.0   \n",
       "2015-07-01                  12:41                     7.0   \n",
       "\n",
       "                   DelayCarrier(Minutes)  DelayWeather(Minutes)  \\\n",
       "Date (MM/DD/YYYY)                                                 \n",
       "2015-07-01                           0.0                    0.0   \n",
       "2015-07-01                           0.0                    0.0   \n",
       "2015-07-01                           0.0                    0.0   \n",
       "2015-07-01                           0.0                    0.0   \n",
       "2015-07-01                           0.0                    0.0   \n",
       "\n",
       "                   DelayNational Aviation System(Minutes)  \\\n",
       "Date (MM/DD/YYYY)                                           \n",
       "2015-07-01                                            0.0   \n",
       "2015-07-01                                            0.0   \n",
       "2015-07-01                                            0.0   \n",
       "2015-07-01                                            0.0   \n",
       "2015-07-01                                            0.0   \n",
       "\n",
       "                   DelaySecurity(Minutes)  \\\n",
       "Date (MM/DD/YYYY)                           \n",
       "2015-07-01                            0.0   \n",
       "2015-07-01                            0.0   \n",
       "2015-07-01                            0.0   \n",
       "2015-07-01                            0.0   \n",
       "2015-07-01                            0.0   \n",
       "\n",
       "                   DelayLate Aircraft Arrival(Minutes)  Unnamed: 17  \n",
       "Date (MM/DD/YYYY)                                                    \n",
       "2015-07-01                                         0.0          NaN  \n",
       "2015-07-01                                         0.0          NaN  \n",
       "2015-07-01                                         0.0          NaN  \n",
       "2015-07-01                                         0.0          NaN  \n",
       "2015-07-01                                         0.0          NaN  "
      ]
     },
     "execution_count": 26,
     "metadata": {},
     "output_type": "execute_result"
    }
   ],
   "source": [
    "airport = pd.read_csv('datasets/austin_airport_departure_data_2015_july.csv',\n",
    "                 header=10, index_col='Date (MM/DD/YYYY)',\n",
    "                 parse_dates=True)\n",
    "airport.head()"
   ]
  },
  {
   "cell_type": "code",
   "execution_count": 30,
   "metadata": {},
   "outputs": [
    {
     "data": {
      "text/plain": [
       "count    31.000000\n",
       "mean      9.322581\n",
       "std       1.989759\n",
       "min       3.000000\n",
       "25%       9.500000\n",
       "50%      10.000000\n",
       "75%      10.000000\n",
       "max      11.000000\n",
       "dtype: float64"
      ]
     },
     "execution_count": 30,
     "metadata": {},
     "output_type": "execute_result"
    }
   ],
   "source": [
    "# Extract data (Boolean) for which the destination airport is Dallas\n",
    "dallas = airport['Destination Airport '].str.contains('DAL')\n",
    "\n",
    "# Compute the total number of Dallas departures each day\n",
    "daily_departures = dallas.resample('D').sum()\n",
    "\n",
    "# Generate the summary statistics for daily Dallas departures\n",
    "stats = daily_departures.describe()\n",
    "stats"
   ]
  },
  {
   "cell_type": "markdown",
   "metadata": {},
   "source": [
    "If we work with the same dataset but the index is **not** time series index"
   ]
  },
  {
   "cell_type": "code",
   "execution_count": 18,
   "metadata": {},
   "outputs": [
    {
     "data": {
      "text/html": [
       "<div>\n",
       "<style scoped>\n",
       "    .dataframe tbody tr th:only-of-type {\n",
       "        vertical-align: middle;\n",
       "    }\n",
       "\n",
       "    .dataframe tbody tr th {\n",
       "        vertical-align: top;\n",
       "    }\n",
       "\n",
       "    .dataframe thead th {\n",
       "        text-align: right;\n",
       "    }\n",
       "</style>\n",
       "<table border=\"1\" class=\"dataframe\">\n",
       "  <thead>\n",
       "    <tr style=\"text-align: right;\">\n",
       "      <th></th>\n",
       "      <th>Carrier Code</th>\n",
       "      <th>Date (MM/DD/YYYY)</th>\n",
       "      <th>Flight Number</th>\n",
       "      <th>Tail Number</th>\n",
       "      <th>Destination Airport</th>\n",
       "      <th>Scheduled Departure Time</th>\n",
       "      <th>Actual Departure Time</th>\n",
       "      <th>Scheduled Elapsed Time(Minutes)</th>\n",
       "      <th>Actual Elapsed Time(Minutes)</th>\n",
       "      <th>Departure Delay(Minutes)</th>\n",
       "      <th>Wheels-off Time</th>\n",
       "      <th>Taxi-out Time(Minutes)</th>\n",
       "      <th>DelayCarrier(Minutes)</th>\n",
       "      <th>DelayWeather(Minutes)</th>\n",
       "      <th>DelayNational Aviation System(Minutes)</th>\n",
       "      <th>DelaySecurity(Minutes)</th>\n",
       "      <th>DelayLate Aircraft Arrival(Minutes)</th>\n",
       "      <th>Unnamed: 17</th>\n",
       "    </tr>\n",
       "  </thead>\n",
       "  <tbody>\n",
       "    <tr>\n",
       "      <th>0</th>\n",
       "      <td>WN</td>\n",
       "      <td>07/01/2015</td>\n",
       "      <td>103.0</td>\n",
       "      <td>N8607M</td>\n",
       "      <td>MDW</td>\n",
       "      <td>06:30</td>\n",
       "      <td>06:52</td>\n",
       "      <td>165.0</td>\n",
       "      <td>147.0</td>\n",
       "      <td>22.0</td>\n",
       "      <td>07:01</td>\n",
       "      <td>9.0</td>\n",
       "      <td>0.0</td>\n",
       "      <td>0.0</td>\n",
       "      <td>0.0</td>\n",
       "      <td>0.0</td>\n",
       "      <td>0.0</td>\n",
       "      <td>NaN</td>\n",
       "    </tr>\n",
       "    <tr>\n",
       "      <th>1</th>\n",
       "      <td>WN</td>\n",
       "      <td>07/01/2015</td>\n",
       "      <td>144.0</td>\n",
       "      <td>N8609A</td>\n",
       "      <td>SAN</td>\n",
       "      <td>20:55</td>\n",
       "      <td>20:50</td>\n",
       "      <td>170.0</td>\n",
       "      <td>158.0</td>\n",
       "      <td>-5.0</td>\n",
       "      <td>21:03</td>\n",
       "      <td>13.0</td>\n",
       "      <td>0.0</td>\n",
       "      <td>0.0</td>\n",
       "      <td>0.0</td>\n",
       "      <td>0.0</td>\n",
       "      <td>0.0</td>\n",
       "      <td>NaN</td>\n",
       "    </tr>\n",
       "    <tr>\n",
       "      <th>2</th>\n",
       "      <td>WN</td>\n",
       "      <td>07/01/2015</td>\n",
       "      <td>178.0</td>\n",
       "      <td>N646SW</td>\n",
       "      <td>ELP</td>\n",
       "      <td>20:30</td>\n",
       "      <td>20:45</td>\n",
       "      <td>90.0</td>\n",
       "      <td>80.0</td>\n",
       "      <td>15.0</td>\n",
       "      <td>20:55</td>\n",
       "      <td>10.0</td>\n",
       "      <td>0.0</td>\n",
       "      <td>0.0</td>\n",
       "      <td>0.0</td>\n",
       "      <td>0.0</td>\n",
       "      <td>0.0</td>\n",
       "      <td>NaN</td>\n",
       "    </tr>\n",
       "    <tr>\n",
       "      <th>3</th>\n",
       "      <td>WN</td>\n",
       "      <td>07/01/2015</td>\n",
       "      <td>232.0</td>\n",
       "      <td>N204WN</td>\n",
       "      <td>ATL</td>\n",
       "      <td>05:45</td>\n",
       "      <td>05:49</td>\n",
       "      <td>135.0</td>\n",
       "      <td>137.0</td>\n",
       "      <td>4.0</td>\n",
       "      <td>06:01</td>\n",
       "      <td>12.0</td>\n",
       "      <td>0.0</td>\n",
       "      <td>0.0</td>\n",
       "      <td>0.0</td>\n",
       "      <td>0.0</td>\n",
       "      <td>0.0</td>\n",
       "      <td>NaN</td>\n",
       "    </tr>\n",
       "    <tr>\n",
       "      <th>4</th>\n",
       "      <td>WN</td>\n",
       "      <td>07/01/2015</td>\n",
       "      <td>238.0</td>\n",
       "      <td>N233LV</td>\n",
       "      <td>DAL</td>\n",
       "      <td>12:30</td>\n",
       "      <td>12:34</td>\n",
       "      <td>55.0</td>\n",
       "      <td>48.0</td>\n",
       "      <td>4.0</td>\n",
       "      <td>12:41</td>\n",
       "      <td>7.0</td>\n",
       "      <td>0.0</td>\n",
       "      <td>0.0</td>\n",
       "      <td>0.0</td>\n",
       "      <td>0.0</td>\n",
       "      <td>0.0</td>\n",
       "      <td>NaN</td>\n",
       "    </tr>\n",
       "  </tbody>\n",
       "</table>\n",
       "</div>"
      ],
      "text/plain": [
       "    Carrier Code Date (MM/DD/YYYY)  Flight Number Tail Number  \\\n",
       "0             WN        07/01/2015          103.0      N8607M   \n",
       "1             WN        07/01/2015          144.0      N8609A   \n",
       "2             WN        07/01/2015          178.0      N646SW   \n",
       "3             WN        07/01/2015          232.0      N204WN   \n",
       "4             WN        07/01/2015          238.0      N233LV   \n",
       "\n",
       "  Destination Airport  Scheduled Departure Time Actual Departure Time  \\\n",
       "0                  MDW                    06:30                 06:52   \n",
       "1                  SAN                    20:55                 20:50   \n",
       "2                  ELP                    20:30                 20:45   \n",
       "3                  ATL                    05:45                 05:49   \n",
       "4                  DAL                    12:30                 12:34   \n",
       "\n",
       "   Scheduled Elapsed Time(Minutes)  Actual Elapsed Time(Minutes)  \\\n",
       "0                            165.0                         147.0   \n",
       "1                            170.0                         158.0   \n",
       "2                             90.0                          80.0   \n",
       "3                            135.0                         137.0   \n",
       "4                             55.0                          48.0   \n",
       "\n",
       "   Departure Delay(Minutes) Wheels-off Time  Taxi-out Time(Minutes)  \\\n",
       "0                      22.0           07:01                     9.0   \n",
       "1                      -5.0           21:03                    13.0   \n",
       "2                      15.0           20:55                    10.0   \n",
       "3                       4.0           06:01                    12.0   \n",
       "4                       4.0           12:41                     7.0   \n",
       "\n",
       "   DelayCarrier(Minutes)  DelayWeather(Minutes)  \\\n",
       "0                    0.0                    0.0   \n",
       "1                    0.0                    0.0   \n",
       "2                    0.0                    0.0   \n",
       "3                    0.0                    0.0   \n",
       "4                    0.0                    0.0   \n",
       "\n",
       "   DelayNational Aviation System(Minutes)  DelaySecurity(Minutes)  \\\n",
       "0                                     0.0                     0.0   \n",
       "1                                     0.0                     0.0   \n",
       "2                                     0.0                     0.0   \n",
       "3                                     0.0                     0.0   \n",
       "4                                     0.0                     0.0   \n",
       "\n",
       "   DelayLate Aircraft Arrival(Minutes)  Unnamed: 17  \n",
       "0                                  0.0          NaN  \n",
       "1                                  0.0          NaN  \n",
       "2                                  0.0          NaN  \n",
       "3                                  0.0          NaN  \n",
       "4                                  0.0          NaN  "
      ]
     },
     "execution_count": 18,
     "metadata": {},
     "output_type": "execute_result"
    }
   ],
   "source": [
    "airport = pd.read_csv('datasets/austin_airport_departure_data_2015_july.csv',\n",
    "                 header=10)\n",
    "airport.head()"
   ]
  },
  {
   "cell_type": "code",
   "execution_count": 19,
   "metadata": {},
   "outputs": [
    {
     "data": {
      "text/plain": [
       "0    06:52\n",
       "1    20:50\n",
       "2    20:45\n",
       "3    05:49\n",
       "4    12:34\n",
       "Name: Actual Departure Time, dtype: object"
      ]
     },
     "execution_count": 19,
     "metadata": {},
     "output_type": "execute_result"
    }
   ],
   "source": [
    "airport['Actual Departure Time'].head()"
   ]
  },
  {
   "cell_type": "code",
   "execution_count": 22,
   "metadata": {},
   "outputs": [
    {
     "data": {
      "text/plain": [
       "0    1.0\n",
       "1    1.0\n",
       "2    1.0\n",
       "3    1.0\n",
       "4    1.0\n",
       "Name: Date (MM/DD/YYYY), dtype: float64"
      ]
     },
     "execution_count": 22,
     "metadata": {},
     "output_type": "execute_result"
    }
   ],
   "source": [
    "# extract a day series from the Date column\n",
    "# note that it must be of type time-series\n",
    "date = pd.to_datetime(airport['Date (MM/DD/YYYY)'])\n",
    "date.dt.day.head()"
   ]
  },
  {
   "cell_type": "code",
   "execution_count": 24,
   "metadata": {},
   "outputs": [
    {
     "data": {
      "text/plain": [
       "0   2015-07-01\n",
       "1   2015-07-01\n",
       "2   2015-07-01\n",
       "3   2015-07-01\n",
       "4   2015-07-01\n",
       "Name: Date (MM/DD/YYYY), dtype: datetime64[ns]"
      ]
     },
     "execution_count": 24,
     "metadata": {},
     "output_type": "execute_result"
    }
   ],
   "source": [
    "date.head()"
   ]
  },
  {
   "cell_type": "markdown",
   "metadata": {},
   "source": [
    "When using **`.to_datetime`**, the col by itself is converted into datetime, but not in the df. \n",
    "\n",
    "------------------\n",
    "**NOTE**: If you want to convert a col to datetime and index it use:\n",
    "\n",
    "**`df.index = pd.to_datetime(df['col'])`**\n",
    "\n",
    "--------------------\n",
    "\n",
    "### Combine Date column with Time column"
   ]
  },
  {
   "cell_type": "code",
   "execution_count": 25,
   "metadata": {},
   "outputs": [
    {
     "data": {
      "text/plain": [
       "33    2015-07-01 05:43:00\n",
       "55    2015-07-01 16:27:00\n",
       "91    2015-07-02 05:47:00\n",
       "113   2015-07-02 16:23:00\n",
       "134   2015-07-03 05:30:00\n",
       "dtype: datetime64[ns]"
      ]
     },
     "execution_count": 25,
     "metadata": {},
     "output_type": "execute_result"
    }
   ],
   "source": [
    "# Build a Boolean mask to filter out all the 'LAX' departure flights\n",
    "mask = airport['Destination Airport '] == 'LAX'\n",
    "\n",
    "# Use the mask to subset the data: la\n",
    "la = airport[mask]\n",
    "\n",
    "# Combine two columns of data to create a datetime series\n",
    "times_tz_none = pd.to_datetime( la['Date (MM/DD/YYYY)'] + ' ' + la['Wheels-off Time'] )\n",
    "\n",
    "times_tz_none.head()"
   ]
  },
  {
   "cell_type": "markdown",
   "metadata": {},
   "source": [
    "\n",
    "**Localize Data Time**\n",
    "\n",
    "* **`.tz_localize`**"
   ]
  },
  {
   "cell_type": "code",
   "execution_count": 158,
   "metadata": {},
   "outputs": [
    {
     "data": {
      "text/plain": [
       "33    2015-07-01 05:43:00-05:00\n",
       "55    2015-07-01 16:27:00-05:00\n",
       "91    2015-07-02 05:47:00-05:00\n",
       "113   2015-07-02 16:23:00-05:00\n",
       "134   2015-07-03 05:30:00-05:00\n",
       "dtype: datetime64[ns, US/Central]"
      ]
     },
     "execution_count": 158,
     "metadata": {},
     "output_type": "execute_result"
    }
   ],
   "source": [
    "# Localize the time to US/Central: times_tz_central\n",
    "times_tz_central = times_tz_none.dt.tz_localize('US/Central')\n",
    "times_tz_central.head()"
   ]
  },
  {
   "cell_type": "code",
   "execution_count": 161,
   "metadata": {},
   "outputs": [
    {
     "data": {
      "text/plain": [
       "33    2015-07-01 03:43:00-07:00\n",
       "55    2015-07-01 14:27:00-07:00\n",
       "91    2015-07-02 03:47:00-07:00\n",
       "113   2015-07-02 14:23:00-07:00\n",
       "134   2015-07-03 03:30:00-07:00\n",
       "dtype: datetime64[ns, US/Pacific]"
      ]
     },
     "execution_count": 161,
     "metadata": {},
     "output_type": "execute_result"
    }
   ],
   "source": [
    "# Convert the datetimes from US/Central to US/Pacific\n",
    "times_tz_pacific = times_tz_central.dt.tz_convert('US/Pacific')\n",
    "times_tz_pacific.head()"
   ]
  },
  {
   "cell_type": "markdown",
   "metadata": {},
   "source": [
    "### Visualizing pandas time series\n",
    "\n",
    "If the index of the df is a time series index, then plotting the time series is easy in pandas. You only need to slice the portion that you need to plot and pandas will take care of labeling the x-axis and fitting the plot. Notice how the x-axis labels were adjusted between the first and decond plot below"
   ]
  },
  {
   "cell_type": "code",
   "execution_count": 14,
   "metadata": {},
   "outputs": [
    {
     "data": {
      "text/html": [
       "<div>\n",
       "<style scoped>\n",
       "    .dataframe tbody tr th:only-of-type {\n",
       "        vertical-align: middle;\n",
       "    }\n",
       "\n",
       "    .dataframe tbody tr th {\n",
       "        vertical-align: top;\n",
       "    }\n",
       "\n",
       "    .dataframe thead th {\n",
       "        text-align: right;\n",
       "    }\n",
       "</style>\n",
       "<table border=\"1\" class=\"dataframe\">\n",
       "  <thead>\n",
       "    <tr style=\"text-align: right;\">\n",
       "      <th></th>\n",
       "      <th>Temperature</th>\n",
       "    </tr>\n",
       "  </thead>\n",
       "  <tbody>\n",
       "    <tr>\n",
       "      <th>2019-05-05 19:00:00</th>\n",
       "      <td>84</td>\n",
       "    </tr>\n",
       "    <tr>\n",
       "      <th>2019-05-05 20:00:00</th>\n",
       "      <td>4</td>\n",
       "    </tr>\n",
       "    <tr>\n",
       "      <th>2019-05-05 21:00:00</th>\n",
       "      <td>61</td>\n",
       "    </tr>\n",
       "    <tr>\n",
       "      <th>2019-05-05 22:00:00</th>\n",
       "      <td>23</td>\n",
       "    </tr>\n",
       "    <tr>\n",
       "      <th>2019-05-05 23:00:00</th>\n",
       "      <td>34</td>\n",
       "    </tr>\n",
       "  </tbody>\n",
       "</table>\n",
       "</div>"
      ],
      "text/plain": [
       "                     Temperature\n",
       "2019-05-05 19:00:00           84\n",
       "2019-05-05 20:00:00            4\n",
       "2019-05-05 21:00:00           61\n",
       "2019-05-05 22:00:00           23\n",
       "2019-05-05 23:00:00           34"
      ]
     },
     "execution_count": 14,
     "metadata": {},
     "output_type": "execute_result"
    }
   ],
   "source": [
    "date = pd.date_range('1/1/2019', periods=3000,freq='H')\n",
    "temperature = np.random.randint(0,100,size=(3000*1))\n",
    "df = pd.DataFrame({'Temperature':temperature},index=date)\n",
    "df.tail()"
   ]
  },
  {
   "cell_type": "code",
   "execution_count": 15,
   "metadata": {},
   "outputs": [
    {
     "data": {
      "text/plain": [
       "DatetimeIndex(['2019-01-01 00:00:00', '2019-01-01 01:00:00',\n",
       "               '2019-01-01 02:00:00', '2019-01-01 03:00:00',\n",
       "               '2019-01-01 04:00:00', '2019-01-01 05:00:00',\n",
       "               '2019-01-01 06:00:00', '2019-01-01 07:00:00',\n",
       "               '2019-01-01 08:00:00', '2019-01-01 09:00:00',\n",
       "               ...\n",
       "               '2019-05-05 14:00:00', '2019-05-05 15:00:00',\n",
       "               '2019-05-05 16:00:00', '2019-05-05 17:00:00',\n",
       "               '2019-05-05 18:00:00', '2019-05-05 19:00:00',\n",
       "               '2019-05-05 20:00:00', '2019-05-05 21:00:00',\n",
       "               '2019-05-05 22:00:00', '2019-05-05 23:00:00'],\n",
       "              dtype='datetime64[ns]', length=3000, freq='H')"
      ]
     },
     "execution_count": 15,
     "metadata": {},
     "output_type": "execute_result"
    }
   ],
   "source": [
    "df.index"
   ]
  },
  {
   "cell_type": "code",
   "execution_count": 17,
   "metadata": {},
   "outputs": [
    {
     "data": {
      "image/png": "[encoded data removed]",
      "text/plain": [
       "<Figure size 432x288 with 1 Axes>"
      ]
     },
     "metadata": {
      "needs_background": "light"
     },
     "output_type": "display_data"
    }
   ],
   "source": [
    "# Plot the summer data\n",
    "df.Temperature['2019-Jan':'2019-Mar'].plot()\n",
    "plt.show()"
   ]
  },
  {
   "cell_type": "code",
   "execution_count": 9,
   "metadata": {},
   "outputs": [
    {
     "data": {
      "image/png": "[encoded data removed]",
      "text/plain": [
       "<Figure size 432x288 with 1 Axes>"
      ]
     },
     "metadata": {
      "needs_background": "light"
     },
     "output_type": "display_data"
    }
   ],
   "source": [
    "# Plot the one week data\n",
    "df.Temperature['2019-01-15':'2019-01-22'].plot()\n",
    "plt.show()"
   ]
  },
  {
   "cell_type": "markdown",
   "metadata": {},
   "source": [
    "-----------------------\n",
    "## Categoricals and groupby\n",
    "* **`.groupby()`**\n",
    "\n",
    "**Aggregation/Reduction methods**\n",
    "\n",
    "* **`mean()`**\n",
    "* **`std()`**\n",
    "* **`sum()`**\n",
    "* **`first()/last()`**: first and last row of the group\n",
    "* **`min()/max()`**\n",
    "\n",
    "\n",
    "### Group by a column or mulitple columns"
   ]
  },
  {
   "cell_type": "code",
   "execution_count": 26,
   "metadata": {},
   "outputs": [
    {
     "data": {
      "text/html": [
       "<div>\n",
       "<style scoped>\n",
       "    .dataframe tbody tr th:only-of-type {\n",
       "        vertical-align: middle;\n",
       "    }\n",
       "\n",
       "    .dataframe tbody tr th {\n",
       "        vertical-align: top;\n",
       "    }\n",
       "\n",
       "    .dataframe thead th {\n",
       "        text-align: right;\n",
       "    }\n",
       "</style>\n",
       "<table border=\"1\" class=\"dataframe\">\n",
       "  <thead>\n",
       "    <tr style=\"text-align: right;\">\n",
       "      <th></th>\n",
       "      <th>weekday</th>\n",
       "      <th>city</th>\n",
       "      <th>bread</th>\n",
       "      <th>butter</th>\n",
       "    </tr>\n",
       "  </thead>\n",
       "  <tbody>\n",
       "    <tr>\n",
       "      <th>0</th>\n",
       "      <td>Sun</td>\n",
       "      <td>Austin</td>\n",
       "      <td>139</td>\n",
       "      <td>20</td>\n",
       "    </tr>\n",
       "    <tr>\n",
       "      <th>1</th>\n",
       "      <td>Sun</td>\n",
       "      <td>Dallas</td>\n",
       "      <td>237</td>\n",
       "      <td>45</td>\n",
       "    </tr>\n",
       "    <tr>\n",
       "      <th>2</th>\n",
       "      <td>Mon</td>\n",
       "      <td>Austin</td>\n",
       "      <td>326</td>\n",
       "      <td>70</td>\n",
       "    </tr>\n",
       "    <tr>\n",
       "      <th>3</th>\n",
       "      <td>Mon</td>\n",
       "      <td>Dallas</td>\n",
       "      <td>456</td>\n",
       "      <td>98</td>\n",
       "    </tr>\n",
       "  </tbody>\n",
       "</table>\n",
       "</div>"
      ],
      "text/plain": [
       "  weekday    city  bread  butter\n",
       "0     Sun  Austin    139      20\n",
       "1     Sun  Dallas    237      45\n",
       "2     Mon  Austin    326      70\n",
       "3     Mon  Dallas    456      98"
      ]
     },
     "execution_count": 26,
     "metadata": {},
     "output_type": "execute_result"
    }
   ],
   "source": [
    "sales = pd.DataFrame(\n",
    "    {\n",
    "        'weekday':['Sun','Sun','Mon','Mon'],\n",
    "        'city': ['Austin','Dallas','Austin','Dallas'],\n",
    "        'bread':[139,237,326,456],\n",
    "        'butter':[20,45,70,98]\n",
    "    })\n",
    "sales"
   ]
  },
  {
   "cell_type": "code",
   "execution_count": 18,
   "metadata": {},
   "outputs": [
    {
     "data": {
      "text/html": [
       "<div>\n",
       "<style scoped>\n",
       "    .dataframe tbody tr th:only-of-type {\n",
       "        vertical-align: middle;\n",
       "    }\n",
       "\n",
       "    .dataframe tbody tr th {\n",
       "        vertical-align: top;\n",
       "    }\n",
       "\n",
       "    .dataframe thead th {\n",
       "        text-align: right;\n",
       "    }\n",
       "</style>\n",
       "<table border=\"1\" class=\"dataframe\">\n",
       "  <thead>\n",
       "    <tr style=\"text-align: right;\">\n",
       "      <th></th>\n",
       "      <th>city</th>\n",
       "      <th>bread</th>\n",
       "      <th>butter</th>\n",
       "    </tr>\n",
       "    <tr>\n",
       "      <th>weekday</th>\n",
       "      <th></th>\n",
       "      <th></th>\n",
       "      <th></th>\n",
       "    </tr>\n",
       "  </thead>\n",
       "  <tbody>\n",
       "    <tr>\n",
       "      <th>Mon</th>\n",
       "      <td>2</td>\n",
       "      <td>2</td>\n",
       "      <td>2</td>\n",
       "    </tr>\n",
       "    <tr>\n",
       "      <th>Sun</th>\n",
       "      <td>2</td>\n",
       "      <td>2</td>\n",
       "      <td>2</td>\n",
       "    </tr>\n",
       "  </tbody>\n",
       "</table>\n",
       "</div>"
      ],
      "text/plain": [
       "         city  bread  butter\n",
       "weekday                     \n",
       "Mon         2      2       2\n",
       "Sun         2      2       2"
      ]
     },
     "execution_count": 18,
     "metadata": {},
     "output_type": "execute_result"
    }
   ],
   "source": [
    "# total sales of each type on each weekday\n",
    "sales.groupby('weekday').count()"
   ]
  },
  {
   "cell_type": "markdown",
   "metadata": {},
   "source": [
    "So what the above code did:\n",
    "1. split by `weekday`\n",
    "2. apply **`.count`** function on each group\n",
    "3. combine counts per group"
   ]
  },
  {
   "cell_type": "code",
   "execution_count": 24,
   "metadata": {},
   "outputs": [
    {
     "data": {
      "text/plain": [
       "weekday\n",
       "Mon    782\n",
       "Sun    376\n",
       "Name: bread, dtype: int64"
      ]
     },
     "execution_count": 24,
     "metadata": {},
     "output_type": "execute_result"
    }
   ],
   "source": [
    "# total bread sold on each day\n",
    "sales.groupby('weekday')['bread'].sum()"
   ]
  },
  {
   "cell_type": "code",
   "execution_count": 25,
   "metadata": {},
   "outputs": [
    {
     "data": {
      "text/html": [
       "<div>\n",
       "<style scoped>\n",
       "    .dataframe tbody tr th:only-of-type {\n",
       "        vertical-align: middle;\n",
       "    }\n",
       "\n",
       "    .dataframe tbody tr th {\n",
       "        vertical-align: top;\n",
       "    }\n",
       "\n",
       "    .dataframe thead th {\n",
       "        text-align: right;\n",
       "    }\n",
       "</style>\n",
       "<table border=\"1\" class=\"dataframe\">\n",
       "  <thead>\n",
       "    <tr style=\"text-align: right;\">\n",
       "      <th></th>\n",
       "      <th>bread</th>\n",
       "      <th>butter</th>\n",
       "    </tr>\n",
       "    <tr>\n",
       "      <th>weekday</th>\n",
       "      <th></th>\n",
       "      <th></th>\n",
       "    </tr>\n",
       "  </thead>\n",
       "  <tbody>\n",
       "    <tr>\n",
       "      <th>Mon</th>\n",
       "      <td>782</td>\n",
       "      <td>168</td>\n",
       "    </tr>\n",
       "    <tr>\n",
       "      <th>Sun</th>\n",
       "      <td>376</td>\n",
       "      <td>65</td>\n",
       "    </tr>\n",
       "  </tbody>\n",
       "</table>\n",
       "</div>"
      ],
      "text/plain": [
       "         bread  butter\n",
       "weekday               \n",
       "Mon        782     168\n",
       "Sun        376      65"
      ]
     },
     "execution_count": 25,
     "metadata": {},
     "output_type": "execute_result"
    }
   ],
   "source": [
    "# total bread and butter sold on each day\n",
    "sales.groupby('weekday')[['bread','butter']].sum()"
   ]
  },
  {
   "cell_type": "code",
   "execution_count": 34,
   "metadata": {},
   "outputs": [
    {
     "data": {
      "text/html": [
       "<div>\n",
       "<style scoped>\n",
       "    .dataframe tbody tr th:only-of-type {\n",
       "        vertical-align: middle;\n",
       "    }\n",
       "\n",
       "    .dataframe tbody tr th {\n",
       "        vertical-align: top;\n",
       "    }\n",
       "\n",
       "    .dataframe thead th {\n",
       "        text-align: right;\n",
       "    }\n",
       "</style>\n",
       "<table border=\"1\" class=\"dataframe\">\n",
       "  <thead>\n",
       "    <tr style=\"text-align: right;\">\n",
       "      <th></th>\n",
       "      <th>bread</th>\n",
       "      <th>butter</th>\n",
       "    </tr>\n",
       "    <tr>\n",
       "      <th>city</th>\n",
       "      <th></th>\n",
       "      <th></th>\n",
       "    </tr>\n",
       "  </thead>\n",
       "  <tbody>\n",
       "    <tr>\n",
       "      <th>Austin</th>\n",
       "      <td>326</td>\n",
       "      <td>70</td>\n",
       "    </tr>\n",
       "    <tr>\n",
       "      <th>Dallas</th>\n",
       "      <td>456</td>\n",
       "      <td>98</td>\n",
       "    </tr>\n",
       "  </tbody>\n",
       "</table>\n",
       "</div>"
      ],
      "text/plain": [
       "        bread  butter\n",
       "city                 \n",
       "Austin    326      70\n",
       "Dallas    456      98"
      ]
     },
     "execution_count": 34,
     "metadata": {},
     "output_type": "execute_result"
    }
   ],
   "source": [
    "# max amount of bread and butter for each city\n",
    "sales.groupby('city')[['bread','butter']].max()"
   ]
  },
  {
   "cell_type": "markdown",
   "metadata": {},
   "source": [
    "### Multilevel groupby"
   ]
  },
  {
   "cell_type": "code",
   "execution_count": 51,
   "metadata": {},
   "outputs": [
    {
     "data": {
      "text/html": [
       "<div>\n",
       "<style scoped>\n",
       "    .dataframe tbody tr th:only-of-type {\n",
       "        vertical-align: middle;\n",
       "    }\n",
       "\n",
       "    .dataframe tbody tr th {\n",
       "        vertical-align: top;\n",
       "    }\n",
       "\n",
       "    .dataframe thead th {\n",
       "        text-align: right;\n",
       "    }\n",
       "</style>\n",
       "<table border=\"1\" class=\"dataframe\">\n",
       "  <thead>\n",
       "    <tr style=\"text-align: right;\">\n",
       "      <th></th>\n",
       "      <th></th>\n",
       "      <th>bread</th>\n",
       "      <th>butter</th>\n",
       "    </tr>\n",
       "    <tr>\n",
       "      <th>city</th>\n",
       "      <th>weekday</th>\n",
       "      <th></th>\n",
       "      <th></th>\n",
       "    </tr>\n",
       "  </thead>\n",
       "  <tbody>\n",
       "    <tr>\n",
       "      <th rowspan=\"2\" valign=\"top\">Austin</th>\n",
       "      <th>Mon</th>\n",
       "      <td>326</td>\n",
       "      <td>70</td>\n",
       "    </tr>\n",
       "    <tr>\n",
       "      <th>Sun</th>\n",
       "      <td>139</td>\n",
       "      <td>20</td>\n",
       "    </tr>\n",
       "    <tr>\n",
       "      <th rowspan=\"2\" valign=\"top\">Dallas</th>\n",
       "      <th>Mon</th>\n",
       "      <td>456</td>\n",
       "      <td>98</td>\n",
       "    </tr>\n",
       "    <tr>\n",
       "      <th>Sun</th>\n",
       "      <td>237</td>\n",
       "      <td>45</td>\n",
       "    </tr>\n",
       "  </tbody>\n",
       "</table>\n",
       "</div>"
      ],
      "text/plain": [
       "                bread  butter\n",
       "city   weekday               \n",
       "Austin Mon        326      70\n",
       "       Sun        139      20\n",
       "Dallas Mon        456      98\n",
       "       Sun        237      45"
      ]
     },
     "execution_count": 51,
     "metadata": {},
     "output_type": "execute_result"
    }
   ],
   "source": [
    "# average amount of bread and butter bought at each of the two\n",
    "#locations on each of the weekday\n",
    "sales.groupby(['city','weekday']).mean()\n",
    "\n",
    "# this results in a sorted multilevel index"
   ]
  },
  {
   "cell_type": "markdown",
   "metadata": {},
   "source": [
    "If the df has a *mulitlevel* col indexes, use **`level`** parameter in `groupby` to group your df by the given level of indexes"
   ]
  },
  {
   "cell_type": "code",
   "execution_count": 64,
   "metadata": {},
   "outputs": [
    {
     "data": {
      "text/html": [
       "<div>\n",
       "<style scoped>\n",
       "    .dataframe tbody tr th:only-of-type {\n",
       "        vertical-align: middle;\n",
       "    }\n",
       "\n",
       "    .dataframe tbody tr th {\n",
       "        vertical-align: top;\n",
       "    }\n",
       "\n",
       "    .dataframe thead th {\n",
       "        text-align: right;\n",
       "    }\n",
       "</style>\n",
       "<table border=\"1\" class=\"dataframe\">\n",
       "  <thead>\n",
       "    <tr style=\"text-align: right;\">\n",
       "      <th></th>\n",
       "      <th></th>\n",
       "      <th>bread</th>\n",
       "      <th>butter</th>\n",
       "    </tr>\n",
       "    <tr>\n",
       "      <th>weekday</th>\n",
       "      <th>city</th>\n",
       "      <th></th>\n",
       "      <th></th>\n",
       "    </tr>\n",
       "  </thead>\n",
       "  <tbody>\n",
       "    <tr>\n",
       "      <th rowspan=\"2\" valign=\"top\">Sun</th>\n",
       "      <th>Austin</th>\n",
       "      <td>139</td>\n",
       "      <td>20</td>\n",
       "    </tr>\n",
       "    <tr>\n",
       "      <th>Dallas</th>\n",
       "      <td>237</td>\n",
       "      <td>45</td>\n",
       "    </tr>\n",
       "    <tr>\n",
       "      <th rowspan=\"2\" valign=\"top\">Mon</th>\n",
       "      <th>Austin</th>\n",
       "      <td>326</td>\n",
       "      <td>70</td>\n",
       "    </tr>\n",
       "    <tr>\n",
       "      <th>Dallas</th>\n",
       "      <td>456</td>\n",
       "      <td>98</td>\n",
       "    </tr>\n",
       "  </tbody>\n",
       "</table>\n",
       "</div>"
      ],
      "text/plain": [
       "                bread  butter\n",
       "weekday city                 \n",
       "Sun     Austin    139      20\n",
       "        Dallas    237      45\n",
       "Mon     Austin    326      70\n",
       "        Dallas    456      98"
      ]
     },
     "execution_count": 64,
     "metadata": {},
     "output_type": "execute_result"
    }
   ],
   "source": [
    "sales = sales.set_index(['weekday','city'])\n",
    "sales"
   ]
  },
  {
   "cell_type": "code",
   "execution_count": 65,
   "metadata": {},
   "outputs": [
    {
     "data": {
      "text/html": [
       "<div>\n",
       "<style scoped>\n",
       "    .dataframe tbody tr th:only-of-type {\n",
       "        vertical-align: middle;\n",
       "    }\n",
       "\n",
       "    .dataframe tbody tr th {\n",
       "        vertical-align: top;\n",
       "    }\n",
       "\n",
       "    .dataframe thead th {\n",
       "        text-align: right;\n",
       "    }\n",
       "</style>\n",
       "<table border=\"1\" class=\"dataframe\">\n",
       "  <thead>\n",
       "    <tr style=\"text-align: right;\">\n",
       "      <th></th>\n",
       "      <th></th>\n",
       "      <th>bread</th>\n",
       "      <th>butter</th>\n",
       "    </tr>\n",
       "    <tr>\n",
       "      <th>weekday</th>\n",
       "      <th>city</th>\n",
       "      <th></th>\n",
       "      <th></th>\n",
       "    </tr>\n",
       "  </thead>\n",
       "  <tbody>\n",
       "    <tr>\n",
       "      <th rowspan=\"2\" valign=\"top\">Mon</th>\n",
       "      <th>Austin</th>\n",
       "      <td>326</td>\n",
       "      <td>70</td>\n",
       "    </tr>\n",
       "    <tr>\n",
       "      <th>Dallas</th>\n",
       "      <td>456</td>\n",
       "      <td>98</td>\n",
       "    </tr>\n",
       "    <tr>\n",
       "      <th rowspan=\"2\" valign=\"top\">Sun</th>\n",
       "      <th>Austin</th>\n",
       "      <td>139</td>\n",
       "      <td>20</td>\n",
       "    </tr>\n",
       "    <tr>\n",
       "      <th>Dallas</th>\n",
       "      <td>237</td>\n",
       "      <td>45</td>\n",
       "    </tr>\n",
       "  </tbody>\n",
       "</table>\n",
       "</div>"
      ],
      "text/plain": [
       "                bread  butter\n",
       "weekday city                 \n",
       "Mon     Austin    326      70\n",
       "        Dallas    456      98\n",
       "Sun     Austin    139      20\n",
       "        Dallas    237      45"
      ]
     },
     "execution_count": 65,
     "metadata": {},
     "output_type": "execute_result"
    }
   ],
   "source": [
    "sales = sales.sort_index()\n",
    "sales"
   ]
  },
  {
   "cell_type": "code",
   "execution_count": 68,
   "metadata": {},
   "outputs": [
    {
     "data": {
      "text/html": [
       "<div>\n",
       "<style scoped>\n",
       "    .dataframe tbody tr th:only-of-type {\n",
       "        vertical-align: middle;\n",
       "    }\n",
       "\n",
       "    .dataframe tbody tr th {\n",
       "        vertical-align: top;\n",
       "    }\n",
       "\n",
       "    .dataframe thead th {\n",
       "        text-align: right;\n",
       "    }\n",
       "</style>\n",
       "<table border=\"1\" class=\"dataframe\">\n",
       "  <thead>\n",
       "    <tr style=\"text-align: right;\">\n",
       "      <th></th>\n",
       "      <th></th>\n",
       "      <th>bread</th>\n",
       "      <th>butter</th>\n",
       "    </tr>\n",
       "    <tr>\n",
       "      <th>city</th>\n",
       "      <th>weekday</th>\n",
       "      <th></th>\n",
       "      <th></th>\n",
       "    </tr>\n",
       "  </thead>\n",
       "  <tbody>\n",
       "    <tr>\n",
       "      <th rowspan=\"2\" valign=\"top\">Austin</th>\n",
       "      <th>Mon</th>\n",
       "      <td>1</td>\n",
       "      <td>1</td>\n",
       "    </tr>\n",
       "    <tr>\n",
       "      <th>Sun</th>\n",
       "      <td>1</td>\n",
       "      <td>1</td>\n",
       "    </tr>\n",
       "    <tr>\n",
       "      <th rowspan=\"2\" valign=\"top\">Dallas</th>\n",
       "      <th>Mon</th>\n",
       "      <td>1</td>\n",
       "      <td>1</td>\n",
       "    </tr>\n",
       "    <tr>\n",
       "      <th>Sun</th>\n",
       "      <td>1</td>\n",
       "      <td>1</td>\n",
       "    </tr>\n",
       "  </tbody>\n",
       "</table>\n",
       "</div>"
      ],
      "text/plain": [
       "                bread  butter\n",
       "city   weekday               \n",
       "Austin Mon          1       1\n",
       "       Sun          1       1\n",
       "Dallas Mon          1       1\n",
       "       Sun          1       1"
      ]
     },
     "execution_count": 68,
     "metadata": {},
     "output_type": "execute_result"
    }
   ],
   "source": [
    "# notice the change in the index level\n",
    "sales.groupby(level=['city','weekday']).count()"
   ]
  },
  {
   "cell_type": "markdown",
   "metadata": {},
   "source": [
    "### Grouping by another series\n",
    "\n",
    "You can use any other Series to group your data by; it doesnt have to be one of the df columns. This will work as long as the Series has identical index to the df"
   ]
  },
  {
   "cell_type": "code",
   "execution_count": 27,
   "metadata": {},
   "outputs": [
    {
     "data": {
      "text/html": [
       "<div>\n",
       "<style scoped>\n",
       "    .dataframe tbody tr th:only-of-type {\n",
       "        vertical-align: middle;\n",
       "    }\n",
       "\n",
       "    .dataframe tbody tr th {\n",
       "        vertical-align: top;\n",
       "    }\n",
       "\n",
       "    .dataframe thead th {\n",
       "        text-align: right;\n",
       "    }\n",
       "</style>\n",
       "<table border=\"1\" class=\"dataframe\">\n",
       "  <thead>\n",
       "    <tr style=\"text-align: right;\">\n",
       "      <th></th>\n",
       "      <th>index</th>\n",
       "      <th>weekday</th>\n",
       "      <th>city</th>\n",
       "      <th>bread</th>\n",
       "      <th>butter</th>\n",
       "    </tr>\n",
       "  </thead>\n",
       "  <tbody>\n",
       "    <tr>\n",
       "      <th>0</th>\n",
       "      <td>0</td>\n",
       "      <td>Sun</td>\n",
       "      <td>Austin</td>\n",
       "      <td>139</td>\n",
       "      <td>20</td>\n",
       "    </tr>\n",
       "    <tr>\n",
       "      <th>1</th>\n",
       "      <td>1</td>\n",
       "      <td>Sun</td>\n",
       "      <td>Dallas</td>\n",
       "      <td>237</td>\n",
       "      <td>45</td>\n",
       "    </tr>\n",
       "    <tr>\n",
       "      <th>2</th>\n",
       "      <td>2</td>\n",
       "      <td>Mon</td>\n",
       "      <td>Austin</td>\n",
       "      <td>326</td>\n",
       "      <td>70</td>\n",
       "    </tr>\n",
       "    <tr>\n",
       "      <th>3</th>\n",
       "      <td>3</td>\n",
       "      <td>Mon</td>\n",
       "      <td>Dallas</td>\n",
       "      <td>456</td>\n",
       "      <td>98</td>\n",
       "    </tr>\n",
       "  </tbody>\n",
       "</table>\n",
       "</div>"
      ],
      "text/plain": [
       "   index weekday    city  bread  butter\n",
       "0      0     Sun  Austin    139      20\n",
       "1      1     Sun  Dallas    237      45\n",
       "2      2     Mon  Austin    326      70\n",
       "3      3     Mon  Dallas    456      98"
      ]
     },
     "execution_count": 27,
     "metadata": {},
     "output_type": "execute_result"
    }
   ],
   "source": [
    "sales = sales.reset_index()\n",
    "sales"
   ]
  },
  {
   "cell_type": "code",
   "execution_count": 70,
   "metadata": {},
   "outputs": [
    {
     "data": {
      "text/plain": [
       "0    Moustafa\n",
       "1      Fatoom\n",
       "2    Shareena\n",
       "3       Israa\n",
       "dtype: object"
      ]
     },
     "execution_count": 70,
     "metadata": {},
     "output_type": "execute_result"
    }
   ],
   "source": [
    "customers = pd.Series(['Moustafa','Fatoom','Shareena','Israa'])\n",
    "customers"
   ]
  },
  {
   "cell_type": "code",
   "execution_count": 71,
   "metadata": {},
   "outputs": [
    {
     "data": {
      "text/plain": [
       "Fatoom      456\n",
       "Israa       237\n",
       "Moustafa    326\n",
       "Shareena    139\n",
       "Name: bread, dtype: int64"
      ]
     },
     "execution_count": 71,
     "metadata": {},
     "output_type": "execute_result"
    }
   ],
   "source": [
    "sales.groupby(customers)['bread'].sum()"
   ]
  },
  {
   "cell_type": "markdown",
   "metadata": {},
   "source": [
    "**Find the number of distinct values**\n",
    "\n",
    "* **`.nunique()`**"
   ]
  },
  {
   "cell_type": "code",
   "execution_count": 30,
   "metadata": {},
   "outputs": [
    {
     "data": {
      "text/plain": [
       "city\n",
       "Austin    2\n",
       "Dallas    2\n",
       "Name: bread, dtype: int64"
      ]
     },
     "execution_count": 30,
     "metadata": {},
     "output_type": "execute_result"
    }
   ],
   "source": [
    "sales.groupby('city')['bread'].nunique()"
   ]
  },
  {
   "cell_type": "markdown",
   "metadata": {},
   "source": [
    "**Extract the distinct values**\n",
    "\n",
    "* **`.unique()`**"
   ]
  },
  {
   "cell_type": "code",
   "execution_count": 31,
   "metadata": {},
   "outputs": [
    {
     "data": {
      "text/plain": [
       "city\n",
       "Austin    [139, 326]\n",
       "Dallas    [237, 456]\n",
       "Name: bread, dtype: object"
      ]
     },
     "execution_count": 31,
     "metadata": {},
     "output_type": "execute_result"
    }
   ],
   "source": [
    "sales.groupby('city')['bread'].unique()"
   ]
  },
  {
   "cell_type": "markdown",
   "metadata": {},
   "source": [
    "### Multiple aggregations\n",
    "* **`.agg()`**\n",
    "\n",
    "The `agg` function can be used with:\n",
    "1. list of strings of the agg methods\n",
    "2. any function taking a series as an input and returning a single value (aggregation/reduction)\n",
    "3. dictionary input, with the keys being the col names, and agg method is the value to apply to each col"
   ]
  },
  {
   "cell_type": "code",
   "execution_count": 88,
   "metadata": {},
   "outputs": [
    {
     "data": {
      "text/html": [
       "<div>\n",
       "<style scoped>\n",
       "    .dataframe tbody tr th:only-of-type {\n",
       "        vertical-align: middle;\n",
       "    }\n",
       "\n",
       "    .dataframe tbody tr th {\n",
       "        vertical-align: top;\n",
       "    }\n",
       "\n",
       "    .dataframe thead tr th {\n",
       "        text-align: left;\n",
       "    }\n",
       "\n",
       "    .dataframe thead tr:last-of-type th {\n",
       "        text-align: right;\n",
       "    }\n",
       "</style>\n",
       "<table border=\"1\" class=\"dataframe\">\n",
       "  <thead>\n",
       "    <tr>\n",
       "      <th></th>\n",
       "      <th colspan=\"2\" halign=\"left\">bread</th>\n",
       "      <th colspan=\"2\" halign=\"left\">butter</th>\n",
       "    </tr>\n",
       "    <tr>\n",
       "      <th></th>\n",
       "      <th>max</th>\n",
       "      <th>sum</th>\n",
       "      <th>max</th>\n",
       "      <th>sum</th>\n",
       "    </tr>\n",
       "    <tr>\n",
       "      <th>city</th>\n",
       "      <th></th>\n",
       "      <th></th>\n",
       "      <th></th>\n",
       "      <th></th>\n",
       "    </tr>\n",
       "  </thead>\n",
       "  <tbody>\n",
       "    <tr>\n",
       "      <th>Austin</th>\n",
       "      <td>326</td>\n",
       "      <td>465</td>\n",
       "      <td>70</td>\n",
       "      <td>90</td>\n",
       "    </tr>\n",
       "    <tr>\n",
       "      <th>Dallas</th>\n",
       "      <td>456</td>\n",
       "      <td>693</td>\n",
       "      <td>98</td>\n",
       "      <td>143</td>\n",
       "    </tr>\n",
       "  </tbody>\n",
       "</table>\n",
       "</div>"
      ],
      "text/plain": [
       "       bread      butter     \n",
       "         max  sum    max  sum\n",
       "city                         \n",
       "Austin   326  465     70   90\n",
       "Dallas   456  693     98  143"
      ]
     },
     "execution_count": 88,
     "metadata": {},
     "output_type": "execute_result"
    }
   ],
   "source": [
    "# whats the max and sum of bread and butter sales on each city\n",
    "sales.groupby('city')['bread','butter'].agg(['max','sum'])"
   ]
  },
  {
   "cell_type": "code",
   "execution_count": 87,
   "metadata": {},
   "outputs": [
    {
     "data": {
      "text/plain": [
       "city\n",
       "Austin    326\n",
       "Dallas    456\n",
       "Name: (bread, max), dtype: int64"
      ]
     },
     "execution_count": 87,
     "metadata": {},
     "output_type": "execute_result"
    }
   ],
   "source": [
    "# sub-select bread and max\n",
    "aggre = sales.groupby('city')['bread','butter'].agg(['max','sum'])\n",
    "aggre.loc[:,('bread','max')]"
   ]
  },
  {
   "cell_type": "code",
   "execution_count": 86,
   "metadata": {},
   "outputs": [
    {
     "data": {
      "text/html": [
       "<div>\n",
       "<style scoped>\n",
       "    .dataframe tbody tr th:only-of-type {\n",
       "        vertical-align: middle;\n",
       "    }\n",
       "\n",
       "    .dataframe tbody tr th {\n",
       "        vertical-align: top;\n",
       "    }\n",
       "\n",
       "    .dataframe thead th {\n",
       "        text-align: right;\n",
       "    }\n",
       "</style>\n",
       "<table border=\"1\" class=\"dataframe\">\n",
       "  <thead>\n",
       "    <tr style=\"text-align: right;\">\n",
       "      <th></th>\n",
       "      <th>bread</th>\n",
       "      <th>butter</th>\n",
       "    </tr>\n",
       "    <tr>\n",
       "      <th>weekday</th>\n",
       "      <th></th>\n",
       "      <th></th>\n",
       "    </tr>\n",
       "  </thead>\n",
       "  <tbody>\n",
       "    <tr>\n",
       "      <th>Mon</th>\n",
       "      <td>130</td>\n",
       "      <td>28</td>\n",
       "    </tr>\n",
       "    <tr>\n",
       "      <th>Sun</th>\n",
       "      <td>98</td>\n",
       "      <td>25</td>\n",
       "    </tr>\n",
       "  </tbody>\n",
       "</table>\n",
       "</div>"
      ],
      "text/plain": [
       "         bread  butter\n",
       "weekday               \n",
       "Mon        130      28\n",
       "Sun         98      25"
      ]
     },
     "execution_count": 86,
     "metadata": {},
     "output_type": "execute_result"
    }
   ],
   "source": [
    "# write a function to find a the range of a series, and use it \n",
    "# as an aggregation method\n",
    "\n",
    "def data_range(series):\n",
    "    return series.max()-series.min()\n",
    "\n",
    "sales.groupby('weekday')['bread','butter'].agg(data_range)"
   ]
  },
  {
   "cell_type": "code",
   "execution_count": 83,
   "metadata": {},
   "outputs": [
    {
     "data": {
      "text/html": [
       "<div>\n",
       "<style scoped>\n",
       "    .dataframe tbody tr th:only-of-type {\n",
       "        vertical-align: middle;\n",
       "    }\n",
       "\n",
       "    .dataframe tbody tr th {\n",
       "        vertical-align: top;\n",
       "    }\n",
       "\n",
       "    .dataframe thead th {\n",
       "        text-align: right;\n",
       "    }\n",
       "</style>\n",
       "<table border=\"1\" class=\"dataframe\">\n",
       "  <thead>\n",
       "    <tr style=\"text-align: right;\">\n",
       "      <th></th>\n",
       "      <th>bread</th>\n",
       "      <th>butter</th>\n",
       "    </tr>\n",
       "  </thead>\n",
       "  <tbody>\n",
       "    <tr>\n",
       "      <th>Fatoom</th>\n",
       "      <td>456</td>\n",
       "      <td>1</td>\n",
       "    </tr>\n",
       "    <tr>\n",
       "      <th>Israa</th>\n",
       "      <td>237</td>\n",
       "      <td>1</td>\n",
       "    </tr>\n",
       "    <tr>\n",
       "      <th>Moustafa</th>\n",
       "      <td>326</td>\n",
       "      <td>1</td>\n",
       "    </tr>\n",
       "    <tr>\n",
       "      <th>Shareena</th>\n",
       "      <td>139</td>\n",
       "      <td>1</td>\n",
       "    </tr>\n",
       "  </tbody>\n",
       "</table>\n",
       "</div>"
      ],
      "text/plain": [
       "          bread  butter\n",
       "Fatoom      456       1\n",
       "Israa       237       1\n",
       "Moustafa    326       1\n",
       "Shareena    139       1"
      ]
     },
     "execution_count": 83,
     "metadata": {},
     "output_type": "execute_result"
    }
   ],
   "source": [
    "# write a dict to apply different agg methods to bread and butter cols\n",
    "sales.groupby(customers)['bread','butter'].agg({'bread':'sum',\n",
    "                                                 'butter':'count'})"
   ]
  },
  {
   "cell_type": "markdown",
   "metadata": {},
   "source": [
    "### Groupby and transformation\n",
    "* **`.transform()`**: to apply a function to groups of data independently. it actually applies element-wise functions to the selected columns (input = series, ouput = series)"
   ]
  },
  {
   "cell_type": "code",
   "execution_count": 79,
   "metadata": {},
   "outputs": [
    {
     "data": {
      "text/html": [
       "<div>\n",
       "<style scoped>\n",
       "    .dataframe tbody tr th:only-of-type {\n",
       "        vertical-align: middle;\n",
       "    }\n",
       "\n",
       "    .dataframe tbody tr th {\n",
       "        vertical-align: top;\n",
       "    }\n",
       "\n",
       "    .dataframe thead th {\n",
       "        text-align: right;\n",
       "    }\n",
       "</style>\n",
       "<table border=\"1\" class=\"dataframe\">\n",
       "  <thead>\n",
       "    <tr style=\"text-align: right;\">\n",
       "      <th></th>\n",
       "      <th>Year</th>\n",
       "      <th>fertility</th>\n",
       "      <th>life</th>\n",
       "      <th>population</th>\n",
       "      <th>child_mortality</th>\n",
       "      <th>gdp</th>\n",
       "      <th>region</th>\n",
       "    </tr>\n",
       "    <tr>\n",
       "      <th>Country</th>\n",
       "      <th></th>\n",
       "      <th></th>\n",
       "      <th></th>\n",
       "      <th></th>\n",
       "      <th></th>\n",
       "      <th></th>\n",
       "      <th></th>\n",
       "    </tr>\n",
       "  </thead>\n",
       "  <tbody>\n",
       "    <tr>\n",
       "      <th>Afghanistan</th>\n",
       "      <td>2010</td>\n",
       "      <td>5.659</td>\n",
       "      <td>59.612</td>\n",
       "      <td>31411743</td>\n",
       "      <td>105.0</td>\n",
       "      <td>1637.0</td>\n",
       "      <td>South Asia</td>\n",
       "    </tr>\n",
       "    <tr>\n",
       "      <th>Albania</th>\n",
       "      <td>2010</td>\n",
       "      <td>1.741</td>\n",
       "      <td>76.780</td>\n",
       "      <td>3204284</td>\n",
       "      <td>16.6</td>\n",
       "      <td>9374.0</td>\n",
       "      <td>Europe &amp; Central Asia</td>\n",
       "    </tr>\n",
       "    <tr>\n",
       "      <th>Algeria</th>\n",
       "      <td>2010</td>\n",
       "      <td>2.817</td>\n",
       "      <td>70.615</td>\n",
       "      <td>35468208</td>\n",
       "      <td>27.4</td>\n",
       "      <td>12494.0</td>\n",
       "      <td>Middle East &amp; North Africa</td>\n",
       "    </tr>\n",
       "    <tr>\n",
       "      <th>Angola</th>\n",
       "      <td>2010</td>\n",
       "      <td>6.218</td>\n",
       "      <td>50.689</td>\n",
       "      <td>19081912</td>\n",
       "      <td>182.5</td>\n",
       "      <td>7047.0</td>\n",
       "      <td>Sub-Saharan Africa</td>\n",
       "    </tr>\n",
       "    <tr>\n",
       "      <th>Antigua and Barbuda</th>\n",
       "      <td>2010</td>\n",
       "      <td>2.130</td>\n",
       "      <td>75.437</td>\n",
       "      <td>88710</td>\n",
       "      <td>9.9</td>\n",
       "      <td>20567.0</td>\n",
       "      <td>America</td>\n",
       "    </tr>\n",
       "  </tbody>\n",
       "</table>\n",
       "</div>"
      ],
      "text/plain": [
       "                     Year  fertility    life  population  child_mortality  \\\n",
       "Country                                                                     \n",
       "Afghanistan          2010      5.659  59.612    31411743            105.0   \n",
       "Albania              2010      1.741  76.780     3204284             16.6   \n",
       "Algeria              2010      2.817  70.615    35468208             27.4   \n",
       "Angola               2010      6.218  50.689    19081912            182.5   \n",
       "Antigua and Barbuda  2010      2.130  75.437       88710              9.9   \n",
       "\n",
       "                         gdp                      region  \n",
       "Country                                                   \n",
       "Afghanistan           1637.0                  South Asia  \n",
       "Albania               9374.0       Europe & Central Asia  \n",
       "Algeria              12494.0  Middle East & North Africa  \n",
       "Angola                7047.0          Sub-Saharan Africa  \n",
       "Antigua and Barbuda  20567.0                     America  "
      ]
     },
     "execution_count": 79,
     "metadata": {},
     "output_type": "execute_result"
    }
   ],
   "source": [
    "gapminder = pd.read_csv('datasets/gapminder_2010.csv',index_col='Country')\n",
    "gapminder.head()"
   ]
  },
  {
   "cell_type": "code",
   "execution_count": 97,
   "metadata": {},
   "outputs": [
    {
     "data": {
      "text/html": [
       "<div>\n",
       "<style scoped>\n",
       "    .dataframe tbody tr th:only-of-type {\n",
       "        vertical-align: middle;\n",
       "    }\n",
       "\n",
       "    .dataframe tbody tr th {\n",
       "        vertical-align: top;\n",
       "    }\n",
       "\n",
       "    .dataframe thead th {\n",
       "        text-align: right;\n",
       "    }\n",
       "</style>\n",
       "<table border=\"1\" class=\"dataframe\">\n",
       "  <thead>\n",
       "    <tr style=\"text-align: right;\">\n",
       "      <th></th>\n",
       "      <th>life</th>\n",
       "      <th>fertility</th>\n",
       "    </tr>\n",
       "    <tr>\n",
       "      <th>Country</th>\n",
       "      <th></th>\n",
       "      <th></th>\n",
       "    </tr>\n",
       "  </thead>\n",
       "  <tbody>\n",
       "    <tr>\n",
       "      <th>Afghanistan</th>\n",
       "      <td>-1.743601</td>\n",
       "      <td>2.504732</td>\n",
       "    </tr>\n",
       "    <tr>\n",
       "      <th>Albania</th>\n",
       "      <td>0.226367</td>\n",
       "      <td>0.010964</td>\n",
       "    </tr>\n",
       "    <tr>\n",
       "      <th>Algeria</th>\n",
       "      <td>-0.440196</td>\n",
       "      <td>-0.003972</td>\n",
       "    </tr>\n",
       "    <tr>\n",
       "      <th>Angola</th>\n",
       "      <td>-0.882537</td>\n",
       "      <td>1.095653</td>\n",
       "    </tr>\n",
       "    <tr>\n",
       "      <th>Antigua and Barbuda</th>\n",
       "      <td>0.240607</td>\n",
       "      <td>-0.363761</td>\n",
       "    </tr>\n",
       "  </tbody>\n",
       "</table>\n",
       "</div>"
      ],
      "text/plain": [
       "                         life  fertility\n",
       "Country                                 \n",
       "Afghanistan         -1.743601   2.504732\n",
       "Albania              0.226367   0.010964\n",
       "Algeria             -0.440196  -0.003972\n",
       "Angola              -0.882537   1.095653\n",
       "Antigua and Barbuda  0.240607  -0.363761"
      ]
     },
     "execution_count": 97,
     "metadata": {},
     "output_type": "execute_result"
    }
   ],
   "source": [
    "# Import zscore\n",
    "from scipy.stats import zscore\n",
    "\n",
    "gapminder.groupby('region')['life','fertility'].transform(zscore).head()"
   ]
  },
  {
   "cell_type": "markdown",
   "metadata": {},
   "source": [
    "**Filling missing data (imputation) by group**\n",
    "\n",
    "You can also benifit from this feature and use it to fill NaN values with the suitable values for each col"
   ]
  },
  {
   "cell_type": "code",
   "execution_count": 103,
   "metadata": {},
   "outputs": [
    {
     "data": {
      "text/html": [
       "<div>\n",
       "<style scoped>\n",
       "    .dataframe tbody tr th:only-of-type {\n",
       "        vertical-align: middle;\n",
       "    }\n",
       "\n",
       "    .dataframe tbody tr th {\n",
       "        vertical-align: top;\n",
       "    }\n",
       "\n",
       "    .dataframe thead th {\n",
       "        text-align: right;\n",
       "    }\n",
       "</style>\n",
       "<table border=\"1\" class=\"dataframe\">\n",
       "  <thead>\n",
       "    <tr style=\"text-align: right;\">\n",
       "      <th></th>\n",
       "      <th>Year</th>\n",
       "      <th>fertility</th>\n",
       "      <th>life</th>\n",
       "      <th>population</th>\n",
       "      <th>child_mortality</th>\n",
       "      <th>gdp</th>\n",
       "      <th>region</th>\n",
       "    </tr>\n",
       "    <tr>\n",
       "      <th>Country</th>\n",
       "      <th></th>\n",
       "      <th></th>\n",
       "      <th></th>\n",
       "      <th></th>\n",
       "      <th></th>\n",
       "      <th></th>\n",
       "      <th></th>\n",
       "    </tr>\n",
       "  </thead>\n",
       "  <tbody>\n",
       "    <tr>\n",
       "      <th>Afghanistan</th>\n",
       "      <td>2010</td>\n",
       "      <td>5.659</td>\n",
       "      <td>59.612</td>\n",
       "      <td>31411743</td>\n",
       "      <td>105.0</td>\n",
       "      <td>1637.0</td>\n",
       "      <td>South Asia</td>\n",
       "    </tr>\n",
       "    <tr>\n",
       "      <th>Albania</th>\n",
       "      <td>2010</td>\n",
       "      <td>1.741</td>\n",
       "      <td>76.780</td>\n",
       "      <td>3204284</td>\n",
       "      <td>16.6</td>\n",
       "      <td>9374.0</td>\n",
       "      <td>Europe &amp; Central Asia</td>\n",
       "    </tr>\n",
       "    <tr>\n",
       "      <th>Algeria</th>\n",
       "      <td>2010</td>\n",
       "      <td>2.817</td>\n",
       "      <td>70.615</td>\n",
       "      <td>35468208</td>\n",
       "      <td>27.4</td>\n",
       "      <td>12494.0</td>\n",
       "      <td>Middle East &amp; North Africa</td>\n",
       "    </tr>\n",
       "    <tr>\n",
       "      <th>Angola</th>\n",
       "      <td>2010</td>\n",
       "      <td>6.218</td>\n",
       "      <td>50.689</td>\n",
       "      <td>19081912</td>\n",
       "      <td>182.5</td>\n",
       "      <td>7047.0</td>\n",
       "      <td>Sub-Saharan Africa</td>\n",
       "    </tr>\n",
       "    <tr>\n",
       "      <th>Antigua and Barbuda</th>\n",
       "      <td>2010</td>\n",
       "      <td>2.130</td>\n",
       "      <td>75.437</td>\n",
       "      <td>88710</td>\n",
       "      <td>9.9</td>\n",
       "      <td>20567.0</td>\n",
       "      <td>America</td>\n",
       "    </tr>\n",
       "  </tbody>\n",
       "</table>\n",
       "</div>"
      ],
      "text/plain": [
       "                     Year  fertility    life  population  child_mortality  \\\n",
       "Country                                                                     \n",
       "Afghanistan          2010      5.659  59.612    31411743            105.0   \n",
       "Albania              2010      1.741  76.780     3204284             16.6   \n",
       "Algeria              2010      2.817  70.615    35468208             27.4   \n",
       "Angola               2010      6.218  50.689    19081912            182.5   \n",
       "Antigua and Barbuda  2010      2.130  75.437       88710              9.9   \n",
       "\n",
       "                         gdp                      region  \n",
       "Country                                                   \n",
       "Afghanistan           1637.0                  South Asia  \n",
       "Albania               9374.0       Europe & Central Asia  \n",
       "Algeria              12494.0  Middle East & North Africa  \n",
       "Angola                7047.0          Sub-Saharan Africa  \n",
       "Antigua and Barbuda  20567.0                     America  "
      ]
     },
     "execution_count": 103,
     "metadata": {},
     "output_type": "execute_result"
    }
   ],
   "source": [
    "def impute_median(series):\n",
    "    return series.fillna(series.median())\n",
    "\n",
    "gapminder.life = gapminder.groupby('region')['life'].transform(impute_median).head()\n",
    "\n",
    "gapminder.head()"
   ]
  },
  {
   "cell_type": "markdown",
   "metadata": {},
   "source": [
    "**Other transformations with `.apply`**\n",
    "\n",
    "The `.apply()` method when used on a groupby object performs an arbitrary function on each of the groups."
   ]
  },
  {
   "cell_type": "markdown",
   "metadata": {},
   "source": [
    "### Groupby and filtering\n",
    "\n",
    "#### Grouping and filtering with `.apply()`\n",
    "\n",
    "Take the Titanic data set and analyze survival rates from the `'C'` deck"
   ]
  },
  {
   "cell_type": "code",
   "execution_count": 104,
   "metadata": {},
   "outputs": [
    {
     "data": {
      "text/html": [
       "<div>\n",
       "<style scoped>\n",
       "    .dataframe tbody tr th:only-of-type {\n",
       "        vertical-align: middle;\n",
       "    }\n",
       "\n",
       "    .dataframe tbody tr th {\n",
       "        vertical-align: top;\n",
       "    }\n",
       "\n",
       "    .dataframe thead th {\n",
       "        text-align: right;\n",
       "    }\n",
       "</style>\n",
       "<table border=\"1\" class=\"dataframe\">\n",
       "  <thead>\n",
       "    <tr style=\"text-align: right;\">\n",
       "      <th></th>\n",
       "      <th>pclass</th>\n",
       "      <th>survived</th>\n",
       "      <th>name</th>\n",
       "      <th>sex</th>\n",
       "      <th>age</th>\n",
       "      <th>sibsp</th>\n",
       "      <th>parch</th>\n",
       "      <th>ticket</th>\n",
       "      <th>fare</th>\n",
       "      <th>cabin</th>\n",
       "      <th>embarked</th>\n",
       "      <th>boat</th>\n",
       "      <th>body</th>\n",
       "      <th>home.dest</th>\n",
       "    </tr>\n",
       "  </thead>\n",
       "  <tbody>\n",
       "    <tr>\n",
       "      <th>0</th>\n",
       "      <td>1</td>\n",
       "      <td>1</td>\n",
       "      <td>Allen, Miss. Elisabeth Walton</td>\n",
       "      <td>female</td>\n",
       "      <td>29.00</td>\n",
       "      <td>0</td>\n",
       "      <td>0</td>\n",
       "      <td>24160</td>\n",
       "      <td>211.3375</td>\n",
       "      <td>B5</td>\n",
       "      <td>S</td>\n",
       "      <td>2</td>\n",
       "      <td>NaN</td>\n",
       "      <td>St Louis, MO</td>\n",
       "    </tr>\n",
       "    <tr>\n",
       "      <th>1</th>\n",
       "      <td>1</td>\n",
       "      <td>1</td>\n",
       "      <td>Allison, Master. Hudson Trevor</td>\n",
       "      <td>male</td>\n",
       "      <td>0.92</td>\n",
       "      <td>1</td>\n",
       "      <td>2</td>\n",
       "      <td>113781</td>\n",
       "      <td>151.5500</td>\n",
       "      <td>C22 C26</td>\n",
       "      <td>S</td>\n",
       "      <td>11</td>\n",
       "      <td>NaN</td>\n",
       "      <td>Montreal, PQ / Chesterville, ON</td>\n",
       "    </tr>\n",
       "    <tr>\n",
       "      <th>2</th>\n",
       "      <td>1</td>\n",
       "      <td>0</td>\n",
       "      <td>Allison, Miss. Helen Loraine</td>\n",
       "      <td>female</td>\n",
       "      <td>2.00</td>\n",
       "      <td>1</td>\n",
       "      <td>2</td>\n",
       "      <td>113781</td>\n",
       "      <td>151.5500</td>\n",
       "      <td>C22 C26</td>\n",
       "      <td>S</td>\n",
       "      <td>NaN</td>\n",
       "      <td>NaN</td>\n",
       "      <td>Montreal, PQ / Chesterville, ON</td>\n",
       "    </tr>\n",
       "    <tr>\n",
       "      <th>3</th>\n",
       "      <td>1</td>\n",
       "      <td>0</td>\n",
       "      <td>Allison, Mr. Hudson Joshua Creighton</td>\n",
       "      <td>male</td>\n",
       "      <td>30.00</td>\n",
       "      <td>1</td>\n",
       "      <td>2</td>\n",
       "      <td>113781</td>\n",
       "      <td>151.5500</td>\n",
       "      <td>C22 C26</td>\n",
       "      <td>S</td>\n",
       "      <td>NaN</td>\n",
       "      <td>135.0</td>\n",
       "      <td>Montreal, PQ / Chesterville, ON</td>\n",
       "    </tr>\n",
       "    <tr>\n",
       "      <th>4</th>\n",
       "      <td>1</td>\n",
       "      <td>0</td>\n",
       "      <td>Allison, Mrs. Hudson J C (Bessie Waldo Daniels)</td>\n",
       "      <td>female</td>\n",
       "      <td>25.00</td>\n",
       "      <td>1</td>\n",
       "      <td>2</td>\n",
       "      <td>113781</td>\n",
       "      <td>151.5500</td>\n",
       "      <td>C22 C26</td>\n",
       "      <td>S</td>\n",
       "      <td>NaN</td>\n",
       "      <td>NaN</td>\n",
       "      <td>Montreal, PQ / Chesterville, ON</td>\n",
       "    </tr>\n",
       "  </tbody>\n",
       "</table>\n",
       "</div>"
      ],
      "text/plain": [
       "   pclass  survived                                             name     sex  \\\n",
       "0       1         1                    Allen, Miss. Elisabeth Walton  female   \n",
       "1       1         1                   Allison, Master. Hudson Trevor    male   \n",
       "2       1         0                     Allison, Miss. Helen Loraine  female   \n",
       "3       1         0             Allison, Mr. Hudson Joshua Creighton    male   \n",
       "4       1         0  Allison, Mrs. Hudson J C (Bessie Waldo Daniels)  female   \n",
       "\n",
       "     age  sibsp  parch  ticket      fare    cabin embarked boat   body  \\\n",
       "0  29.00      0      0   24160  211.3375       B5        S    2    NaN   \n",
       "1   0.92      1      2  113781  151.5500  C22 C26        S   11    NaN   \n",
       "2   2.00      1      2  113781  151.5500  C22 C26        S  NaN    NaN   \n",
       "3  30.00      1      2  113781  151.5500  C22 C26        S  NaN  135.0   \n",
       "4  25.00      1      2  113781  151.5500  C22 C26        S  NaN    NaN   \n",
       "\n",
       "                         home.dest  \n",
       "0                     St Louis, MO  \n",
       "1  Montreal, PQ / Chesterville, ON  \n",
       "2  Montreal, PQ / Chesterville, ON  \n",
       "3  Montreal, PQ / Chesterville, ON  \n",
       "4  Montreal, PQ / Chesterville, ON  "
      ]
     },
     "execution_count": 104,
     "metadata": {},
     "output_type": "execute_result"
    }
   ],
   "source": [
    "titanic = pd.read_csv(\"datasets/titanic.csv\")\n",
    "titanic.head()"
   ]
  },
  {
   "cell_type": "code",
   "execution_count": null,
   "metadata": {},
   "outputs": [],
   "source": [
    "# Define a function that returns survival rate of class C\n",
    "def c_deck_survival(df_in):\n",
    "    \n",
    "    c_passengers = df_in['cabin'].str.startswith('C').fillna(False)\n",
    "\n",
    "    return df_in.loc[c_passengers, 'survived'].mean()"
   ]
  },
  {
   "cell_type": "code",
   "execution_count": 126,
   "metadata": {},
   "outputs": [
    {
     "data": {
      "text/plain": [
       "sex\n",
       "female    0.913043\n",
       "male      0.312500\n",
       "dtype: float64"
      ]
     },
     "execution_count": 126,
     "metadata": {},
     "output_type": "execute_result"
    }
   ],
   "source": [
    "# Create a groupby object using titanic over the 'sex' column: by_sex\n",
    "titanic.groupby('sex').apply(c_deck_survival)"
   ]
  },
  {
   "cell_type": "markdown",
   "metadata": {},
   "source": [
    "#### Grouping and filtering with `.filter()`\n",
    "\n",
    "filter the df by removing the `pclass` cols where their average `age` is below 25."
   ]
  },
  {
   "cell_type": "code",
   "execution_count": 160,
   "metadata": {},
   "outputs": [
    {
     "data": {
      "text/plain": [
       "pclass\n",
       "1    39.159930\n",
       "2    29.506705\n",
       "3    24.816367\n",
       "Name: age, dtype: float64"
      ]
     },
     "execution_count": 160,
     "metadata": {},
     "output_type": "execute_result"
    }
   ],
   "source": [
    "titanic.groupby('pclass')['age'].mean()\n",
    "\n",
    "# so pclass = 3 is removed"
   ]
  },
  {
   "cell_type": "code",
   "execution_count": 161,
   "metadata": {},
   "outputs": [
    {
     "data": {
      "text/html": [
       "<div>\n",
       "<style scoped>\n",
       "    .dataframe tbody tr th:only-of-type {\n",
       "        vertical-align: middle;\n",
       "    }\n",
       "\n",
       "    .dataframe tbody tr th {\n",
       "        vertical-align: top;\n",
       "    }\n",
       "\n",
       "    .dataframe thead th {\n",
       "        text-align: right;\n",
       "    }\n",
       "</style>\n",
       "<table border=\"1\" class=\"dataframe\">\n",
       "  <thead>\n",
       "    <tr style=\"text-align: right;\">\n",
       "      <th></th>\n",
       "      <th>pclass</th>\n",
       "      <th>survived</th>\n",
       "      <th>name</th>\n",
       "      <th>sex</th>\n",
       "      <th>age</th>\n",
       "      <th>sibsp</th>\n",
       "      <th>parch</th>\n",
       "      <th>ticket</th>\n",
       "      <th>fare</th>\n",
       "      <th>cabin</th>\n",
       "      <th>embarked</th>\n",
       "      <th>boat</th>\n",
       "      <th>body</th>\n",
       "      <th>home.dest</th>\n",
       "    </tr>\n",
       "  </thead>\n",
       "  <tbody>\n",
       "    <tr>\n",
       "      <th>0</th>\n",
       "      <td>1</td>\n",
       "      <td>1</td>\n",
       "      <td>Allen, Miss. Elisabeth Walton</td>\n",
       "      <td>female</td>\n",
       "      <td>29.00</td>\n",
       "      <td>0</td>\n",
       "      <td>0</td>\n",
       "      <td>24160</td>\n",
       "      <td>211.3375</td>\n",
       "      <td>B5</td>\n",
       "      <td>S</td>\n",
       "      <td>2</td>\n",
       "      <td>NaN</td>\n",
       "      <td>St Louis, MO</td>\n",
       "    </tr>\n",
       "    <tr>\n",
       "      <th>1</th>\n",
       "      <td>1</td>\n",
       "      <td>1</td>\n",
       "      <td>Allison, Master. Hudson Trevor</td>\n",
       "      <td>male</td>\n",
       "      <td>0.92</td>\n",
       "      <td>1</td>\n",
       "      <td>2</td>\n",
       "      <td>113781</td>\n",
       "      <td>151.5500</td>\n",
       "      <td>C22 C26</td>\n",
       "      <td>S</td>\n",
       "      <td>11</td>\n",
       "      <td>NaN</td>\n",
       "      <td>Montreal, PQ / Chesterville, ON</td>\n",
       "    </tr>\n",
       "    <tr>\n",
       "      <th>2</th>\n",
       "      <td>1</td>\n",
       "      <td>0</td>\n",
       "      <td>Allison, Miss. Helen Loraine</td>\n",
       "      <td>female</td>\n",
       "      <td>2.00</td>\n",
       "      <td>1</td>\n",
       "      <td>2</td>\n",
       "      <td>113781</td>\n",
       "      <td>151.5500</td>\n",
       "      <td>C22 C26</td>\n",
       "      <td>S</td>\n",
       "      <td>NaN</td>\n",
       "      <td>NaN</td>\n",
       "      <td>Montreal, PQ / Chesterville, ON</td>\n",
       "    </tr>\n",
       "  </tbody>\n",
       "</table>\n",
       "</div>"
      ],
      "text/plain": [
       "   pclass  survived                            name     sex    age  sibsp  \\\n",
       "0       1         1   Allen, Miss. Elisabeth Walton  female  29.00      0   \n",
       "1       1         1  Allison, Master. Hudson Trevor    male   0.92      1   \n",
       "2       1         0    Allison, Miss. Helen Loraine  female   2.00      1   \n",
       "\n",
       "   parch  ticket      fare    cabin embarked boat  body  \\\n",
       "0      0   24160  211.3375       B5        S    2   NaN   \n",
       "1      2  113781  151.5500  C22 C26        S   11   NaN   \n",
       "2      2  113781  151.5500  C22 C26        S  NaN   NaN   \n",
       "\n",
       "                         home.dest  \n",
       "0                     St Louis, MO  \n",
       "1  Montreal, PQ / Chesterville, ON  \n",
       "2  Montreal, PQ / Chesterville, ON  "
      ]
     },
     "execution_count": 161,
     "metadata": {},
     "output_type": "execute_result"
    }
   ],
   "source": [
    "titanic.groupby('pclass').filter(lambda x:x['age'].mean()>25).head(3)"
   ]
  },
  {
   "cell_type": "markdown",
   "metadata": {},
   "source": [
    "#### Filtering and grouping with `.map()`\n",
    "\n",
    "What fraction of children under 10 survived in each `'pclass'`"
   ]
  },
  {
   "cell_type": "code",
   "execution_count": 163,
   "metadata": {},
   "outputs": [
    {
     "data": {
      "text/plain": [
       "age\n",
       "over 10     0.366748\n",
       "under 10    0.609756\n",
       "Name: survived, dtype: float64"
      ]
     },
     "execution_count": 163,
     "metadata": {},
     "output_type": "execute_result"
    }
   ],
   "source": [
    "# Create the Boolean Series: under10\n",
    "under10 = (titanic['age']<10).map({True:'under 10', False:'over 10'})\n",
    "\n",
    "# Group by under10 and compute the survival rate\n",
    "titanic.groupby(under10)['survived'].mean()"
   ]
  },
  {
   "cell_type": "code",
   "execution_count": 164,
   "metadata": {},
   "outputs": [
    {
     "data": {
      "text/plain": [
       "age       pclass\n",
       "over 10   1         0.617555\n",
       "          2         0.380392\n",
       "          3         0.238897\n",
       "under 10  1         0.750000\n",
       "          2         1.000000\n",
       "          3         0.446429\n",
       "Name: survived, dtype: float64"
      ]
     },
     "execution_count": 164,
     "metadata": {},
     "output_type": "execute_result"
    }
   ],
   "source": [
    "# Group by under10 and pclass and compute the survival rate\n",
    "titanic.groupby([under10,'pclass'])['survived'].mean()"
   ]
  }
 ],
 "metadata": {
  "kernelspec": {
   "display_name": "Python 3",
   "language": "python",
   "name": "python3"
  },
  "language_info": {
   "codemirror_mode": {
    "name": "ipython",
    "version": 3
   },
   "file_extension": ".py",
   "mimetype": "text/x-python",
   "name": "python",
   "nbconvert_exporter": "python",
   "pygments_lexer": "ipython3",
   "version": "3.7.1"
  },
  "toc": {
   "base_numbering": 1,
   "nav_menu": {
    "height": "156px",
    "width": "266px"
   },
   "number_sections": false,
   "sideBar": false,
   "skip_h1_title": true,
   "title_cell": "Table of Contents",
   "title_sidebar": "Contents",
   "toc_cell": true,
   "toc_position": {
    "height": "100px",
    "left": "600px",
    "top": "144px",
    "width": "165px"
   },
   "toc_section_display": false,
   "toc_window_display": false
  },
  "varInspector": {
   "cols": {
    "lenName": 16,
    "lenType": 16,
    "lenVar": 40
   },
   "kernels_config": {
    "python": {
     "delete_cmd_postfix": "",
     "delete_cmd_prefix": "del ",
     "library": "var_list.py",
     "varRefreshCmd": "print(var_dic_list())"
    },
    "r": {
     "delete_cmd_postfix": ") ",
     "delete_cmd_prefix": "rm(",
     "library": "var_list.r",
     "varRefreshCmd": "cat(var_dic_list()) "
    }
   },
   "position": {
    "height": "296.667px",
    "left": "909.333px",
    "right": "20px",
    "top": "120px",
    "width": "350.667px"
   },
   "types_to_exclude": [
    "module",
    "function",
    "builtin_function_or_method",
    "instance",
    "_Feature"
   ],
   "window_display": false
  }
 },
 "nbformat": 4,
 "nbformat_minor": 2
}
